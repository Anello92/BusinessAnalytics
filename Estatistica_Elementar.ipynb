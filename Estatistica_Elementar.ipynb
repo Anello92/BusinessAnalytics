{
  "nbformat": 4,
  "nbformat_minor": 0,
  "metadata": {
    "colab": {
      "name": "Estatistica-Elementar",
      "provenance": []
    },
    "kernelspec": {
      "name": "python3",
      "display_name": "Python 3"
    },
    "accelerator": "GPU"
  },
  "cells": [
    {
      "cell_type": "code",
      "metadata": {
        "id": "2h-2I4CviFCR",
        "colab_type": "code",
        "colab": {}
      },
      "source": [
        "# activate R magic\n",
        "%load_ext rpy2.ipython"
      ],
      "execution_count": 0,
      "outputs": []
    },
    {
      "cell_type": "code",
      "metadata": {
        "id": "1Xg-hpSoH5vo",
        "colab_type": "code",
        "colab": {}
      },
      "source": [
        "%%R\n",
        "# Dataset\n",
        "install.packages(\"mlbench\") # Módulo contém dataset de Diabetes\n",
        "library(mlbench) "
      ],
      "execution_count": 0,
      "outputs": []
    },
    {
      "cell_type": "code",
      "metadata": {
        "id": "u0iUrT-2JE29",
        "colab_type": "code",
        "colab": {}
      },
      "source": [
        "%%R\n",
        "data(PimaIndiansDiabetes)"
      ],
      "execution_count": 0,
      "outputs": []
    },
    {
      "cell_type": "code",
      "metadata": {
        "id": "PgTQ1a6-H5uw",
        "colab_type": "code",
        "outputId": "788953ac-7c99-4050-ad98-05d596746adb",
        "colab": {
          "base_uri": "https://localhost:8080/",
          "height": 134
        }
      },
      "source": [
        "%%R\n",
        "# Melhorando o nome do dataset\n",
        "dataset <- PimaIndiansDiabetes\n",
        "head(dataset)"
      ],
      "execution_count": 51,
      "outputs": [
        {
          "output_type": "stream",
          "text": [
            "  pregnant glucose pressure triceps insulin mass pedigree age diabetes\n",
            "1        6     148       72      35       0 33.6    0.627  50      pos\n",
            "2        1      85       66      29       0 26.6    0.351  31      neg\n",
            "3        8     183       64       0       0 23.3    0.672  32      pos\n",
            "4        1      89       66      23      94 28.1    0.167  21      neg\n",
            "5        0     137       40      35     168 43.1    2.288  33      pos\n",
            "6        5     116       74       0       0 25.6    0.201  30      neg\n"
          ],
          "name": "stdout"
        }
      ]
    },
    {
      "cell_type": "code",
      "metadata": {
        "id": "A5RduOY5IcUW",
        "colab_type": "code",
        "outputId": "c14e83f2-8b2c-4d88-fa22-ed8fe2744332",
        "colab": {
          "base_uri": "https://localhost:8080/",
          "height": 33
        }
      },
      "source": [
        "%%R\n",
        "# Dimensões e tipos dos dados\n",
        "# ?dim\n",
        "dim(dataset)"
      ],
      "execution_count": 52,
      "outputs": [
        {
          "output_type": "stream",
          "text": [
            "[1] 768   9\n"
          ],
          "name": "stdout"
        }
      ]
    },
    {
      "cell_type": "code",
      "metadata": {
        "id": "nSn3xW9pIcTh",
        "colab_type": "code",
        "outputId": "d5f00c1b-4b7c-419a-8797-2b34548169cd",
        "colab": {
          "base_uri": "https://localhost:8080/",
          "height": 184
        }
      },
      "source": [
        "%%R\n",
        "str(dataset) # Extrair tipos de dados"
      ],
      "execution_count": 53,
      "outputs": [
        {
          "output_type": "stream",
          "text": [
            "'data.frame':\t768 obs. of  9 variables:\n",
            " $ pregnant: num  6 1 8 1 0 5 3 10 2 8 ...\n",
            " $ glucose : num  148 85 183 89 137 116 78 115 197 125 ...\n",
            " $ pressure: num  72 66 64 66 40 74 50 0 70 96 ...\n",
            " $ triceps : num  35 29 0 23 35 0 32 0 45 0 ...\n",
            " $ insulin : num  0 0 0 94 168 0 88 0 543 0 ...\n",
            " $ mass    : num  33.6 26.6 23.3 28.1 43.1 25.6 31 35.3 30.5 0 ...\n",
            " $ pedigree: num  0.627 0.351 0.672 0.167 2.288 ...\n",
            " $ age     : num  50 31 32 21 33 30 26 29 53 54 ...\n",
            " $ diabetes: Factor w/ 2 levels \"neg\",\"pos\": 2 1 2 1 2 1 2 1 2 2 ...\n"
          ],
          "name": "stdout"
        }
      ]
    },
    {
      "cell_type": "code",
      "metadata": {
        "id": "lktTQkIGIcRc",
        "colab_type": "code",
        "outputId": "ceb2692f-740d-4a9e-8734-a9d8a4c6b2af",
        "colab": {
          "base_uri": "https://localhost:8080/",
          "height": 251
        }
      },
      "source": [
        "%%R\n",
        "# Sumário dos dados\n",
        "summary(dataset)"
      ],
      "execution_count": 54,
      "outputs": [
        {
          "output_type": "stream",
          "text": [
            "    pregnant         glucose         pressure         triceps     \n",
            " Min.   : 0.000   Min.   :  0.0   Min.   :  0.00   Min.   : 0.00  \n",
            " 1st Qu.: 1.000   1st Qu.: 99.0   1st Qu.: 62.00   1st Qu.: 0.00  \n",
            " Median : 3.000   Median :117.0   Median : 72.00   Median :23.00  \n",
            " Mean   : 3.845   Mean   :120.9   Mean   : 69.11   Mean   :20.54  \n",
            " 3rd Qu.: 6.000   3rd Qu.:140.2   3rd Qu.: 80.00   3rd Qu.:32.00  \n",
            " Max.   :17.000   Max.   :199.0   Max.   :122.00   Max.   :99.00  \n",
            "    insulin           mass          pedigree           age        diabetes \n",
            " Min.   :  0.0   Min.   : 0.00   Min.   :0.0780   Min.   :21.00   neg:500  \n",
            " 1st Qu.:  0.0   1st Qu.:27.30   1st Qu.:0.2437   1st Qu.:24.00   pos:268  \n",
            " Median : 30.5   Median :32.00   Median :0.3725   Median :29.00            \n",
            " Mean   : 79.8   Mean   :31.99   Mean   :0.4719   Mean   :33.24            \n",
            " 3rd Qu.:127.2   3rd Qu.:36.60   3rd Qu.:0.6262   3rd Qu.:41.00            \n",
            " Max.   :846.0   Max.   :67.10   Max.   :2.4200   Max.   :81.00            \n"
          ],
          "name": "stdout"
        }
      ]
    },
    {
      "cell_type": "code",
      "metadata": {
        "id": "pYJDoaQTVcQA",
        "colab_type": "code",
        "outputId": "c7401af7-5694-44d4-f8da-baa55c15cef4",
        "colab": {
          "base_uri": "https://localhost:8080/",
          "height": 50
        }
      },
      "source": [
        "%%R\n",
        "summary(dataset$age)"
      ],
      "execution_count": 55,
      "outputs": [
        {
          "output_type": "stream",
          "text": [
            "   Min. 1st Qu.  Median    Mean 3rd Qu.    Max. \n",
            "  21.00   24.00   29.00   33.24   41.00   81.00 \n"
          ],
          "name": "stdout"
        }
      ]
    },
    {
      "cell_type": "code",
      "metadata": {
        "id": "uJI_hyBXIcOt",
        "colab_type": "code",
        "outputId": "75d7bd39-3364-4581-994d-8a7b1918fb54",
        "colab": {
          "base_uri": "https://localhost:8080/",
          "height": 33
        }
      },
      "source": [
        "%%R\n",
        "# A média de uma variável é uma medida numérica da localização central dos valores dos dados. \n",
        "# É a soma de seus valores dividido pela contagem de dados.\n",
        "mean(dataset$age)  "
      ],
      "execution_count": 56,
      "outputs": [
        {
          "output_type": "stream",
          "text": [
            "[1] 33.24089\n"
          ],
          "name": "stdout"
        }
      ]
    },
    {
      "cell_type": "code",
      "metadata": {
        "id": "jtnHCiOuVkSh",
        "colab_type": "code",
        "outputId": "f6e0480b-583b-467a-98b8-8653e53b8830",
        "colab": {
          "base_uri": "https://localhost:8080/",
          "height": 33
        }
      },
      "source": [
        "%%R\n",
        "mean(dataset$age, na.rm = TRUE)  "
      ],
      "execution_count": 57,
      "outputs": [
        {
          "output_type": "stream",
          "text": [
            "[1] 33.24089\n"
          ],
          "name": "stdout"
        }
      ]
    },
    {
      "cell_type": "code",
      "metadata": {
        "id": "kUKuHTScVkPH",
        "colab_type": "code",
        "colab": {}
      },
      "source": [
        "%%R\n",
        "is.na(dataset$age)"
      ],
      "execution_count": 0,
      "outputs": []
    },
    {
      "cell_type": "code",
      "metadata": {
        "id": "l9PRGK2tPnQA",
        "colab_type": "code",
        "outputId": "32b9a5ff-1023-4a7b-ec2d-6173990ac953",
        "colab": {
          "base_uri": "https://localhost:8080/",
          "height": 33
        }
      },
      "source": [
        "%%R\n",
        "# A mediana de uma variável é o valor no meio quando os dados são classificados em ordem crescente. \n",
        "# É uma medida ordinal da localização central dos valores de dados.\n",
        "median(dataset$age) "
      ],
      "execution_count": 59,
      "outputs": [
        {
          "output_type": "stream",
          "text": [
            "[1] 29\n"
          ],
          "name": "stdout"
        }
      ]
    },
    {
      "cell_type": "code",
      "metadata": {
        "id": "NBTyp5GzPnO_",
        "colab_type": "code",
        "outputId": "cd769106-df6a-4353-b19b-f33628144feb",
        "colab": {
          "base_uri": "https://localhost:8080/",
          "height": 50
        }
      },
      "source": [
        "%%R\n",
        "# Existem vários quartis de uma variável. O primeiro quartil, ou quartil inferior, é o valor \n",
        "# que corta os primeiros 25% dos dados quando é classificado em ordem crescente. \n",
        "# O segundo quartil, ou mediana, é o valor que corta os primeiros 50%. \n",
        "# O terceiro quartil, ou quartil superior, é o valor que corta os primeiros 75%.\n",
        "quantile(dataset$age)     "
      ],
      "execution_count": 60,
      "outputs": [
        {
          "output_type": "stream",
          "text": [
            "  0%  25%  50%  75% 100% \n",
            "  21   24   29   41   81 \n"
          ],
          "name": "stdout"
        }
      ]
    },
    {
      "cell_type": "code",
      "metadata": {
        "id": "GvquRceXV0R4",
        "colab_type": "code",
        "outputId": "69376e52-43f6-42f9-b1a5-f484d781c40b",
        "colab": {
          "base_uri": "https://localhost:8080/",
          "height": 50
        }
      },
      "source": [
        "%%R\n",
        "quantile(dataset$age, c(.32, .57, .98)) "
      ],
      "execution_count": 61,
      "outputs": [
        {
          "output_type": "stream",
          "text": [
            "  32%   57%   98% \n",
            "25.00 31.00 64.66 \n"
          ],
          "name": "stdout"
        }
      ]
    },
    {
      "cell_type": "code",
      "metadata": {
        "id": "F6eKMApNPnM0",
        "colab_type": "code",
        "outputId": "64e3c734-140c-4569-f73a-745d885dc842",
        "colab": {
          "base_uri": "https://localhost:8080/",
          "height": 33
        }
      },
      "source": [
        "%%R\n",
        "# Valor máximo e mínimo da variável\n",
        "# O intervalo (range) de uma variável é a diferença de seus maiores e menores valores de dados. \n",
        "# É uma medida de quão distante os dados se espalham.\n",
        "range(dataset$age)"
      ],
      "execution_count": 62,
      "outputs": [
        {
          "output_type": "stream",
          "text": [
            "[1] 21 81\n"
          ],
          "name": "stdout"
        }
      ]
    },
    {
      "cell_type": "code",
      "metadata": {
        "id": "H7kddSvFPnLe",
        "colab_type": "code",
        "outputId": "71a9af97-fec5-4ac4-878f-94efefbad7be",
        "colab": {
          "base_uri": "https://localhost:8080/",
          "height": 33
        }
      },
      "source": [
        "%%R\n",
        "# A variação interquartil de uma variável é a diferença de seus quartis superior e inferior. \n",
        "# É uma medida de quão distante a parte média dos dados se espalha.\n",
        "IQR(dataset$age)"
      ],
      "execution_count": 63,
      "outputs": [
        {
          "output_type": "stream",
          "text": [
            "[1] 17\n"
          ],
          "name": "stdout"
        }
      ]
    },
    {
      "cell_type": "code",
      "metadata": {
        "id": "we6ya5RlIcMW",
        "colab_type": "code",
        "outputId": "56135bea-6da7-4c54-fa40-3baf47d95453",
        "colab": {
          "base_uri": "https://localhost:8080/",
          "height": 33
        }
      },
      "source": [
        "%%R\n",
        "# O quão os dados estão dispersos ao redor da média\n",
        "# A variância é uma medida numérica de como os valores dos dados estão dispersos em torno da média.\n",
        "var(dataset$age)"
      ],
      "execution_count": 64,
      "outputs": [
        {
          "output_type": "stream",
          "text": [
            "[1] 138.303\n"
          ],
          "name": "stdout"
        }
      ]
    },
    {
      "cell_type": "code",
      "metadata": {
        "id": "NlU5EnNTIcLX",
        "colab_type": "code",
        "outputId": "500c558c-5a2f-4e5f-a6b3-21051d9352a8",
        "colab": {
          "base_uri": "https://localhost:8080/",
          "height": 33
        }
      },
      "source": [
        "%%R\n",
        "# Para este exemplo, os dados estão em média 11 anos de distância da média da variável idade\n",
        "# O desvio padrão de uma variável é a raiz quadrada de sua variância.\n",
        "# O desvio padrão mede a dispersão dos seus dados (quão os dados estão distantes da média).\n",
        "# Maior o desvio padrão, maor a dispersão dos dados, maior a distância da média.\n",
        "sd(dataset$age) "
      ],
      "execution_count": 18,
      "outputs": [
        {
          "output_type": "stream",
          "text": [
            "[1] 11.76023\n"
          ],
          "name": "stdout"
        }
      ]
    },
    {
      "cell_type": "code",
      "metadata": {
        "id": "v8BserWRIcI2",
        "colab_type": "code",
        "outputId": "84ad8788-06d5-4d2b-b235-4b6a6943de3d",
        "colab": {
          "base_uri": "https://localhost:8080/",
          "height": 33
        }
      },
      "source": [
        "%%R\n",
        "# A covariância de duas variáveis x e y em um conjunto de dados mede como:\n",
        "# duas variáveis estão linearmente relacionadas. \n",
        "# Uma covariância positiva indicaria uma relação linear positiva entre as variáveis, e uma \n",
        "# covariância negativa indicaria o contrário.\n",
        "cov(dataset$age, dataset$glucose)\n"
      ],
      "execution_count": 65,
      "outputs": [
        {
          "output_type": "stream",
          "text": [
            "[1] 99.08281\n"
          ],
          "name": "stdout"
        }
      ]
    },
    {
      "cell_type": "code",
      "metadata": {
        "id": "e6c5_nRwIcF3",
        "colab_type": "code",
        "outputId": "013652cb-b8a4-464e-a6ec-a5c6168a0464",
        "colab": {
          "base_uri": "https://localhost:8080/",
          "height": 318
        }
      },
      "source": [
        "%%R\n",
        "# O coeficiente de correlação de duas variáveis em um conjunto de dados é igual a sua covariância \n",
        "# dividida pelo produto de seus desvios-padrão individuais. É uma medida normalizada de como os \n",
        "# dois estão linearmente relacionados. Os valores vão de -1 a +1. Valores próximos de zero indicadm \n",
        "# que não há correlação. Valor de -1 indica forte correlação negativa e +1 forte correlação positiva.\n",
        "cor(dataset$age, dataset$glucose)\n",
        "correlacoes <- cor(dataset[,1:8])\n",
        "print(correlacoes)"
      ],
      "execution_count": 20,
      "outputs": [
        {
          "output_type": "stream",
          "text": [
            "            pregnant    glucose   pressure     triceps     insulin       mass\n",
            "pregnant  1.00000000 0.12945867 0.14128198 -0.08167177 -0.07353461 0.01768309\n",
            "glucose   0.12945867 1.00000000 0.15258959  0.05732789  0.33135711 0.22107107\n",
            "pressure  0.14128198 0.15258959 1.00000000  0.20737054  0.08893338 0.28180529\n",
            "triceps  -0.08167177 0.05732789 0.20737054  1.00000000  0.43678257 0.39257320\n",
            "insulin  -0.07353461 0.33135711 0.08893338  0.43678257  1.00000000 0.19785906\n",
            "mass      0.01768309 0.22107107 0.28180529  0.39257320  0.19785906 1.00000000\n",
            "pedigree -0.03352267 0.13733730 0.04126495  0.18392757  0.18507093 0.14064695\n",
            "age       0.54434123 0.26351432 0.23952795 -0.11397026 -0.04216295 0.03624187\n",
            "            pedigree         age\n",
            "pregnant -0.03352267  0.54434123\n",
            "glucose   0.13733730  0.26351432\n",
            "pressure  0.04126495  0.23952795\n",
            "triceps   0.18392757 -0.11397026\n",
            "insulin   0.18507093 -0.04216295\n",
            "mass      0.14064695  0.03624187\n",
            "pedigree  1.00000000  0.03356131\n",
            "age       0.03356131  1.00000000\n"
          ],
          "name": "stdout"
        }
      ]
    },
    {
      "cell_type": "code",
      "metadata": {
        "id": "GjyhJEHiQAPc",
        "colab_type": "code",
        "colab": {}
      },
      "source": [
        "%%R\n",
        "install.packages(\"corrplot\")\n",
        "library(corrplot)\n",
        "corrplot(correlacoes, method = \"circle\")"
      ],
      "execution_count": 0,
      "outputs": []
    },
    {
      "cell_type": "code",
      "metadata": {
        "id": "QGrAJISVQAMY",
        "colab_type": "code",
        "colab": {}
      },
      "source": [
        "%%R\n",
        "# Pacote para as funções skewness e kurtosis\n",
        "install.packages(\"e1071\")\n",
        "library(e1071) "
      ],
      "execution_count": 0,
      "outputs": []
    },
    {
      "cell_type": "markdown",
      "metadata": {
        "id": "wH-mhxmBQJUg",
        "colab_type": "text"
      },
      "source": [
        "Em estatística, a assimetria (skewness) é uma medida da distorção da distribuição de probabilidade de uma variável aleatória sobre sua média. Em outras palavras, a assimetria informa a quantidade e a **direção da inclinação**(partida de simetria horizontal). \n",
        "\n",
        "Assimetria mais à esquerda, direita ou ao centro. \n",
        "\n",
        "O valor de assimetria pode ser positivo ou negativo ou ainda indefinido. Se a assimetria é 0, os dados são perfeitamente simétricos, embora seja bastante improvável para dados do mundo real. \n",
        "\n",
        "## Via de regra:\n",
        "\n",
        "- Se a assimetria é menor que -1 ou maior que 1, a **distribuição é altamente distorcida.**\n",
        "\n",
        "- Se a assimetria é entre -1 e -0,5 ou entre 0,5 e 1, a distribuição é enviesada moderadamente.\n",
        "\n",
        "- Se a assimetria é entre -0,5 e 0,5, a distribuição é aproximadamente simétrica.\n",
        "\n",
        "---\n",
        "\n",
        "\n",
        "A medida positiva indicaria que a média dos valores dos dados é maior do que a mediana e a distribuição dos dados é desviada para a direita. Se média > mediana: distribuição direita\n",
        "\n",
        "Uma medida negativa indica que a média dos valores dos dados é menor que a mediana e a distribuição dos dados é inclinada para a esquerda. Se média < mediana: distribuição esquerda"
      ]
    },
    {
      "cell_type": "code",
      "metadata": {
        "id": "lRo8_l9nQALU",
        "colab_type": "code",
        "outputId": "c652f911-263f-4627-caf5-8d8678a162bb",
        "colab": {
          "base_uri": "https://localhost:8080/",
          "height": 33
        }
      },
      "source": [
        "%%R\n",
        "# ?skewness pacote {e1071}\n",
        "skewness(dataset$age) # valor positivo indica que a média é maior que a mediana"
      ],
      "execution_count": 68,
      "outputs": [
        {
          "output_type": "stream",
          "text": [
            "[1] 1.125188\n"
          ],
          "name": "stdout"
        }
      ]
    },
    {
      "cell_type": "code",
      "metadata": {
        "id": "35u871VXQAJy",
        "colab_type": "code",
        "outputId": "c9a07d88-b31a-45c7-d95b-3ed8c4021d0b",
        "colab": {
          "base_uri": "https://localhost:8080/",
          "height": 497
        }
      },
      "source": [
        "%%R\n",
        "hist(dataset$age)"
      ],
      "execution_count": 69,
      "outputs": [
        {
          "output_type": "display_data",
          "data": {
            "image/png": "[encoded data removed]"
          },
          "metadata": {
            "tags": []
          }
        }
      ]
    },
    {
      "cell_type": "code",
      "metadata": {
        "id": "EqvQspubQAIp",
        "colab_type": "code",
        "outputId": "9f5232ba-05a6-43be-e9db-054bd37b1dc0",
        "colab": {
          "base_uri": "https://localhost:8080/",
          "height": 33
        }
      },
      "source": [
        "%%R\n",
        "skewness(dataset$pressure)"
      ],
      "execution_count": 70,
      "outputs": [
        {
          "output_type": "stream",
          "text": [
            "[1] -1.836413\n"
          ],
          "name": "stdout"
        }
      ]
    },
    {
      "cell_type": "code",
      "metadata": {
        "id": "ComWX6PiQtai",
        "colab_type": "code",
        "outputId": "e05a1c12-70a5-44d3-abc4-94a0048c96bd",
        "colab": {
          "base_uri": "https://localhost:8080/",
          "height": 50
        }
      },
      "source": [
        "%%R\n",
        "summary(dataset$pressure)"
      ],
      "execution_count": 71,
      "outputs": [
        {
          "output_type": "stream",
          "text": [
            "   Min. 1st Qu.  Median    Mean 3rd Qu.    Max. \n",
            "   0.00   62.00   72.00   69.11   80.00  122.00 \n"
          ],
          "name": "stdout"
        }
      ]
    },
    {
      "cell_type": "code",
      "metadata": {
        "id": "EC5-omQaQtZo",
        "colab_type": "code",
        "outputId": "0e9c8830-8d9a-4b00-b7ce-24f47ab493c5",
        "colab": {
          "base_uri": "https://localhost:8080/",
          "height": 497
        }
      },
      "source": [
        "%%R\n",
        "hist(dataset$pressure)"
      ],
      "execution_count": 72,
      "outputs": [
        {
          "output_type": "display_data",
          "data": {
            "image/png": "[encoded data removed]"
          },
          "metadata": {
            "tags": []
          }
        }
      ]
    },
    {
      "cell_type": "markdown",
      "metadata": {
        "id": "_xW726-GZ2aw",
        "colab_type": "text"
      },
      "source": [
        "## Distribuição normal tem kurtosis igual a zero."
      ]
    },
    {
      "cell_type": "code",
      "metadata": {
        "id": "UPnqR4htQtYO",
        "colab_type": "code",
        "outputId": "299f709f-e42f-4d1e-bf11-d25dc9f9ef5d",
        "colab": {
          "base_uri": "https://localhost:8080/",
          "height": 33
        }
      },
      "source": [
        "%%R\n",
        "# A curtose informa a altura e a nitidez do pico central (ponto mais alto da distribuição), em relação a uma curva de sino padrão.\n",
        "kurtosis(dataset$age) "
      ],
      "execution_count": 73,
      "outputs": [
        {
          "output_type": "stream",
          "text": [
            "[1] 0.6217269\n"
          ],
          "name": "stdout"
        }
      ]
    },
    {
      "cell_type": "code",
      "metadata": {
        "id": "eoV9mbaFQtXH",
        "colab_type": "code",
        "outputId": "23fc7a2c-ace8-4e46-d292-c2c4f718cb20",
        "colab": {
          "base_uri": "https://localhost:8080/",
          "height": 497
        }
      },
      "source": [
        "%%R\n",
        "hist(dataset$age)"
      ],
      "execution_count": 74,
      "outputs": [
        {
          "output_type": "display_data",
          "data": {
            "image/png": "[encoded data removed]"
          },
          "metadata": {
            "tags": []
          }
        }
      ]
    },
    {
      "cell_type": "code",
      "metadata": {
        "id": "iezymQkJQtVA",
        "colab_type": "code",
        "outputId": "d247104d-5a3a-4a80-fefa-250abe17c4b2",
        "colab": {
          "base_uri": "https://localhost:8080/",
          "height": 33
        }
      },
      "source": [
        "%%R\n",
        "kurtosis(dataset$pressure)"
      ],
      "execution_count": 75,
      "outputs": [
        {
          "output_type": "stream",
          "text": [
            "[1] 5.11751\n"
          ],
          "name": "stdout"
        }
      ]
    },
    {
      "cell_type": "code",
      "metadata": {
        "id": "MOVxjeRERDOe",
        "colab_type": "code",
        "outputId": "18c90862-72b5-4f2d-891c-8d6cda1794c1",
        "colab": {
          "base_uri": "https://localhost:8080/",
          "height": 497
        }
      },
      "source": [
        "%%R\n",
        "hist(dataset$pressure)"
      ],
      "execution_count": 77,
      "outputs": [
        {
          "output_type": "display_data",
          "data": {
            "image/png": "[encoded data removed]"
          },
          "metadata": {
            "tags": []
          }
        }
      ]
    },
    {
      "cell_type": "markdown",
      "metadata": {
        "id": "LLZ0bAx-RXLz",
        "colab_type": "text"
      },
      "source": [
        "---"
      ]
    },
    {
      "cell_type": "code",
      "metadata": {
        "id": "uFmKLl4_RDK6",
        "colab_type": "code",
        "outputId": "21e5425f-aa3c-4928-aea6-cb231e4abb13",
        "colab": {
          "base_uri": "https://localhost:8080/",
          "height": 50
        }
      },
      "source": [
        "%%R\n",
        "# Dados de exemplo\n",
        "set.seed(140)\n",
        "dados <- rnorm(n = 10000, mean = 55, sd = 4.5)\n",
        "summary(dados)"
      ],
      "execution_count": 78,
      "outputs": [
        {
          "output_type": "stream",
          "text": [
            "   Min. 1st Qu.  Median    Mean 3rd Qu.    Max. \n",
            "  36.03   52.10   55.03   55.06   58.13   70.55 \n"
          ],
          "name": "stdout"
        }
      ]
    },
    {
      "cell_type": "code",
      "metadata": {
        "id": "kHXTfGdCRDIN",
        "colab_type": "code",
        "outputId": "b5402021-3121-44a9-e7c6-958a8133a536",
        "colab": {
          "base_uri": "https://localhost:8080/",
          "height": 33
        }
      },
      "source": [
        "%%R\n",
        "mean(dados)"
      ],
      "execution_count": 79,
      "outputs": [
        {
          "output_type": "stream",
          "text": [
            "[1] 55.05733\n"
          ],
          "name": "stdout"
        }
      ]
    },
    {
      "cell_type": "code",
      "metadata": {
        "id": "nEA3B3jGRlLC",
        "colab_type": "code",
        "colab": {}
      },
      "source": [
        "%%R\n",
        "# Converte os dados para um dataframe para facilitar a manipulação\n",
        "dataset <- data.frame(dados)"
      ],
      "execution_count": 0,
      "outputs": []
    },
    {
      "cell_type": "code",
      "metadata": {
        "id": "6HWym4rxRlIH",
        "colab_type": "code",
        "colab": {}
      },
      "source": [
        "%%R\n",
        "# Renomeia a coluna\n",
        "colnames(dataset) <- c(\"Medida\")"
      ],
      "execution_count": 0,
      "outputs": []
    },
    {
      "cell_type": "markdown",
      "metadata": {
        "id": "Ges7zllUbF50",
        "colab_type": "text"
      },
      "source": [
        "---"
      ]
    },
    {
      "cell_type": "code",
      "metadata": {
        "id": "T5_7EHR9RlFP",
        "colab_type": "code",
        "outputId": "a13ff6da-8ddb-4be9-cdcf-4b2ec781a941",
        "colab": {
          "base_uri": "https://localhost:8080/",
          "height": 33
        }
      },
      "source": [
        "%%R\n",
        "# Estatísticas Elementares\n",
        "mean(dataset$Medida)"
      ],
      "execution_count": 82,
      "outputs": [
        {
          "output_type": "stream",
          "text": [
            "[1] 55.05733\n"
          ],
          "name": "stdout"
        }
      ]
    },
    {
      "cell_type": "markdown",
      "metadata": {
        "id": "Yvung-bwbG_y",
        "colab_type": "text"
      },
      "source": [
        "Média e Mediana são praticamente iguais, isso configura uma distribuição normal."
      ]
    },
    {
      "cell_type": "code",
      "metadata": {
        "id": "hZjPXi3xRlET",
        "colab_type": "code",
        "outputId": "90bdfff6-a7a3-4cb7-bbfd-ca6c0d03a50d",
        "colab": {
          "base_uri": "https://localhost:8080/",
          "height": 33
        }
      },
      "source": [
        "%%R\n",
        "median(dataset$Medida)"
      ],
      "execution_count": 83,
      "outputs": [
        {
          "output_type": "stream",
          "text": [
            "[1] 55.03105\n"
          ],
          "name": "stdout"
        }
      ]
    },
    {
      "cell_type": "markdown",
      "metadata": {
        "id": "T-X-pasxbEvj",
        "colab_type": "text"
      },
      "source": [
        "---"
      ]
    },
    {
      "cell_type": "code",
      "metadata": {
        "id": "p2agCnsMRpPY",
        "colab_type": "code",
        "outputId": "3e888e8e-b8a8-4214-cfac-aa4956f5865c",
        "colab": {
          "base_uri": "https://localhost:8080/",
          "height": 33
        }
      },
      "source": [
        "%%R\n",
        "var(dataset$Medida)"
      ],
      "execution_count": 84,
      "outputs": [
        {
          "output_type": "stream",
          "text": [
            "[1] 20.1544\n"
          ],
          "name": "stdout"
        }
      ]
    },
    {
      "cell_type": "code",
      "metadata": {
        "id": "RIRoWbBaRpNH",
        "colab_type": "code",
        "outputId": "018d98af-ac71-49b4-f9c1-1882d37cd605",
        "colab": {
          "base_uri": "https://localhost:8080/",
          "height": 33
        }
      },
      "source": [
        "%%R\n",
        "sd(dataset$Medida)"
      ],
      "execution_count": 85,
      "outputs": [
        {
          "output_type": "stream",
          "text": [
            "[1] 4.489365\n"
          ],
          "name": "stdout"
        }
      ]
    },
    {
      "cell_type": "code",
      "metadata": {
        "id": "h5qU0jKiRpMS",
        "colab_type": "code",
        "outputId": "4868a4fe-c0b7-467a-b8c8-c406b74b2564",
        "colab": {
          "base_uri": "https://localhost:8080/",
          "height": 33
        }
      },
      "source": [
        "%%R\n",
        "# Moda\n",
        "table(as.vector(dataset$Medida))"
      ],
      "execution_count": 2,
      "outputs": [
        {
          "output_type": "stream",
          "text": [
            "UsageError: Cell magic `%%R` not found.\n"
          ],
          "name": "stderr"
        }
      ]
    },
    {
      "cell_type": "code",
      "metadata": {
        "id": "ZkU4j0AwRpLE",
        "colab_type": "code",
        "outputId": "fa59cdb2-3b28-4133-fd8f-87140408073f",
        "colab": {
          "base_uri": "https://localhost:8080/",
          "height": 100
        }
      },
      "source": [
        "%%R\n",
        "table(as.vector(round(dataset$Medida)))"
      ],
      "execution_count": 87,
      "outputs": [
        {
          "output_type": "stream",
          "text": [
            "\n",
            " 36  39  40  41  42  43  44  45  46  47  48  49  50  51  52  53  54  55  56  57 \n",
            "  1   2   2   2  13  29  45  66 136 175 266 355 454 591 683 846 848 896 852 789 \n",
            " 58  59  60  61  62  63  64  65  66  67  68  69  70  71 \n",
            "717 604 504 365 290 160 131  83  38  26  16  11   3   1 \n"
          ],
          "name": "stdout"
        }
      ]
    },
    {
      "cell_type": "code",
      "metadata": {
        "id": "wQdiCO4tRo28",
        "colab_type": "code",
        "outputId": "aaa930bf-2397-4e80-a497-8dd483fadd67",
        "colab": {
          "base_uri": "https://localhost:8080/",
          "height": 33
        }
      },
      "source": [
        "%%R\n",
        "moda <- table(as.vector(round(dataset$Medida)))\n",
        "names(moda)[moda == max(moda)]"
      ],
      "execution_count": 42,
      "outputs": [
        {
          "output_type": "stream",
          "text": [
            "[1] \"55\"\n"
          ],
          "name": "stdout"
        }
      ]
    },
    {
      "cell_type": "code",
      "metadata": {
        "id": "r4pvNtt6SDWR",
        "colab_type": "code",
        "outputId": "f20fe64b-3a2e-4ab7-fcc2-46f083460859",
        "colab": {
          "base_uri": "https://localhost:8080/",
          "height": 33
        }
      },
      "source": [
        "%%\n",
        "# Sumário\n",
        "summary(dataset)"
      ],
      "execution_count": 43,
      "outputs": [
        {
          "output_type": "stream",
          "text": [
            "UsageError: Cell magic `%%` not found.\n"
          ],
          "name": "stderr"
        }
      ]
    },
    {
      "cell_type": "code",
      "metadata": {
        "id": "pApOPxaYSDTG",
        "colab_type": "code",
        "colab": {}
      },
      "source": [
        "%%R\n",
        "# Assimetria e Curtose\n",
        "library(e1071)"
      ],
      "execution_count": 0,
      "outputs": []
    },
    {
      "cell_type": "code",
      "metadata": {
        "id": "84x6nXKdSDQv",
        "colab_type": "code",
        "colab": {}
      },
      "source": [
        "%%R\n",
        "skewness(dados)"
      ],
      "execution_count": 0,
      "outputs": []
    },
    {
      "cell_type": "code",
      "metadata": {
        "id": "_QlBDYAhSDNh",
        "colab_type": "code",
        "colab": {}
      },
      "source": [
        "%%R\n",
        "kurtosis(dados)"
      ],
      "execution_count": 0,
      "outputs": []
    },
    {
      "cell_type": "markdown",
      "metadata": {
        "id": "Mmy12khXfijx",
        "colab_type": "text"
      },
      "source": [
        "#**describe( )** - {psych}"
      ]
    },
    {
      "cell_type": "code",
      "metadata": {
        "id": "fo5R21F-SXWe",
        "colab_type": "code",
        "colab": {}
      },
      "source": [
        "%%R\n",
        "# Usando a função \n",
        "install.packages(\"psych\")\n",
        "library(\"psych\")"
      ],
      "execution_count": 0,
      "outputs": []
    },
    {
      "cell_type": "code",
      "metadata": {
        "id": "ve-vK7ZeSXTY",
        "colab_type": "code",
        "colab": {}
      },
      "source": [
        "%%R\n",
        "??describe\n",
        "#describe(dataset)"
      ],
      "execution_count": 0,
      "outputs": []
    },
    {
      "cell_type": "markdown",
      "metadata": {
        "id": "6liUAzswScSM",
        "colab_type": "text"
      },
      "source": [
        "#**Assimetria** - grau de afastamento de uma distribuição, indica inclinação da distribuição.\n",
        "\n",
        "Uma Distribuição é Simétrica quando seus valores de Média, Mediana e Moda **coincidem.**\n",
        "\n",
        "O coeficiente de assimetria **(skewness)** permite distinguir as distribuições assimétricas. \n",
        "\n",
        "- **Valor negativo**: indica que a cauda do lado esquerdo da função densidade de probabilidade é maior que a do lado direito. \n",
        "\n",
        "- **Valor positivo**: para a assimetria indica que a cauda do lado direito é maior que a do lado esquerdo. \n",
        "\n",
        "- **Valor nulo**: indica que os valores são distribuídos de maneira relativamente iguais em ambos os lados da média, mas não implica necessariamente, uma distribuição simétrica.\n",
        "\n",
        "A assimetria dos dados simulados é negativa e próxima de zero. \n",
        "Isso conclui que os dados estão próximos de uma distribuição gaussiana (formato de sino), mas ligeiramente inclinados para a esquerda. \n"
      ]
    },
    {
      "cell_type": "markdown",
      "metadata": {
        "id": "So7-FWO_UC2W",
        "colab_type": "text"
      },
      "source": [
        "---"
      ]
    },
    {
      "cell_type": "markdown",
      "metadata": {
        "id": "d56vYdkNUES2",
        "colab_type": "text"
      },
      "source": [
        "#**Curtose** - medida de dispersão que caracteriza o \"achatamento\" da curva da função de distribuição. \n",
        "\n",
        "O que significa analisar um conjunto quanto à Curtose? Significa apenas verificar o “grau de achatamento da curva”.\n",
        "\n",
        "Ou seja, saber se a Curva de Frequência que representa o conjunto é mais “afilada” ou mais “achatada” em relação a uma Curva Padrão, chamada de Curva Normal.\n",
        "\n",
        "Uma curva (um conjunto) poderá ser, quanto à sua Curtose: \n",
        "\n",
        "- Mesocúrtica: ou de curtose média! Será essa a nossa Curva Normal. “Meso” lembra meio! Esta curva está no meio termo: nem muito achatada, nem muito afilada.\n",
        "\n",
        "- Platicúrtica: é a curva mais achatada. Seu desenho lembra o de um prato emborcado. \n",
        "\n",
        "- Leptocúrtica: é a curva mais afilada! \n",
        "\n",
        "Quando se trata de Curtose, não há como extrairmos uma conclusão sobre qual será a situação da distribuição – se mesocúrtica, platicúrtica ou leptocúrtica – apenas conhecendo os valores **da Média, Moda e Mediana.**"
      ]
    },
    {
      "cell_type": "markdown",
      "metadata": {
        "id": "qcEEkiaOcJ9Y",
        "colab_type": "text"
      },
      "source": [
        "Quando os dados seguem uma Distribuição normal nós temos uma serie de propriedades de características que podem ser inferidas a partir disso. Podemos tomar uma série de decisões com esta informação.\n",
        "\n",
        "Com uma distribuição normal, o valor esperado para o coeficiente de Assimetria é próximo de 0. \n",
        "\n"
      ]
    },
    {
      "cell_type": "code",
      "metadata": {
        "id": "F9Ila65dcqxf",
        "colab_type": "code",
        "colab": {}
      },
      "source": [
        "%%R\n",
        "# Histograma\n",
        "install.packages(\"ggplot2\")\n",
        "library(ggplot2)"
      ],
      "execution_count": 0,
      "outputs": []
    },
    {
      "cell_type": "code",
      "metadata": {
        "id": "_oiEPexXIcCo",
        "colab_type": "code",
        "colab": {}
      },
      "source": [
        "%%R\n",
        "ggplot(dataset, aes(x = dataset$Medida), binwidth = 20) + \n",
        "  geom_histogram(aes(y = ..density..), fill = 'red', alpha = 0.5) + \n",
        "  geom_density(colour = 'blue') + xlab(expression(bold('Dados de Exemplo'))) + \n",
        "  ylab(expression(bold('Densidade')))"
      ],
      "execution_count": 0,
      "outputs": []
    },
    {
      "cell_type": "code",
      "metadata": {
        "id": "KvmhGDJFiKll",
        "colab_type": "code",
        "colab": {}
      },
      "source": [
        "%%R\n",
        "# Carregando os dados\n",
        "carros <- read.csv(\"dados/carros.csv\", stringsAsFactors = FALSE)"
      ],
      "execution_count": 0,
      "outputs": []
    },
    {
      "cell_type": "code",
      "metadata": {
        "id": "a7VfHSxXiqMl",
        "colab_type": "code",
        "colab": {
          "base_uri": "https://localhost:8080/",
          "height": 33
        },
        "outputId": "1c17af23-d275-4cb8-c6fd-a7007d1cc763"
      },
      "source": [
        "%%R\n",
        "# Sumário da estrutura do dataset\n",
        "str(carros)\n",
        "names(carros) <- c('Ano', 'Modelo', 'Preco', 'Kilometragem', 'Cor', 'Transmissao')"
      ],
      "execution_count": 11,
      "outputs": [
        {
          "output_type": "stream",
          "text": [
            "UsageError: Cell magic `%%` not found.\n"
          ],
          "name": "stderr"
        }
      ]
    },
    {
      "cell_type": "code",
      "metadata": {
        "id": "xgYJU_sViqKl",
        "colab_type": "code",
        "colab": {}
      },
      "source": [
        "%%R\n",
        "# Sumário\n",
        "summary(carros$Ano)\n",
        "str(carros)\n",
        "carros$Ano <- as.character(carros$Ano)\n",
        "summary(carros$Ano)\n",
        "summary(carros[c(\"Preco\", \"Kilometragem\")])"
      ],
      "execution_count": 0,
      "outputs": []
    },
    {
      "cell_type": "code",
      "metadata": {
        "id": "1o9Zu3LhiqIv",
        "colab_type": "code",
        "colab": {}
      },
      "source": [
        "%%R\n",
        "# Calculando a média\n",
        "(36000 + 44000 + 56000) / 3\n",
        "mean(c(36000, 44000, 56000))\n",
        "mean(carros$Preco)"
      ],
      "execution_count": 0,
      "outputs": []
    },
    {
      "cell_type": "code",
      "metadata": {
        "id": "rVUVgOoPiqE9",
        "colab_type": "code",
        "colab": {}
      },
      "source": [
        "%%\n",
        "# Mediana\n",
        "median(carros$Preco)"
      ],
      "execution_count": 0,
      "outputs": []
    },
    {
      "cell_type": "code",
      "metadata": {
        "id": "HZAobpTTiqBt",
        "colab_type": "code",
        "colab": {}
      },
      "source": [
        "%%\n",
        "# Range - Min e Max\n",
        "range(carros$Preco)"
      ],
      "execution_count": 0,
      "outputs": []
    },
    {
      "cell_type": "code",
      "metadata": {
        "id": "2FbnlB4hiqAp",
        "colab_type": "code",
        "colab": {}
      },
      "source": [
        "%%\n",
        "# Diferença do Range (Max -  Min)\n",
        "diff(range(carros$Preco))"
      ],
      "execution_count": 0,
      "outputs": []
    },
    {
      "cell_type": "code",
      "metadata": {
        "id": "E636_UMMipzM",
        "colab_type": "code",
        "colab": {}
      },
      "source": [
        "%%\n",
        "# IQR - Interquantile Range\n",
        "IQR(carros$Preco)"
      ],
      "execution_count": 0,
      "outputs": []
    },
    {
      "cell_type": "code",
      "metadata": {
        "id": "DUvKdmdCipx1",
        "colab_type": "code",
        "colab": {}
      },
      "source": [
        "%%\n",
        "# Quartis\n",
        "quantile(carros$Preco)"
      ],
      "execution_count": 0,
      "outputs": []
    },
    {
      "cell_type": "code",
      "metadata": {
        "id": "cm03uQGHjP8-",
        "colab_type": "code",
        "colab": {}
      },
      "source": [
        "%%R\n",
        "# Percentil 1% e 99%\n",
        "quantile(carros$Preco, probs = c(0.01, 0.99))"
      ],
      "execution_count": 0,
      "outputs": []
    },
    {
      "cell_type": "code",
      "metadata": {
        "id": "__u8IIPcjP6s",
        "colab_type": "code",
        "colab": {}
      },
      "source": [
        "%%R\n",
        "# Percentis com intervalo de 20\n",
        "quantile(carros$Preco, seq(from = 0, to = 1, by = 0.20))"
      ],
      "execution_count": 0,
      "outputs": []
    },
    {
      "cell_type": "code",
      "metadata": {
        "id": "xbkLZtKWjP3r",
        "colab_type": "code",
        "colab": {}
      },
      "source": [
        "%%R\n",
        "# Boxplot\n",
        "boxplot(carros$Preco, main = \"Boxplot Preços\", ylab = \"Preço (R$)\")\n",
        "boxplot(carros$Kilometragem, main = \"Boxplot Kilometragem\", ylab = \"Kilometragem (Km)\")"
      ],
      "execution_count": 0,
      "outputs": []
    },
    {
      "cell_type": "code",
      "metadata": {
        "id": "Q7mphCc5jP2d",
        "colab_type": "code",
        "colab": {}
      },
      "source": [
        "%%\n",
        "# Histograma\n",
        "mean(carros$Preco)"
      ],
      "execution_count": 0,
      "outputs": []
    },
    {
      "cell_type": "code",
      "metadata": {
        "id": "YKxnJIr9jP0T",
        "colab_type": "code",
        "colab": {}
      },
      "source": [
        "%%\n",
        "hist(carros$Preco, main = \"Histograma Preços\", xlab = \"Preço (R$)\")"
      ],
      "execution_count": 0,
      "outputs": []
    },
    {
      "cell_type": "code",
      "metadata": {
        "id": "M-DJ6l7ajPx6",
        "colab_type": "code",
        "colab": {}
      },
      "source": [
        "%%\n",
        "mean(carros$Kilometragem)"
      ],
      "execution_count": 0,
      "outputs": []
    },
    {
      "cell_type": "code",
      "metadata": {
        "id": "TLj24b0GjWmg",
        "colab_type": "code",
        "colab": {}
      },
      "source": [
        "%%\n",
        "hist(carros$Kilometragem, main = \"Histograma Kilometragem\", xlab = \"Kilometragem (Km)\")"
      ],
      "execution_count": 0,
      "outputs": []
    },
    {
      "cell_type": "code",
      "metadata": {
        "id": "TqYjfq3tjWkD",
        "colab_type": "code",
        "colab": {}
      },
      "source": [
        "%%R\n",
        "# Assimetria e Curtose da variável Preço\n",
        "library(e1071)\n",
        "skewness(carros$Preco)"
      ],
      "execution_count": 0,
      "outputs": []
    },
    {
      "cell_type": "code",
      "metadata": {
        "id": "-Fb3bB4SjWhB",
        "colab_type": "code",
        "colab": {}
      },
      "source": [
        "%%R\n",
        "kurtosis(carros$Preco)\n"
      ],
      "execution_count": 0,
      "outputs": []
    },
    {
      "cell_type": "code",
      "metadata": {
        "id": "gGkIncW7jWft",
        "colab_type": "code",
        "colab": {}
      },
      "source": [
        "%%R\n",
        "# Variância e Desvio Padrão\n",
        "mean(carros$Preco)"
      ],
      "execution_count": 0,
      "outputs": []
    },
    {
      "cell_type": "code",
      "metadata": {
        "id": "4H9WpGcnjqpw",
        "colab_type": "code",
        "colab": {}
      },
      "source": [
        "%%R\n",
        "var(carros$Preco)"
      ],
      "execution_count": 0,
      "outputs": []
    },
    {
      "cell_type": "code",
      "metadata": {
        "id": "nptf76u0jvHT",
        "colab_type": "code",
        "colab": {}
      },
      "source": [
        "%%R\n",
        "sd(carros$Preco)"
      ],
      "execution_count": 0,
      "outputs": []
    },
    {
      "cell_type": "code",
      "metadata": {
        "colab_type": "code",
        "id": "pPPFvTQGjxg0",
        "colab": {}
      },
      "source": [
        "%%R\n",
        "mean(carros$Kilometragem)"
      ],
      "execution_count": 0,
      "outputs": []
    },
    {
      "cell_type": "code",
      "metadata": {
        "colab_type": "code",
        "id": "m9oiUpKtjw2F",
        "colab": {}
      },
      "source": [
        "%%R\n",
        "var(carros$Kilometragem)"
      ],
      "execution_count": 0,
      "outputs": []
    },
    {
      "cell_type": "code",
      "metadata": {
        "colab_type": "code",
        "id": "5aalWo-MjwVr",
        "colab": {}
      },
      "source": [
        "%%R\n",
        "sd(carros$Kilometragem)"
      ],
      "execution_count": 0,
      "outputs": []
    },
    {
      "cell_type": "code",
      "metadata": {
        "colab_type": "code",
        "id": "5MGDSuSJjwCE",
        "colab": {}
      },
      "source": [
        "%%R\n",
        "# Scatter Plot\n",
        "plot(x = carros$Kilometragem, y = carros$Preco,\n",
        "     main = \"Scatterplot Kilometragem x Preço\",\n",
        "     xlab = \"Kilometragem (Km)\",\n",
        "     ylab = \"Preço (R$)\")"
      ],
      "execution_count": 0,
      "outputs": []
    },
    {
      "cell_type": "code",
      "metadata": {
        "id": "aDfguvIJjvEh",
        "colab_type": "code",
        "colab": {}
      },
      "source": [
        "%%R\n",
        "# Calculando o coeficiente de correlação\n",
        "cor(carros$Kilometragem, carros$Preco)"
      ],
      "execution_count": 0,
      "outputs": []
    },
    {
      "cell_type": "code",
      "metadata": {
        "id": "oaBboobjjvBV",
        "colab_type": "code",
        "colab": {}
      },
      "source": [
        "%%R\n",
        "# Agregação\n",
        "#?aggregate"
      ],
      "execution_count": 0,
      "outputs": []
    },
    {
      "cell_type": "code",
      "metadata": {
        "id": "_cczdwC9jqmm",
        "colab_type": "code",
        "colab": {}
      },
      "source": [
        "%%R\n",
        "# Média de preços dos carros por ano\n",
        "str(carros)"
      ],
      "execution_count": 0,
      "outputs": []
    },
    {
      "cell_type": "code",
      "metadata": {
        "colab_type": "code",
        "id": "gGllBhUvkKrn",
        "colab": {}
      },
      "source": [
        "%%R\n",
        "aggregate(carros$Preco ~ carros$Ano, FUN = mean, data = carros)"
      ],
      "execution_count": 0,
      "outputs": []
    },
    {
      "cell_type": "markdown",
      "metadata": {
        "id": "ZrFOeF1WkURe",
        "colab_type": "text"
      },
      "source": [
        "## Explorando variáveis categóricas"
      ]
    },
    {
      "cell_type": "code",
      "metadata": {
        "colab_type": "code",
        "id": "KkLBdqj_kK1H",
        "colab": {}
      },
      "source": [
        "%%\n",
        "# Tabela de Frequência\n",
        "str(carros)"
      ],
      "execution_count": 0,
      "outputs": []
    },
    {
      "cell_type": "code",
      "metadata": {
        "id": "ILhAqsfGjqj2",
        "colab_type": "code",
        "colab": {}
      },
      "source": [
        "%%R\n",
        "#?table\n",
        "table(carros$Ano)"
      ],
      "execution_count": 0,
      "outputs": []
    },
    {
      "cell_type": "code",
      "metadata": {
        "colab_type": "code",
        "id": "37Vlw-wFkKIb",
        "colab": {}
      },
      "source": [
        "%%R\n",
        "table(carros$Modelo)"
      ],
      "execution_count": 0,
      "outputs": []
    },
    {
      "cell_type": "code",
      "metadata": {
        "colab_type": "code",
        "id": "Ef8R8HAKkKR8",
        "colab": {}
      },
      "source": [
        "%%R\n",
        "table(carros$Cor)"
      ],
      "execution_count": 0,
      "outputs": []
    },
    {
      "cell_type": "code",
      "metadata": {
        "id": "YZxPgIVPkrMt",
        "colab_type": "code",
        "colab": {}
      },
      "source": [
        "%%R"
      ],
      "execution_count": 0,
      "outputs": []
    },
    {
      "cell_type": "code",
      "metadata": {
        "id": "TfS8p19AkrLi",
        "colab_type": "code",
        "colab": {}
      },
      "source": [
        "%%R\n",
        "# Proporções da Tabela de Frequência\n",
        "model_table <- table(carros$Modelo)\n",
        "prop.table(model_table)\n"
      ],
      "execution_count": 0,
      "outputs": []
    },
    {
      "cell_type": "code",
      "metadata": {
        "id": "6zeuFqu8krJl",
        "colab_type": "code",
        "colab": {}
      },
      "source": [
        "%%R\n",
        "# Ajuste do resultado das proporções\n",
        "color_table <- table(carros$Cor)\n",
        "color_pct <- prop.table(color_table) * 100\n",
        "round(color_pct, digits = 1)"
      ],
      "execution_count": 0,
      "outputs": []
    },
    {
      "cell_type": "code",
      "metadata": {
        "id": "6yvFESlGkrIl",
        "colab_type": "code",
        "colab": {}
      },
      "source": [
        "%%R\n",
        "# Resumo gráfico e relação entre as variáveis categóricas\n",
        "library(ggplot2)"
      ],
      "execution_count": 0,
      "outputs": []
    },
    {
      "cell_type": "code",
      "metadata": {
        "id": "H7oetlaZkrHN",
        "colab_type": "code",
        "colab": {}
      },
      "source": [
        "%%R\n",
        "# Total de veículos por tipo de transmissão\n",
        "ggplot(data = carros, aes(x = as.factor(Transmissao))) +\n",
        "  geom_bar(aes(y = (..count..))) +\n",
        "  labs(x = \"Transmissao\", y = \"Contagem de Carros Por Tipo de Transmissao\")"
      ],
      "execution_count": 0,
      "outputs": []
    },
    {
      "cell_type": "code",
      "metadata": {
        "id": "P1hWu2cHkrFq",
        "colab_type": "code",
        "colab": {}
      },
      "source": [
        "%%R\n",
        "str(carros)"
      ],
      "execution_count": 0,
      "outputs": []
    },
    {
      "cell_type": "code",
      "metadata": {
        "id": "gqxZPHHXkrEp",
        "colab_type": "code",
        "colab": {}
      },
      "source": [
        "%%R\n",
        "# fatorando\n",
        "carros$Transmissao <- as.factor(carros$Transmissao)\n",
        "str(carros)"
      ],
      "execution_count": 0,
      "outputs": []
    },
    {
      "cell_type": "code",
      "metadata": {
        "id": "Zwee5wjxkrDw",
        "colab_type": "code",
        "colab": {}
      },
      "source": [
        "%%R\n",
        "# Proporção de veículos por tipo de transmissão e por cor\n",
        "ggplot(carros, aes(x = as.factor(Transmissao))) +\n",
        "  geom_bar(aes(y = (..count..)/sum(..count..))) +\n",
        "  xlab(\"Transmissao\") +\n",
        "  scale_y_continuous(labels = scales::percent, name = \"Proporção\") +\n",
        "  facet_grid(~ Cor) +\n",
        "  theme(axis.text.x = element_text(angle = 45, hjust = 1))"
      ],
      "execution_count": 0,
      "outputs": []
    }
  ]
}