{
  "nbformat": 4,
  "nbformat_minor": 0,
  "metadata": {
    "colab": {
      "private_outputs": true,
      "provenance": [],
      "authorship_tag": "ABX9TyOnOEQt763xQqujW/ozqmqT",
      "include_colab_link": true
    },
    "kernelspec": {
      "name": "python3",
      "display_name": "Python 3"
    },
    "language_info": {
      "name": "python"
    }
  },
  "cells": [
    {
      "cell_type": "markdown",
      "metadata": {
        "id": "view-in-github",
        "colab_type": "text"
      },
      "source": [
        "<a href=\"https://colab.research.google.com/github/Anello92/BusinessAnalytics/blob/master/price_elasticity.ipynb\" target=\"_parent\"><img src=\"https://colab.research.google.com/assets/colab-badge.svg\" alt=\"Open In Colab\"/></a>"
      ]
    },
    {
      "cell_type": "markdown",
      "source": [
        "# **Projeto de Elasticidade de Preços**\n",
        "\n",
        "A elasticidade de preços é um conceito fascinante e impactante no mundo dos negócios. Em termos simplificados, refere-se à relação entre a variação percentual da quantidade demandada de um produto e a variação percentual do seu preço. O entendimento dessa relação é crucial, pois permite que as empresas determinem até que ponto podem ajustar os preços de seus produtos sem afetar significativamente a demanda por eles.\n",
        "\n",
        "Neste projeto, nosso foco principal será entender como a variação no preço de um produto pode influenciar sua demanda. Isso é essencial, pois um aumento no preço pode levar a uma queda na demanda e, inversamente, uma diminuição no preço pode resultar em um aumento na demanda. Contudo, há limites para essas variações, e é preciso encontrar um ponto de equilíbrio.\n",
        "\n",
        "Utilizaremos técnicas estatísticas e de machine learning para investigar esta relação. O problema central que buscamos solucionar é: \"Como as alterações no preço dos produtos afetam a demanda e, consequentemente, o faturamento de um negócio?\". Para responder a essa questão, recorreremos à regressão linear, um método que, após nossa pesquisa e análise, mostrou-se o mais adequado para este estudo. É importante destacar que nossa abordagem não se restringe apenas a treinar um algoritmo, mas busca entender e explicar as relações entre as variáveis em estudo.\n",
        "\n",
        "A proposta é que, ao final deste projeto, sejamos capazes de:\n",
        "\n",
        "1. Compreender profundamente o conceito de elasticidade de preços e sua relevância no cenário empresarial.\n",
        "2. Aplicar técnicas de regressão para modelar a relação entre preço e demanda.\n",
        "3. Entender os coeficientes gerados pela regressão linear e interpretar sua influência no modelo.\n",
        "4. Fornecer insights valiosos para empresas que desejam alterar os preços de seus produtos, minimizando riscos e otimizando resultados.\n",
        "\n",
        "Em resumo, o objetivo central é capacitar os envolvidos no projeto a tomar decisões informadas sobre estratégias de precificação, fundamentadas em análises rigorosas e dados concretos. Esta é a essência da ciência de dados aplicada ao mundo empresarial: utilizar dados e métodos analíticos para solucionar problemas e melhorar processos.\n",
        "\n"
      ],
      "metadata": {
        "id": "s1CD6eLnlaQh"
      }
    },
    {
      "cell_type": "markdown",
      "source": [
        "---\n",
        "## **Objetivo Central**\n",
        "Entender como variações no preço de produtos influenciam a demanda e, por conseguinte, o faturamento das empresas. Para isso, utilizaremos métodos de regressão linear e técnicas de aprendizado de máquina.\n",
        "\n",
        "###  **Metodologia Principal**\n",
        "1. Coleta de dados históricos sobre preços, vendas e variáveis externas (como renda dos consumidores).\n",
        "2. Análise Exploratória de Dados para identificar padrões.\n",
        "3. Desenvolvimento e validação de modelos de aprendizado de máquina para descrição e previsão da relação preço-demanda.\n",
        "\n",
        "### **Entregáveis**\n",
        "- Modelo que capta a relação entre preço e demanda, incluindo a Curva e a Função de Demanda.\n",
        "- Ferramenta de simulação para cenários de mudança de preço.\n",
        "- Insights acionáveis para decisões de precificação.\n",
        "\n",
        "### **Relevância**\n",
        "O projeto visa tornar o complexo tema da elasticidade de preços acessível e útil, fornecendo insights baseados em dados para acadêmicos e decisores empresariais. O objetivo é aprimorar as estratégias de precificação com base em análises rigorosas, minimizando riscos e otimizando resultados."
      ],
      "metadata": {
        "id": "0zOBxjniubGn"
      }
    },
    {
      "cell_type": "markdown",
      "source": [
        "---\n",
        "## **Conceitos**\n",
        "\n",
        "### **Relação entre Preço e Damanda**\n",
        "Quando falamos de comprar e vender coisas, dois fatores são muito importantes: o preço e a quantidade que as pessoas querem comprar, conhecida como `demanda`. Na maioria dos casos, se o preço de algo sobe, menos pessoas vão querer comprar; se o preço desce, mais pessoas estarão interessadas. Essa é a chamada `lei da demanda`.\n",
        "\n",
        "Imagine essa relação como um gráfico: se você colocar o preço no eixo vertical e a quantidade que as pessoas querem comprar no eixo horizontal, você terá algo que chamamos de `curva de demanda`. Essa curva geralmente inclina para baixo, mostrando que quando o preço diminui, mais pessoas querem comprar o produto.\n",
        "\n",
        "Mas atenção, o preço não é o único fator que afeta a demanda. Outras coisas como o **dinheiro disponível** das pessoas, o **preço de produtos similares** ou **complementares**, e até mesmo o **gosto pessoal**, também entram na jogada. Por isso, usamos algo chamado `função de demanda` para prever com mais precisão quantas unidades de um produto serão vendidas se considerarmos todas essas variáveis juntas."
      ],
      "metadata": {
        "id": "HgUJhhunwrw6"
      }
    },
    {
      "cell_type": "markdown",
      "source": [
        "---\n",
        "### **Função de Demanda: Uma Explicação Fácil**\n",
        "\n",
        "Imagine que você quer saber quanto de um produto as pessoas vão comprar considerando vários fatores como preço, salário e até mesmo gostos pessoais. A `função de demanda` é como uma fórmula que nos ajuda a entender isso.\n",
        "\n",
        "Nessa fórmula, usamos letras para representar esses fatores:\n",
        "\n",
        "### `Q = f(P, Y, Ps, Pc, T)`\n",
        "\n",
        "Essa fórmula ajuda empresas e pesquisadores a entender como diferentes fatores afetam a vontade das pessoas de comprar um produto.\n",
        "- `Q` é a quantidade que as pessoas querem comprar.\n",
        "- `P` é o preço do produto.\n",
        "- `Y` é quanto dinheiro as pessoas têm.\n",
        "- `Ps` é o preço de produtos parecidos.\n",
        "- `Pc` é o preço de produtos que geralmente são comprados juntos com este.\n",
        "- `T` representa outros fatores como gostos pessoais.\n",
        "\n",
        "Então, se o preço `(P)` sobe, geralmente menos pessoas vão querer comprar `(Q diminui)`. Se as pessoas estão ganhando mais dinheiro `(Y aumenta)`, provavelmente vão comprar mais do produto `(Q aumenta)`.\n",
        "\n",
        "O bacana dessa fórmula é que ela ajuda as empresas a entenderem o que pode acontecer se elas mudarem o preço ou outras coisas. Assim, elas podem decidir a melhor forma de vender mais e ganhar mais dinheiro, atendendo também ao que os consumidores querem ou precisam."
      ],
      "metadata": {
        "id": "a1rh0l-pyVM3"
      }
    },
    {
      "cell_type": "markdown",
      "source": [
        "---\n",
        "### **Elasticidade de Preço**\n",
        "A elasticidade de preço nos diz o quanto a venda de um produto muda quando seu preço sobe ou desce. Por exemplo, se o preço de um item aumenta, geralmente menos pessoas vão comprá-lo.\n",
        "\n",
        "Se a elasticidade é `elástica`, uma pequena mudança no preço faz uma grande diferença nas vendas. Se é `inelástica`, a mudança nas vendas é pequena, mesmo com variação no preço.\n",
        "\n",
        "Há também a elasticidade `unitária`, onde a mudança percentual no preço e na demanda são iguais. Isso ajuda empresas a decidir se vale a pena alterar o preço de um produto."
      ],
      "metadata": {
        "id": "2I1IBopgzuVj"
      }
    },
    {
      "cell_type": "markdown",
      "source": [
        "---\n",
        "### **Elasticidade de Preço Elástica**\n",
        "Se um produto tem `elasticidade de preço elástica`, isso significa que as vendas desse item são muito sensíveis a qualquer mudança no preço. Em termos simples, **se o preço sobe um pouco, as vendas caem muito**, e vice-versa. Isso acontece porque as pessoas têm outras **opções parecidas e mais baratas para escolher**. Então, se o preço sobe, elas rapidamente trocam por algo mais em conta. O número que indica isso é maior que 1 na matemática da elasticidade. Por exemplo, **se o preço sobe 10% e as vendas caem mais de 60%**, essa elasticidade é considerada `elástica`."
      ],
      "metadata": {
        "id": "3dA3H87t0NZE"
      }
    },
    {
      "cell_type": "markdown",
      "source": [
        "---\n",
        "### **Elasticidade de Preço Inelástica**\n",
        "Se um produto tem `elasticidade de preço inelástica`, significa que as vendas desse item não são muito afetadas se o preço muda. Ou seja, você pode **aumentar um pouco o preço e as pessoas continuarão comprando praticamente a mesma quantidade**. Isso geralmente acontece **quando não há muitas outras opções de produtos similares ou quando as pessoas realmente precisam daquele item e não podem substituí-lo facilmente**. Na matemática da elasticidade, o número que indica isso é menor que 1. Por exemplo, se o **preço sobe 10% e as vendas caem menos de 1,5%, o produto é considerado `inelástico`**. Ou seja, as pessoas vão continuar comprando mesmo que fique um pouco mais caro."
      ],
      "metadata": {
        "id": "ah4a-l070urj"
      }
    },
    {
      "cell_type": "markdown",
      "source": [
        "---\n",
        "### **Elasticidade de Preço Unitária**\n",
        "Se um produto tem `elasticidade de preço unitária`, significa que qualquer mudança no preço é igualada por uma mudança igual na quantidade vendida. Em outras palavras, **se o preço sobe 10%, as vendas também caem 10%**. Isso geralmente ocorre quando **existem algumas alternativas ao produto, mas as pessoas não são tão rápidas em mudar**. Na matemática da coisa, o número que nos diz isso é exatamente 1. Isso quer dizer que **as pessoas notam se o preço muda, mas não vão abandonar o produto completamente** se ele ficar um pouco mais caro ou mais barato."
      ],
      "metadata": {
        "id": "JFut-gbK1Ko2"
      }
    },
    {
      "cell_type": "markdown",
      "source": [
        "---\n",
        "### **Elasticidade de Preço Negativa**\n",
        "Se falamos de `elasticidade de preços negativa`, estamos dizendo que as pessoas não mudam muito suas compras mesmo quando o preço muda. Em termos simples, **se o preço sobe ou desce, as pessoas quase não alteram a quantidade que compram**. Esse número negativo é uma forma técnica de mostrar que **a demanda pelo produto é meio \"teimosa\"**; ela não se abala facilmente com mudanças no preço."
      ],
      "metadata": {
        "id": "OszO2Rk91vZ3"
      }
    },
    {
      "cell_type": "markdown",
      "source": [
        "---\n",
        "### **Interpretação Empresarial**\n",
        "Para empresas, entender como o preço afeta as vendas é crucial:\n",
        "\n",
        "1. `Elasticidade de preço unitária`: Quando o preço muda, as vendas mudam na mesma proporção. Então, a empresa precisa ser cautelosa ao mudar preços para não perder dinheiro ou clientes.\n",
        "\n",
        "2. `Elasticidade de preço inelástica`: Aqui, a empresa tem liberdade para aumentar o preço um pouco, sem que as vendas caiam muito. Isso é bom para aumentar lucros.\n",
        "\n",
        "3. `Elasticidade de preço elástica`: Nesse caso, qualquer alteração no preço pode fazer as vendas subirem ou caírem bastante. É um terreno perigoso para mexer nos preços.\n",
        "\n",
        "4. `Elasticidade de preços negativa`: Nesse caso, as mudanças de preço não afetam muito as vendas. Pode ser um sinal de que o produto é essencial para os consumidores ou que não há alternativas no mercado.\n",
        "\n",
        "Então, conhecer o tipo de elasticidade ajuda a empresa a decidir se pode aumentar o preço, se deve baixar ou mantê-lo, e como isso vai afetar suas vendas e lucros. É como um termômetro para estratégias de preço e marketing."
      ],
      "metadata": {
        "id": "bS46XAFG3pOs"
      }
    },
    {
      "cell_type": "markdown",
      "source": [
        "---\n",
        "### **Cálculo da Elasticidade-Preço da Demanda**\n",
        "A elasticidade-preço da demanda nos ajuda a entender como a quantidade vendida de um produto muda quando alteramos seu preço. Em termos simples, é uma medida que compara a mudança percentual na quantidade vendida com a mudança percentual no preço do produto.\n",
        "\n",
        "Suponha que você tenha um produto cuja demanda diminuiu em 30% quando o preço aumentou em 15%. Para encontrar a elasticidade-preço da demanda, dividimos a `mudança percentual na demanda` (30%) pela `mudança percentual no preço` (15%). O resultado é 2.\n",
        "\n",
        "Nesse exemplo, a `elasticidade é igual a 2`, o que indica que a **demanda é duas vezes mais sensível do que a mudança no preço**. Em termos técnicos, dizemos que o produto tem uma `elasticidade de preço elástica`, pois o valor é maior que 1. Isso significa que pequenas alterações no preço podem levar a grandes mudanças na quantidade demandada**."
      ],
      "metadata": {
        "id": "xtudF4nxlm5N"
      }
    },
    {
      "cell_type": "markdown",
      "source": [
        "---\n",
        "### **Método do Ponto Médio**\n",
        "O método do ponto médio serve para avaliar como as vendas de um produto se comportam quando você muda o seu preço. Essa avaliação pode variar dependendo de se você começa analisando do preço mais baixo para o mais alto, ou o contrário.\n",
        "\n",
        "Vou usar um exemplo para ilustrar: imagine que você vende copos e resolveu subir o preço de 5 para 6 reais. Antes da mudança, você vendia 100 copos; depois, as vendas caíram para 80.\n",
        "\n",
        "1. Calculamos a média das vendas, ou seja, a venda \"intermediária\". A média entre 100 copos e 80 copos é 90 copos.\n",
        "2. Da mesma forma, calculamos a média do preço, que seria entre 5 e 6 reais. A média aqui é 5,50 reais.\n",
        "\n",
        "Agora, comparemos as mudanças:\n",
        "\n",
        "- Suas vendas médias eram de 90 copos e caíram para 80, ou seja, uma diminuição de 10 copos.\n",
        "- O preço médio era de 5,50 reais e aumentou para 6, ou seja, um acréscimo de 50 centavos.\n",
        "\n",
        "Agora, o que esses números nos mostram? Eles indicam que suas vendas são bastante sensíveis a alterações de preço. Com um aumento de apenas 50 centavos, você vendeu 10 copos a menos.\n",
        "\n",
        "Essa sensibilidade ao preço é importante para você saber: se planeja alterar o preço no futuro, tenha em mente que pequenas mudanças podem ter um grande impacto nas suas vendas."
      ],
      "metadata": {
        "id": "76tT_pDh4MPY"
      }
    },
    {
      "cell_type": "markdown",
      "source": [
        "---\n",
        "### **Interpretação do Resultado Matemático da Elasticidade de Preços**\n",
        "Entender a elasticidade do preço é como saber o \"termômetro\" das vendas. Se você mexe no preço, ela te diz quanto suas vendas vão subir ou cair.\n",
        "\n",
        "- Se a elasticidade é alta `(acima de 1)`, cuidado ao aumentar o preço, pois as vendas podem cair bastante. Por exemplo, com elasticidade de 15, se você aumentar o preço em 1%, pode esperar que as vendas caiam 15%.\n",
        "\n",
        "- Se a elasticidade é baixa `(abaixo de 1)`, você tem mais liberdade para aumentar o preço sem perder muitas vendas. Com elasticidade de 0,15, se o preço sobe 1%, as vendas só caem 0,15%.\n",
        "\n",
        "- Com `elasticidade igual a 1`, qualquer mudança no preço resulta numa mudança igual nas vendas. Se o preço sobe 1%, as vendas caem 1%.\n",
        "\n",
        "Então, para resumir: Produtos com alta elasticidade podem ganhar mais clientes se ficarem mais baratos. Produtos com baixa elasticidade permitem que você aumente o preço sem perder muitas vendas."
      ],
      "metadata": {
        "id": "zguZFxu748LU"
      }
    },
    {
      "cell_type": "markdown",
      "source": [
        "---\n",
        "### **Entendendo Demanda e Elasticidade de Preços**\n",
        "\n",
        "**O que é Demanda?**\n",
        "\n",
        "Demanda é simplesmente quantas unidades de um produto as pessoas querem comprar a um certo preço. Por exemplo, a 5 reais, talvez você venda 100 camisetas.\n",
        "\n",
        "**O que é Elasticidade de Preços?**\n",
        "\n",
        "A elasticidade de preços vai um passo além e responde: **\"Se eu mudar o preço, quanto as vendas vão mudar?\"**. Se você aumentar o preço da camiseta para 6 reais e agora só vende 80, a elasticidade ajuda a entender essa mudança.\n",
        "\n",
        "**Por que São Diferentes?**\n",
        "\n",
        "Demanda é o **\"retrato\"** das vendas a um preço fixo. Elasticidade é mais como um **\"filme\"** que mostra como as vendas mudam quando você brinca com o preço.\n",
        "\n",
        "**Por que Precisamos de Uma Equação de Demanda?**\n",
        "\n",
        "A equação de demanda é uma fórmula matemática que liga o preço e a quantidade vendida. Ela é crucial para calcular a elasticidade e também ajuda empresas a prever vendas futuras para diferentes preços.\n",
        "\n",
        "**Concorrência e Elasticidade de Preços**\n",
        "\n",
        "Se o preço do produto de um concorrente mudar, isso pode afetar suas vendas. Por exemplo, se o preço do chá cair, as pessoas podem comprar menos café. Isso torna o café \"elástico\", porque uma pequena mudança no preço do chá causou uma grande mudança na venda de café.\n",
        "\n",
        "**Resumindo:**\n",
        "\n",
        "- Demanda mostra as vendas em um preço específico.\n",
        "- Elasticidade mostra como as vendas mudam com diferentes preços.\n",
        "- A equação de demanda ajuda a calcular ambos.\n",
        "- Concorrência pode tornar um produto mais ou menos \"elástico\".\n",
        "\n",
        "Com esses conceitos, empresas podem fazer preços mais inteligentes e maximizar lucros."
      ],
      "metadata": {
        "id": "Gg1AiGRqid7G"
      }
    },
    {
      "cell_type": "markdown",
      "source": [
        "---"
      ],
      "metadata": {
        "id": "jxq07kdDpClu"
      }
    },
    {
      "cell_type": "markdown",
      "source": [
        "# **Projeto de Elasticidade de Preços**\n",
        "\n",
        "O objetivo deste projeto é analisar a elasticidade de preços de um determinado produto ou serviço. Vamos focar em entender como variações no preço afetam o número de vendas. Ao final do projeto, seremos capazes de fornecer insights valiosos sobre como o preço afeta o número de vendas, o que pode ser crucial para estratégias de precificação futuras.\n",
        "\n",
        "Estaremos utilizando um conjunto de dados extenso, mas nossa análise será focada em três variáveis principais:\n",
        "\n",
        "1. Data da venda\n",
        "2. Número de vendas realizadas no período\n",
        "3. Preço do produto ou serviço vendido"
      ],
      "metadata": {
        "id": "DBWu-hzwqLNS"
      }
    },
    {
      "cell_type": "markdown",
      "source": [
        "## **0.0 Imports**\n",
        "Primeiro, vamos importar os dados e dar uma olhada nas primeiras linhas para entender sua estrutura."
      ],
      "metadata": {
        "id": "dtVSnAOepg75"
      }
    },
    {
      "cell_type": "code",
      "execution_count": null,
      "metadata": {
        "id": "uM0RbpvVlZnU"
      },
      "outputs": [],
      "source": [
        "import pandas as pd\n",
        "import numpy as np\n",
        "import seaborn as sns\n",
        "import matplotlib.pyplot as plt"
      ]
    },
    {
      "cell_type": "code",
      "source": [
        "# Carregando o conjunto de dados\n",
        "df_raw = pd.read_csv('df_ready.csv', error_bad_lines=False)\n",
        "\n",
        "# Visualizando as primeiras linhas do conjunto de dados\n",
        "df_raw.head(1)"
      ],
      "metadata": {
        "id": "SUaZyzboppuT"
      },
      "execution_count": null,
      "outputs": []
    },
    {
      "cell_type": "markdown",
      "source": [
        "Após a preparação dos dados, realizaremos uma série de análises estatísticas e modelagens para entender a elasticidade de preços. Isso incluirá:\n",
        "\n",
        "1. Análise descritiva das variáveis de interesse.\n",
        "2. Cálculo da elasticidade de preços.\n",
        "3. Modelagem estatística para validar os resultados.\n"
      ],
      "metadata": {
        "id": "CQeHsFDQqTgm"
      }
    },
    {
      "cell_type": "code",
      "source": [
        "# Removendo colunas desnecessárias do DataFrame 'df_raw'\n",
        "columns_to_drop = [\n",
        "    'Unnamed: 0',   # Removendo coluna de índices antigos ou não nomeados\n",
        "    'Date_imp',     # Removendo coluna de data de importação\n",
        "    'Cluster',      # Removendo coluna de agrupamento\n",
        "    'condition',    # Removendo coluna de condição do produto\n",
        "    'sourceURLs',   # Removendo coluna de URLs de origem\n",
        "    'Date_imp_d.1', # Removendo coluna de data de importação duplicada\n",
        "    'Zscore_1',     # Removendo coluna de Z-Score\n",
        "    'price_std',    # Removendo coluna de preço padronizado\n",
        "    'imageURLs',    # Removendo coluna de URLs de imagens\n",
        "    'shipping',     # Removendo coluna de informações de envio\n",
        "    'weight',       # Removendo coluna de peso\n",
        "    'currency'      # Removendo coluna de moeda\n",
        "]\n",
        "\n",
        "df_raw = df_raw.drop(columns=columns_to_drop)"
      ],
      "metadata": {
        "id": "aNxrvN4ERJ2g"
      },
      "execution_count": null,
      "outputs": []
    },
    {
      "cell_type": "markdown",
      "source": [
        "### **1.0 Descrição dos Dados**\n",
        "O objetivo desta etapa é preparar e entender os dados que serão utilizados para analisar a elasticidade de preços.\n",
        "\n",
        "Para garantir a integridade dos dados originais, uma cópia dos dados brutos é feita e armazenada em um novo DataFrame chamado `df1`. Isso é feito usando o seguinte código:"
      ],
      "metadata": {
        "id": "e4HiVk5_slUF"
      }
    },
    {
      "cell_type": "code",
      "source": [
        "df1 = df_raw.copy()"
      ],
      "metadata": {
        "id": "CI4OV8mlspYn"
      },
      "execution_count": null,
      "outputs": []
    },
    {
      "cell_type": "code",
      "source": [
        "df1.columns"
      ],
      "metadata": {
        "id": "6eRify0PQa5g"
      },
      "execution_count": null,
      "outputs": []
    },
    {
      "cell_type": "markdown",
      "source": [
        "A criação de uma cópia dos dados brutos é uma prática recomendada em ciência de dados. Isso permite que você faça todas as manipulações necessárias no conjunto de dados copiado (`df1`), mantendo o conjunto de dados original (`df_raw`) intocado para referência futura ou para correção de erros."
      ],
      "metadata": {
        "id": "cvg3ADdSsppA"
      }
    },
    {
      "cell_type": "code",
      "source": [
        "cols_name = ['date_imp', 'category_name', 'name', 'price', 'disc_price',\n",
        "       'merchant', 'disc_percentage', 'is_sale', 'imp_count', 'brand',\n",
        "       'p_description', 'dateadded', 'dateseen', 'dateupdated', 'manufacturer',\n",
        "       'day_n', 'month', 'month_n', 'day', 'week_number']\n",
        "\n",
        "df1.columns = cols_name"
      ],
      "metadata": {
        "id": "oftVv1rPzPK7"
      },
      "execution_count": null,
      "outputs": []
    },
    {
      "cell_type": "markdown",
      "source": [
        "### **1.1 Renomeação de Colunas**"
      ],
      "metadata": {
        "id": "grs_oTOgz7b0"
      }
    },
    {
      "cell_type": "markdown",
      "source": [
        "Ter nomes de colunas intuitivos e descritivos facilita a compreensão do conjunto de dados.\n",
        "Isso também ajuda na documentação e na colaboração, tornando mais fácil para qualquer pessoa entender o que cada coluna representa.\n",
        "\n",
        "Com a renomeação das colunas, o conjunto de dados agora está mais organizado e fácil de entender. Isso prepara o terreno para a análise exploratória de dados (EDA) e modelagem estatística que seguirão."
      ],
      "metadata": {
        "id": "CrXh9Osiz3g1"
      }
    },
    {
      "cell_type": "markdown",
      "source": [
        "### **1.2 Verificação das Dimensões dos Dados**\n",
        "Aqui entendemos a escala do conjunto de dados com o qual estamos trabalhando. Isso nos dará uma ideia inicial da complexidade e do volume de dados que precisaremos analisar.\n",
        "\n",
        "Para verificar as dimensões do DataFrame `df1`, utilizamos os seguintes comandos em Python:\n",
        "\n"
      ],
      "metadata": {
        "id": "qMFeHRKctwZS"
      }
    },
    {
      "cell_type": "code",
      "source": [
        "# Exibindo número de linhas do DataFrame df1\n",
        "print(f'Número de linhas: {df1.shape[0]}')\n",
        "\n",
        "# Exibindo número de colunas do DataFrame df1\n",
        "print(f'Número de colunas: {df1.shape[1]}')"
      ],
      "metadata": {
        "id": "TG9ZXgs6t62C"
      },
      "execution_count": null,
      "outputs": []
    },
    {
      "cell_type": "markdown",
      "source": [
        "\n",
        "Conhecer o número de linhas e colunas é crucial para entender o tamanho do conjunto de dados. Isso nos ajuda a planejar os próximos passos do projeto, como a limpeza de dados e a modelagem, de forma mais eficiente.\n",
        "\n",
        "Com esses comandos, obtemos uma visão rápida da estrutura do nosso conjunto de dados. Isso nos permite planejar melhor as etapas subsequentes, que podem incluir filtragem, agregação e aplicação de modelos estatísticos para entender a elasticidade de preços.\n"
      ],
      "metadata": {
        "id": "KAItAhZIt-TG"
      }
    },
    {
      "cell_type": "markdown",
      "source": [
        "\n",
        "\n",
        "## **1.2 Análise Exploratória e Preparação dos Dados**\n",
        "\n",
        "Realizaremoa uma análise exploratória inicial para entender a estrutura e as características do conjunto de dados. Além disso, planejamos reduzir a dimensionalidade dos dados para focar nas variáveis mais relevantes para a análise de elasticidade de preços.\n",
        "\n",
        "1. **Dimensionalidade Inicial**: O conjunto de dados `df1` possui 23.151 linhas e 32 colunas.\n",
        "2. **Seleção de Variáveis**: Para a análise de elasticidade, as variáveis primárias de interesse são 'demanda' e 'preço'. No entanto, outras variáveis podem ser consideradas para análises mais profundas.\n",
        "3. **Redução de Dimensionalidade**: Planejamos reduzir o número de colunas, mantendo apenas as que são relevantes para o estudo.\n",
        "4. **Testes Preliminares**: Foram realizados testes em dois tipos de dados para verificar a consistência na aplicação do modelo.\n",
        "5. **Pivotamento dos Dados**: Uma transformação adicional será realizada para reorganizar os dados, o que pode levar a diferentes interpretações, dependendo das variáveis escolhidas.\n",
        "\n",
        "### **Importância**\n",
        "- A redução de dimensionalidade torna o modelo mais eficiente e focado.\n",
        "- A análise exploratória inicial ajuda a entender o comportamento dos dados, o que é crucial antes de aplicar qualquer modelo estatístico.\n",
        "- O pivotamento e a seleção de variáveis permitem flexibilidade na análise, adaptando-se às necessidades específicas do projeto.\n",
        "\n",
        "Nesta subetapa, identificamos a estrutura do conjunto de dados e planejamos as ações para torná-lo mais gerenciável e relevante para a análise de elasticidade de preços. Os próximos passos incluirão a limpeza e transformação dos dados, seguidos pela aplicação de modelos estatísticos para entender a relação entre preço e demanda.\n",
        "\n"
      ],
      "metadata": {
        "id": "eoXm1HLQuBU0"
      }
    },
    {
      "cell_type": "markdown",
      "source": [
        "**Verificação de Tipos de Dados:** Utilizamos o comando `df1.dtypes` para listar os tipos de dados de cada coluna."
      ],
      "metadata": {
        "id": "uhdNLPi1u3Lw"
      }
    },
    {
      "cell_type": "markdown",
      "source": [
        "### **1.3 Tipos de Dados**"
      ],
      "metadata": {
        "id": "V3CT8uxc0Rmm"
      }
    },
    {
      "cell_type": "code",
      "source": [
        "df1.dtypes"
      ],
      "metadata": {
        "id": "Eyazb4gjvpEd"
      },
      "execution_count": null,
      "outputs": []
    },
    {
      "cell_type": "code",
      "source": [
        "df1.columns"
      ],
      "metadata": {
        "id": "rHa65i0Jx2dL"
      },
      "execution_count": null,
      "outputs": []
    },
    {
      "cell_type": "markdown",
      "source": [
        "### **1.4 Check NA**\n",
        "A execução deste comando nos fornecerá um resumo da quantidade de valores ausentes em cada coluna. Com base nessa informação, poderemos tomar decisões informadas sobre como tratar esses valores ausentes nas etapas subsequentes de limpeza de dados.Utilizamos o seguinte comando para verificar a quantidade de valores ausentes em cada coluna do DataFrame df1:"
      ],
      "metadata": {
        "id": "iiN7YZsg0XPS"
      }
    },
    {
      "cell_type": "code",
      "source": [
        "df1.isna().sum()"
      ],
      "metadata": {
        "id": "bcZg7upd0ZDP"
      },
      "execution_count": null,
      "outputs": []
    },
    {
      "cell_type": "markdown",
      "source": [
        "A presença de valores ausentes pode afetar a precisão dos modelos estatísticos.\n",
        "Saber onde estão os valores ausentes ajuda a decidir se eles devem ser preenchidos, ignorados ou se as linhas/colunas devem ser excluídas.\n",
        "\n"
      ],
      "metadata": {
        "id": "C2ZEqwbd082T"
      }
    },
    {
      "cell_type": "markdown",
      "source": [
        "### **1.5 Change types**\n",
        "Para alterar os tipos de dados, utilizaremos comandos específicos em Python, como astype() ou to_datetime(), dependendo do tipo de dado que desejamos."
      ],
      "metadata": {
        "id": "j_GfEzmJ00WO"
      }
    },
    {
      "cell_type": "code",
      "source": [
        "# Convertendo 'price' para float\n",
        "df1['price'] = df1['price'].astype(float)\n",
        "\n",
        "# Convertendo 'date_imp' para datetime\n",
        "df1['date_imp'] = pd.to_datetime(df1['date_imp'])"
      ],
      "metadata": {
        "id": "HslPf0uX1lkF"
      },
      "execution_count": null,
      "outputs": []
    },
    {
      "cell_type": "markdown",
      "source": [
        "Ter os tipos de dados corretos é crucial para a execução eficiente de cálculos e modelos estatísticos. Isso também minimiza o risco de erros e imprecisões que podem surgir devido a tipos de dados inadequados.\n",
        "\n",
        "Com a alteração dos tipos de dados, o conjunto de dados está agora mais bem preparado para análises e modelagens estatísticas. Isso também facilita a manipulação dos dados em etapas futuras."
      ],
      "metadata": {
        "id": "XDsinDPt1qNA"
      }
    },
    {
      "cell_type": "markdown",
      "source": [
        "## **1.7 Descriptive Statistics**\n",
        "O objetivo desta subetapa é gerar estatísticas descritivas para as variáveis numéricas e categóricas do conjunto de dados. Isso nos fornecerá uma visão geral dos dados e ajudará a identificar padrões, anomalias ou necessidades de limpeza adicional.\n",
        "\n",
        "Para separar as variáveis numéricas e categóricas, utilizamos os seguintes comandos:\n",
        "\n"
      ],
      "metadata": {
        "id": "5kRCbUlp2VjM"
      }
    },
    {
      "cell_type": "code",
      "source": [
        "# Selecionando apenas as colunas com tipos de dados numéricos (float e int64)\n",
        "num_attributes = df1.select_dtypes(include=['float', 'int64'])\n",
        "\n",
        "# Selecionando as colunas que não são numéricas (excluindo float e int64)\n",
        "col_attributes = df1.select_dtypes(exclude=['float', 'int64'])"
      ],
      "metadata": {
        "id": "xrSEDhPB2dJ3"
      },
      "execution_count": null,
      "outputs": []
    },
    {
      "cell_type": "markdown",
      "source": [
        "- As estatísticas descritivas das variáveis numéricas nos ajudarão a entender a distribuição, a centralidade e a dispersão dos dados.\n",
        "- Para as variáveis categóricas, entender a frequência das diferentes categorias pode ser útil para a análise.\n",
        "\n",
        "\n",
        "Com a separação das variáveis numéricas e categóricas, estamos agora prontos para calcular estatísticas descritivas que fornecerão insights valiosos para as etapas subsequentes de análise e modelagem.\n"
      ],
      "metadata": {
        "id": "8249XFNk2nT_"
      }
    },
    {
      "cell_type": "code",
      "source": [
        "# Calculando medidas de tendência central\n",
        "ct1 = pd.DataFrame(num_attributes.apply(np.mean)).T  # Calcula a média\n",
        "ct2 = pd.DataFrame(num_attributes.apply(np.median)).T  # Calcula a mediana\n",
        "\n",
        "# Calculando medidas de dispersão\n",
        "d1 = pd.DataFrame(num_attributes.apply(np.std)).T  # Calcula o desvio padrão\n",
        "d2 = pd.DataFrame(num_attributes.apply(min)).T  # Encontra o valor mínimo\n",
        "d3 = pd.DataFrame(num_attributes.apply(max)).T  # Encontra o valor máximo\n",
        "d4 = pd.DataFrame(num_attributes.apply(lambda x: x.max() - x.min())).T  # Calcula a amplitude\n",
        "d5 = pd.DataFrame(num_attributes.apply(lambda x: x.skew())).T  # Calcula a assimetria (skewness)\n",
        "d6 = pd.DataFrame(num_attributes.apply(lambda x: x.kurtosis())).T  # Calcula a curtose (kurtosis)\n",
        "\n",
        "# Concatenando todos os resultados em um DataFrame\n",
        "m = pd.concat([d2, d3, d4, ct1, ct2, d1, d5, d6]).T.reset_index()\n",
        "m.columns = ['att', 'min', 'max', 'range', 'mean', 'median', 'std', 'skew', 'kurt']\n",
        "m"
      ],
      "metadata": {
        "id": "VBTOFogk5_rM"
      },
      "execution_count": null,
      "outputs": []
    },
    {
      "cell_type": "markdown",
      "source": [
        "\n",
        "As medidas de tendência central (média e mediana) fornecem uma ideia do valor \"típico\" para cada atributo.\n",
        "As medidas de dispersão (desvio padrão, mínimo, máximo, amplitude, assimetria e curtose) ajudam a entender a variabilidade e a forma da distribuição dos dados.\n",
        "\n",
        "Com essas medidas calculadas, temos uma visão mais completa e detalhada dos atributos numéricos em nosso conjunto de dados. Isso nos permite fazer análises mais profundas e tomar decisões de modelagem mais informadas."
      ],
      "metadata": {
        "id": "dM_BFrmo58-J"
      }
    },
    {
      "cell_type": "markdown",
      "source": [
        "## **Exploratory Data Analysis**"
      ],
      "metadata": {
        "id": "69AF3YC06Ekn"
      }
    },
    {
      "cell_type": "code",
      "source": [
        "df2 = df1.copy()"
      ],
      "metadata": {
        "id": "EBb7SHZw50Vc"
      },
      "execution_count": null,
      "outputs": []
    },
    {
      "cell_type": "code",
      "source": [
        "df2.columns"
      ],
      "metadata": {
        "id": "rT_5LZ4X56RI"
      },
      "execution_count": null,
      "outputs": []
    },
    {
      "cell_type": "markdown",
      "source": [
        "### **Questões do Projeto**\n",
        "\n",
        "1. **Qual o merchant que mais vendeu?**\n",
        "   - Qual é o merchant que mais vendeu em termos de volume de vendas nos últimos 30 dias?\n",
        "   - Qual merchant tem a maior receita acumulada no último trimestre?\n",
        "\n",
        "2. **Qual a categoria mais vendida?**\n",
        "   - Qual categoria de produtos teve o maior volume de vendas no último mês?\n",
        "   - Qual categoria gerou a maior receita no último ano?\n",
        "\n",
        "3. **Qual a marca mais vendida?**\n",
        "   - Qual marca teve o maior número de unidades vendidas na última semana?\n",
        "   - Qual marca gerou a maior receita no último semestre?\n",
        "\n",
        "4. **Quais os dias que mais vendem?**\n",
        "   - Em quais dias da semana o volume de vendas é tipicamente mais alto?\n",
        "   - Há algum dia específico do mês que se destaca em termos de vendas?\n",
        "\n",
        "5. **Quais os meses que mais vendem?**\n",
        "   - Quais meses do ano apresentam o maior volume de vendas?\n",
        "   - Existe uma sazonalidade mensal nas vendas? Se sim, quais são os meses de pico?\n",
        "\n",
        "6. **Quais as semanas que mais vendem?**\n",
        "   - Quais semanas do ano registraram o maior volume de vendas?\n",
        "   - Existe alguma semana específica que se destaca em termos de receita gerada?"
      ],
      "metadata": {
        "id": "OTkxDUOc58JZ"
      }
    },
    {
      "cell_type": "markdown",
      "source": [
        "### 1. **Qual o merchant que mais vendeu?**"
      ],
      "metadata": {
        "id": "LIswo-x481yN"
      }
    },
    {
      "cell_type": "code",
      "source": [
        "# Importando as bibliotecas\n",
        "import pandas as pd\n",
        "import seaborn as sns\n",
        "import matplotlib.pyplot as plt\n",
        "\n",
        "# Organizando os dados\n",
        "grouped_merchants = df2.groupby('merchant').size().reset_index(name='total_sales')\n",
        "grouped_merchants_sorted = grouped_merchants.sort_values(by='total_sales', ascending=False)\n",
        "\n",
        "# Preparando o gráfico\n",
        "plt.figure(figsize=(20, 10))\n",
        "sns.set(style=\"white\")\n",
        "\n",
        "# Desenhando o gráfico\n",
        "barplot = sns.barplot(x='merchant', y='total_sales', data=grouped_merchants_sorted)\n",
        "\n",
        "# Detalhando o gráfico\n",
        "plt.title('Vendas por Comerciante')\n",
        "plt.xlabel('Comerciante')\n",
        "plt.ylabel('Total de Vendas')\n",
        "plt.xticks(rotation=45)\n",
        "\n",
        "# Adicionando rótulos de dados\n",
        "for p in barplot.patches:\n",
        "    barplot.annotate(f'{int(p.get_height())}',\n",
        "                     (p.get_x() + p.get_width() / 2., p.get_height()),\n",
        "                     ha = 'center',\n",
        "                     va = 'center',\n",
        "                     xytext = (0, 10),\n",
        "                     textcoords = 'offset points')\n",
        "\n",
        "# Mostrando o gráfico\n",
        "plt.tight_layout()\n",
        "plt.show()\n"
      ],
      "metadata": {
        "id": "QLZYmLIH5-q8"
      },
      "execution_count": null,
      "outputs": []
    },
    {
      "cell_type": "code",
      "source": [
        "# Filtrando dados para cada loja específica\n",
        "\n",
        "# Pegando apenas as vendas da loja \"Bestbuy.com\"\n",
        "df_best = df2[df2['merchant'] == 'Bestbuy.com']\n",
        "\n",
        "# Pegando apenas as vendas da loja \"bhphotovideo.com\"\n",
        "df_bhp = df2[df2['merchant'] == 'bhphotovideo.com']\n",
        "\n",
        "# Pegando apenas as vendas da loja \"Walmart.com\"\n",
        "df_walmart = df2[df2['merchant'] == 'Walmart.com']\n",
        "\n",
        "# Pegando apenas as vendas da loja \"ebay.com\"\n",
        "df_ebay = df2[df2['merchant'] == 'ebay.com']"
      ],
      "metadata": {
        "id": "VDflvSXt9KLU"
      },
      "execution_count": null,
      "outputs": []
    },
    {
      "cell_type": "markdown",
      "source": [
        "## **2.2 Qual é a categoria mais vendida?**\n",
        "O primeiro passo na nossa análica é obter uma visão geral dos dados. A ideia é avaliar a estrutura de preços da loja em comparação com o mercado em geral. Este será nosso ponto de partida, pois é mais fácil de ser executado e oferece insights imediatos.\n",
        "\n",
        "A segunda fase da análise é mais detalhada e exige um esforço maior. Nessa etapa, segmentamos os dados por loja ou produto para realizar uma análise mais granular. Esta abordagem nos permite identificar variações de elasticidade que podem ser específicas para certos segmentos."
      ],
      "metadata": {
        "id": "kJCsL7tQ9Rki"
      }
    },
    {
      "cell_type": "markdown",
      "source": [
        "### **2.2.1 Qual é a categoria mais vendida no geral?**"
      ],
      "metadata": {
        "id": "Zd9BrmLh9Xoy"
      }
    },
    {
      "cell_type": "code",
      "source": [
        "import matplotlib.pyplot as plt  # Importa a biblioteca para gráficos\n",
        "import seaborn as sns  # Importa a biblioteca para estilização dos gráficos\n",
        "\n",
        "# --- Preparação dos Dados ---\n",
        "# Agrupa os dados por categoria, conta o número de vendas e ordena os resultados.\n",
        "grouped_categories = df2.groupby('category_name').size().reset_index(name='total_sales').sort_values(by='total_sales', ascending=False)\n",
        "\n",
        "# --- Configuração do Gráfico ---\n",
        "# Define as dimensões do gráfico (largura 20 x altura 10).\n",
        "plt.figure(figsize=(20, 10))\n",
        "\n",
        "# Define o estilo de fundo do gráfico como \"White\".\n",
        "sns.set(style=\"white\")\n",
        "\n",
        "# --- Criação do Gráfico ---\n",
        "# Cria um gráfico de barras utilizando os dados de vendas agrupados por categoria.\n",
        "sns.barplot(x='category_name', y='total_sales', data=grouped_categories)\n",
        "\n",
        "# --- Personalização do Gráfico ---\n",
        "# Define o título do gráfico.\n",
        "plt.title('Vendas por Categoria')\n",
        "\n",
        "# Define os rótulos dos eixos X e Y.\n",
        "plt.xlabel('Categoria')\n",
        "plt.ylabel('Total de Vendas')\n",
        "\n",
        "# Rotaciona os rótulos do eixo X em 90 graus para facilitar a visualização.\n",
        "plt.xticks(rotation=90)\n",
        "\n",
        "# --- Exibição do Gráfico ---\n",
        "# Exibe o gráfico.\n",
        "plt.show()"
      ],
      "metadata": {
        "id": "Scm-v4r-9W3x"
      },
      "execution_count": null,
      "outputs": []
    },
    {
      "cell_type": "markdown",
      "source": [
        "### **2.2.1 Qual é a categoria mais vendida por loja?**"
      ],
      "metadata": {
        "id": "SWUqTaUP9oCK"
      }
    },
    {
      "cell_type": "code",
      "source": [
        "import matplotlib.pyplot as plt\n",
        "import seaborn as sns\n",
        "\n",
        "# --- Configurações Iniciais do Gráfico ---\n",
        "# Define o tamanho da figura para acomodar todos os gráficos (30 de largura, 20 de altura)\n",
        "plt.figure(figsize=(30, 30))\n",
        "\n",
        "# --- Gráfico 1: Bestbuy.com ---\n",
        "# Escolhe a primeira posição em uma grade de 2x2 para este gráfico\n",
        "plt.subplot(2, 2, 1)\n",
        "\n",
        "# Agrupa os dados de Bestbuy.com por 'category_name', conta as ocorrências e ordena em ordem decrescente\n",
        "dados_bestbuy = df_best.groupby('category_name').count().reset_index().sort_values(by='date_imp', ascending=False)\n",
        "\n",
        "# Cria o gráfico de barras\n",
        "sns.barplot(x='category_name', y='date_imp', data=dados_bestbuy)\n",
        "\n",
        "# Adiciona um título ao gráfico e roda os rótulos do eixo X para melhor visualização\n",
        "plt.title('Bestbuy.com', fontsize=16)\n",
        "plt.xticks(rotation=90, fontsize=12)\n",
        "\n",
        "# --- Gráfico 2: bhphotovideo.com ---\n",
        "# Escolhe a segunda posição em uma grade de 2x2 para este gráfico\n",
        "plt.subplot(2, 2, 2)\n",
        "\n",
        "# Processamento semelhante ao primeiro gráfico, mas para bhphotovideo.com\n",
        "dados_bhp = df_bhp.groupby('category_name').count().reset_index().sort_values(by='date_imp', ascending=False)\n",
        "sns.barplot(x='category_name', y='date_imp', data=dados_bhp)\n",
        "plt.title('bhphotovideo.com', fontsize=16)\n",
        "plt.xticks(rotation=90, fontsize=12)\n",
        "\n",
        "# --- Gráfico 3: Ebay.com ---\n",
        "# Terceira posição\n",
        "plt.subplot(2, 2, 3)\n",
        "\n",
        "# Processamento semelhante aos gráficos anteriores, mas para Ebay.com\n",
        "dados_ebay = df_ebay.groupby('category_name').count().reset_index().sort_values(by='date_imp', ascending=False)\n",
        "sns.barplot(x='category_name', y='date_imp', data=dados_ebay)\n",
        "plt.title('Ebay.com', fontsize=16)\n",
        "plt.xticks(rotation=90, fontsize=12)\n",
        "\n",
        "# --- Gráfico 4: Walmart.com ---\n",
        "# Quarta posição\n",
        "plt.subplot(2, 2, 4)\n",
        "\n",
        "# Processamento semelhante aos gráficos anteriores, mas para Walmart.com\n",
        "dados_walmart = df_walmart.groupby('category_name').count().reset_index().sort_values(by='date_imp', ascending=False)\n",
        "sns.barplot(x='category_name', y='date_imp', data=dados_walmart)\n",
        "plt.title('Walmart.com', fontsize=16)\n",
        "plt.xticks(rotation=90, fontsize=12)\n",
        "\n",
        "# --- Ajustes Finais ---\n",
        "# Ajusta o layout para evitar sobreposições\n",
        "plt.tight_layout()\n",
        "\n",
        "# Exibe os gráficos\n",
        "plt.show()"
      ],
      "metadata": {
        "id": "-SACKWWi981q"
      },
      "execution_count": null,
      "outputs": []
    },
    {
      "cell_type": "markdown",
      "source": [
        "## **2.3 Qual é a marca mais vendida?**"
      ],
      "metadata": {
        "id": "imiWbcbL-yn0"
      }
    },
    {
      "cell_type": "code",
      "source": [
        "import matplotlib.pyplot as plt\n",
        "import seaborn as sns\n",
        "\n",
        "# Função para adicionar rótulos às barras\n",
        "def add_labels_to_bars(ax):\n",
        "    for p in ax.patches:\n",
        "        ax.annotate(str(p.get_height()), (p.get_x() + p.get_width() / 2., p.get_height()),\n",
        "                    ha='center', va='center', fontsize=12, color='black', xytext=(0, 10),\n",
        "                    textcoords='offset points')\n",
        "\n",
        "# --- Preparação dos Dados ---\n",
        "grouped_brands = df2.groupby('brand').size().reset_index(name='total_sales').sort_values(by='total_sales', ascending=False).head(10)\n",
        "\n",
        "# --- Configurações Iniciais do Gráfico ---\n",
        "plt.figure(figsize=(20, 10))\n",
        "sns.set(style=\"white\")\n",
        "\n",
        "# --- Criação do Gráfico ---\n",
        "ax = sns.barplot(x='brand', y='total_sales', data=grouped_brands)\n",
        "\n",
        "# --- Personalizações Visuais ---\n",
        "plt.title('Top 10 Marcas Mais Vendidas', fontsize=16)\n",
        "plt.xlabel('Marca', fontsize=14)\n",
        "plt.ylabel('Total de Vendas', fontsize=14)\n",
        "plt.xticks(rotation=45, fontsize=12)\n",
        "\n",
        "# Adiciona rótulos de dados às barras\n",
        "add_labels_to_bars(ax)\n",
        "\n",
        "# --- Exibição do Gráfico ---\n",
        "plt.show()"
      ],
      "metadata": {
        "id": "TpKVQV01-24N"
      },
      "execution_count": null,
      "outputs": []
    },
    {
      "cell_type": "markdown",
      "source": [
        "### **2.3.1 Quais as Marcas que mais vendem por Loja?**\n",
        "Este código gera quatro gráficos de barras para mostrar as marcas que mais vendem em quatro lojas diferentes: Bestbuy.com, bhphotovideo.com, Ebay.com e Walmart.com. O objetivo é identificar as cinco marcas com maior volume de vendas em cada loja."
      ],
      "metadata": {
        "id": "AdSPFyDo_L3J"
      }
    },
    {
      "cell_type": "code",
      "source": [
        "import matplotlib.pyplot as plt\n",
        "import seaborn as sns\n",
        "\n",
        "# Configura o tamanho total da figura (30 de largura, 20 de altura)\n",
        "plt.figure(figsize=(20, 20))\n",
        "\n",
        "def add_labels(ax):\n",
        "    for p in ax.patches:\n",
        "        ax.annotate(str(p.get_height()), (p.get_x() + p.get_width() / 2., p.get_height()),\n",
        "                    ha='center', va='center', fontsize=14, color='black', xytext=(0, 10),\n",
        "                    textcoords='offset points')\n",
        "\n",
        "# --- Primeiro Gráfico (Bestbuy.com) ---\n",
        "plt.subplot(2, 2, 1)\n",
        "aux8 = df_best.groupby('brand').count().reset_index().sort_values(by='date_imp', ascending=False).head(5)\n",
        "ax1 = sns.barplot(x='brand', y='date_imp', data=aux8)\n",
        "plt.title('Bestbuy.com', fontsize=16)\n",
        "plt.xlabel('Marca', fontsize=14)\n",
        "plt.ylabel('Total de Vendas', fontsize=14)\n",
        "plt.xticks(rotation=45, fontsize=12)\n",
        "add_labels(ax1)\n",
        "\n",
        "# --- Segundo Gráfico (bhphotovideo.com) ---\n",
        "plt.subplot(2, 2, 2)\n",
        "aux9 = df_bhp.groupby('brand').count().reset_index().sort_values(by='date_imp', ascending=False).head(5)\n",
        "ax2 = sns.barplot(x='brand', y='date_imp', data=aux9)\n",
        "plt.title('bhphotovideo.com', fontsize=16)\n",
        "plt.xlabel('Marca', fontsize=14)\n",
        "plt.ylabel('Total de Vendas', fontsize=14)\n",
        "plt.xticks(rotation=45, fontsize=12)\n",
        "add_labels(ax2)\n",
        "\n",
        "# --- Terceiro Gráfico (Ebay.com) ---\n",
        "plt.subplot(2, 2, 3)\n",
        "aux10 = df_ebay.groupby('brand').count().reset_index().sort_values(by='date_imp', ascending=False).head(5)\n",
        "ax3 = sns.barplot(x='brand', y='date_imp', data=aux10)\n",
        "plt.title('Ebay.com', fontsize=16)\n",
        "plt.xlabel('Marca', fontsize=14)\n",
        "plt.ylabel('Total de Vendas', fontsize=14)\n",
        "plt.xticks(rotation=45, fontsize=12)\n",
        "add_labels(ax3)\n",
        "\n",
        "# --- Quarto Gráfico (Walmart.com) ---\n",
        "plt.subplot(2, 2, 4)\n",
        "aux11 = df_walmart.groupby('brand').count().reset_index().sort_values(by='date_imp', ascending=False).head(5)\n",
        "ax4 = sns.barplot(x='brand', y='date_imp', data=aux11)\n",
        "plt.title('Walmart.com', fontsize=16)\n",
        "plt.xlabel('Marca', fontsize=14)\n",
        "plt.ylabel('Total de Vendas', fontsize=14)\n",
        "plt.xticks(rotation=45, fontsize=12)\n",
        "add_labels(ax4)\n",
        "\n",
        "# Ajusta o layout para que os gráficos não se sobreponham\n",
        "plt.tight_layout()\n",
        "\n",
        "# Mostra todos os gráficos\n",
        "plt.show()"
      ],
      "metadata": {
        "id": "_-75MPT-_P0N"
      },
      "execution_count": null,
      "outputs": []
    },
    {
      "cell_type": "markdown",
      "source": [
        "## **2.4 Quais são os dias da semana que mais vendem no geral?**\n",
        "Aqui identificamos quais dias da semana registram o maior volume de vendas, considerando todas as lojas em análise.\n",
        "\n",
        "Primeiramente, os dados são agrupados por dia da semana, e o número total de vendas para cada dia é calculado. Essas informações são então ordenadas para determinar quais dias têm o maior número de vendas. O gráfico de barras é criado com os dias da semana no eixo X e o total de vendas no eixo Y."
      ],
      "metadata": {
        "id": "sjA850cw_xjn"
      }
    },
    {
      "cell_type": "code",
      "source": [
        "import matplotlib.pyplot as plt\n",
        "import seaborn as sns\n",
        "\n",
        "# Função para adicionar rótulos às barras do gráfico\n",
        "def add_labels_to_bars(ax):\n",
        "    for p in ax.patches:\n",
        "        ax.annotate(str(p.get_height()), (p.get_x() + p.get_width() / 2., p.get_height()),\n",
        "                    ha='center', va='center', fontsize=12, color='black', xytext=(0, 10),\n",
        "                    textcoords='offset points')\n",
        "\n",
        "# --- Configuração Inicial ---\n",
        "# Define o tamanho da figura (20 de largura, 8 de altura)\n",
        "plt.figure(figsize=(20, 8))\n",
        "\n",
        "# --- Preparação dos Dados ---\n",
        "# Agrupa os dados por 'day_n', conta as ocorrências e ordena em ordem decrescente\n",
        "aux12 = df2.groupby('day_n').count().reset_index().sort_values(by='date_imp', ascending=False)\n",
        "\n",
        "# --- Criação do Gráfico ---\n",
        "# Cria o gráfico de barras\n",
        "ax = sns.barplot(x='day_n', y='date_imp', data=aux12)\n",
        "\n",
        "# --- Personalizações Visuais ---\n",
        "# Adiciona um título e rótulos aos eixos\n",
        "plt.title('Vendas por Dia', fontsize=16)\n",
        "plt.xlabel('Dia da Semana', fontsize=14)\n",
        "plt.ylabel('Total de Vendas', fontsize=14)\n",
        "plt.xticks(rotation=45, fontsize=12)\n",
        "\n",
        "# Adiciona rótulos de dados às barras\n",
        "add_labels_to_bars(ax)\n",
        "\n",
        "# --- Exibição do Gráfico ---\n",
        "# Mostra o gráfico\n",
        "plt.show()"
      ],
      "metadata": {
        "id": "V7SjidJh_4rL"
      },
      "execution_count": null,
      "outputs": []
    },
    {
      "cell_type": "markdown",
      "source": [
        "### **2.4.1 Quais são os dias de maior volume de vendas para cada Loja?**\n",
        "Neste trecho de código, estamos examinando os dias da semana em que ocorrem o maior volume de vendas para quatro lojas diferentes: Bestbuy.com, bhphotovideo.com, Ebay.com e Walmart.com. Utilizamos bibliotecas como Matplotlib e Seaborn para criar gráficos de barras que ilustram esses dados.\n",
        "\n",
        "Primeiro, agrupamos as vendas de cada loja por dia da semana e contamos o número de ocorrências. Depois, ordenamos esses dados para descobrir qual dia teve o maior volume de vendas para cada loja. Cada gráfico de barras representa uma loja específica e os dias da semana são dispostos no eixo X, enquanto o número de vendas é exibido no eixo Y."
      ],
      "metadata": {
        "id": "G-e6s2QPANu5"
      }
    },
    {
      "cell_type": "code",
      "source": [
        "import matplotlib.pyplot as plt\n",
        "import seaborn as sns\n",
        "\n",
        "def add_labels_to_bars(ax):\n",
        "    for p in ax.patches:\n",
        "        ax.annotate(str(p.get_height()), (p.get_x() + p.get_width() / 2., p.get_height()),\n",
        "                    ha='center', va='center', fontsize=12, color='black', xytext=(0, 10),\n",
        "                    textcoords='offset points')\n",
        "\n",
        "plt.figure(figsize=(30, 20))\n",
        "\n",
        "# Gráfico para Bestbuy.com\n",
        "plt.subplot(2, 2, 1)\n",
        "aux13 = df_best.groupby('day_n').count().reset_index().sort_values(by='date_imp', ascending=False)\n",
        "ax1 = sns.barplot(x='day_n', y='date_imp', data=aux13)\n",
        "plt.title('Bestbuy.com', fontsize=16)\n",
        "plt.xticks(rotation=45, fontsize=12)\n",
        "add_labels_to_bars(ax1)\n",
        "\n",
        "# Gráfico para bhphotovideo.com\n",
        "plt.subplot(2, 2, 2)\n",
        "aux14 = df_bhp.groupby('day_n').count().reset_index().sort_values(by='date_imp', ascending=False)\n",
        "ax2 = sns.barplot(x='day_n', y='date_imp', data=aux14)\n",
        "plt.title('bhphotovideo.com', fontsize=16)\n",
        "plt.xticks(rotation=45, fontsize=12)\n",
        "add_labels_to_bars(ax2)\n",
        "\n",
        "# Gráfico para Ebay.com\n",
        "plt.subplot(2, 2, 3)\n",
        "aux15 = df_ebay.groupby('day_n').count().reset_index().sort_values(by='date_imp', ascending=False)\n",
        "ax3 = sns.barplot(x='day_n', y='date_imp', data=aux15)\n",
        "plt.title('Ebay.com', fontsize=16)\n",
        "plt.xticks(rotation=45, fontsize=12)\n",
        "add_labels_to_bars(ax3)\n",
        "\n",
        "# Gráfico para Walmart.com\n",
        "plt.subplot(2, 2, 4)\n",
        "aux16 = df_walmart.groupby('day_n').count().reset_index().sort_values(by='date_imp', ascending=False)\n",
        "ax4 = sns.barplot(x='day_n', y='date_imp', data=aux16)\n",
        "plt.title('Walmart.com', fontsize=16)\n",
        "plt.xticks(rotation=45, fontsize=12)\n",
        "add_labels_to_bars(ax4)\n",
        "\n",
        "plt.tight_layout()\n",
        "plt.show()\n"
      ],
      "metadata": {
        "id": "PKOZrdaAAr9U"
      },
      "execution_count": null,
      "outputs": []
    },
    {
      "cell_type": "markdown",
      "source": [
        "---\n",
        "## **2.5 Quais são os Meses que mais vendem?**\n",
        "Aqui visualizamos quais meses têm o maior volume de vendas. Os dados são agrupados por mês e o número total de vendas é contado para cada um. Os meses são então ordenados do maior para o menor volume de vendas e apresentados no gráfico. O eixo X representa os meses e o eixo Y, o total de vendas."
      ],
      "metadata": {
        "id": "fwx_ZPuYCVUP"
      }
    },
    {
      "cell_type": "code",
      "source": [
        "import matplotlib.pyplot as plt\n",
        "import seaborn as sns\n",
        "\n",
        "# Função para adicionar rótulos às barras\n",
        "def add_labels_to_bars(ax):\n",
        "    for p in ax.patches:\n",
        "        ax.annotate(str(p.get_height()), (p.get_x() + p.get_width() / 2., p.get_height()),\n",
        "                    ha='center', va='center', fontsize=12, color='black', xytext=(0, 10),\n",
        "                    textcoords='offset points')\n",
        "\n",
        "# Configura tamanho da figura\n",
        "plt.figure(figsize=(20, 8))\n",
        "\n",
        "# Agrupa por mês e conta vendas, depois ordena\n",
        "aux17 = df2.groupby('month_n').count().reset_index().sort_values(by='date_imp', ascending=False)\n",
        "\n",
        "# Cria gráfico de barras\n",
        "ax = sns.barplot(x='month_n', y='date_imp', data=aux17)\n",
        "\n",
        "# Ajusta rótulos do eixo X\n",
        "plt.xticks(rotation=90, fontsize=12)\n",
        "\n",
        "# Adiciona rótulos às barras\n",
        "add_labels_to_bars(ax)\n",
        "\n",
        "# Mostra gráfico\n",
        "plt.show()"
      ],
      "metadata": {
        "id": "MqT2GC00CbX3"
      },
      "execution_count": null,
      "outputs": []
    },
    {
      "cell_type": "markdown",
      "source": [
        "### **2.5.1 Quais são os Meses que mais vendem por Loja?**\n",
        "Aqui visualizamos quais meses têm o maior volume de vendas por loja. Os dados são agrupados por mês e o número total de vendas é contado para cada um. Os meses são então ordenados do maior para o menor volume de vendas e apresentados em um gráfico de barras."
      ],
      "metadata": {
        "id": "NFLZ1C5JCzXK"
      }
    },
    {
      "cell_type": "code",
      "source": [
        "import matplotlib.pyplot as plt\n",
        "import seaborn as sns\n",
        "\n",
        "# Configura tamanho da figura\n",
        "plt.figure(figsize=(30, 20))\n",
        "\n",
        "# Gráfico 1 (Bestbuy.com)\n",
        "plt.subplot(2, 2, 1)\n",
        "aux18 = df_best.groupby('month_n').count().reset_index().sort_values(by='date_imp', ascending=False)\n",
        "sns.barplot(x='month_n', y='date_imp', data=aux18)\n",
        "plt.title('Bestbuy.com')\n",
        "plt.xticks(rotation=90, fontsize=12)\n",
        "\n",
        "# Gráfico 2 (bhphotovideo.com)\n",
        "plt.subplot(2, 2, 2)\n",
        "aux19 = df_bhp.groupby('month_n').count().reset_index().sort_values(by='date_imp', ascending=False)\n",
        "sns.barplot(x='month_n', y='date_imp', data=aux19)\n",
        "plt.title('bhphotvideo.com')\n",
        "plt.xticks(rotation=90, fontsize=12)\n",
        "\n",
        "# Gráfico 3 (Ebay.com)\n",
        "plt.subplot(2, 2, 3)\n",
        "aux20 = df_ebay.groupby('month_n').count().reset_index().sort_values(by='date_imp', ascending=False)\n",
        "sns.barplot(x='month_n', y='date_imp', data=aux20)\n",
        "plt.title('Ebay.com')\n",
        "plt.xticks(rotation=90, fontsize=12)\n",
        "\n",
        "# Gráfico 4 (Walmart.com)\n",
        "plt.subplot(2, 2, 4)\n",
        "aux21 = df_walmart.groupby('month_n').count().reset_index().sort_values(by='date_imp', ascending=False)\n",
        "sns.barplot(x='month_n', y='date_imp', data=aux21)\n",
        "plt.title('Walmart.com')\n",
        "plt.xticks(rotation=90, fontsize=12)\n",
        "\n",
        "# Ajusta layout\n",
        "plt.tight_layout()\n",
        "\n",
        "# Mostra gráfico\n",
        "plt.show()"
      ],
      "metadata": {
        "id": "MJBroDsEC5is"
      },
      "execution_count": null,
      "outputs": []
    },
    {
      "cell_type": "code",
      "source": [
        "df2.columns"
      ],
      "metadata": {
        "id": "FaG70KJBDOiw"
      },
      "execution_count": null,
      "outputs": []
    },
    {
      "cell_type": "markdown",
      "source": [
        "---\n",
        "## **2.6 Quais são as semanas que mais vendem?**"
      ],
      "metadata": {
        "id": "BMUembseDT55"
      }
    },
    {
      "cell_type": "code",
      "source": [
        "import matplotlib.pyplot as plt\n",
        "import seaborn as sns\n",
        "\n",
        "# Configura tamanho da figura\n",
        "plt.figure(figsize=(20, 8))\n",
        "\n",
        "# Agrupa por semana e conta vendas\n",
        "aux22 = df2.groupby('week_number').count().reset_index().sort_values(by='date_imp', ascending=False)\n",
        "\n",
        "# Cria gráfico de barras\n",
        "sns.barplot(x='week_number', y='date_imp', data=aux22)\n",
        "\n",
        "# Configura rótulos e título\n",
        "plt.xticks(rotation=90, fontsize=12)\n",
        "plt.title('Volume de Vendas por Semana do Ano', fontsize=16)  # Adiciona título ao gráfico\n",
        "\n",
        "# Mostra gráfico\n",
        "plt.show()"
      ],
      "metadata": {
        "id": "bLJh2xRJDo_b"
      },
      "execution_count": null,
      "outputs": []
    },
    {
      "cell_type": "markdown",
      "source": [
        "### **2.6.1 Quais as semanas que mais vendem por Loja?**\n",
        "Neste código, estamos tentando entender quais semanas do ano têm mais vendas. Primeiro, pegamos todas as vendas e organizamos por semana. Depois, contamos quantas vendas aconteceram em cada semana e ordenamos essas semanas do que teve mais vendas para o que teve menos."
      ],
      "metadata": {
        "id": "GaWkFG_eEC6U"
      }
    },
    {
      "cell_type": "code",
      "source": [
        "import matplotlib.pyplot as plt\n",
        "import seaborn as sns\n",
        "\n",
        "# Configura tamanho da figura\n",
        "plt.figure(figsize=(20, 8))\n",
        "\n",
        "# Agrupa os dados por 'week_number' e conta as ocorrências, depois ordena por contagem\n",
        "vendas_por_semana = df2.groupby('week_number').size().reset_index(name='total_vendas').sort_values(by='total_vendas', ascending=False)\n",
        "\n",
        "# Cria o gráfico de barras\n",
        "sns.barplot(x='week_number', y='total_vendas', data=vendas_por_semana)\n",
        "\n",
        "# Personaliza o gráfico\n",
        "plt.title('Vendas Totais por Semana', fontsize=16)\n",
        "plt.xlabel('Número da Semana', fontsize=14)\n",
        "plt.ylabel('Total de Vendas', fontsize=14)\n",
        "plt.xticks(rotation=90, fontsize=12)\n",
        "\n",
        "# Ajusta layout e exibe o gráfico\n",
        "plt.tight_layout()\n",
        "plt.show()\n"
      ],
      "metadata": {
        "id": "ipN7clIoEfO4"
      },
      "execution_count": null,
      "outputs": []
    },
    {
      "cell_type": "markdown",
      "source": [
        "## **3.0 Feature Engineering**  \n"
      ],
      "metadata": {
        "id": "MxauIASe8u86"
      }
    },
    {
      "cell_type": "code",
      "source": [
        "df3 = df2.copy()"
      ],
      "metadata": {
        "id": "Xuo42FLY8yQT"
      },
      "execution_count": null,
      "outputs": []
    },
    {
      "cell_type": "markdown",
      "source": [
        "### **Categoria mais vendida por Loja**"
      ],
      "metadata": {
        "id": "pWeVU2hq-Yms"
      }
    },
    {
      "cell_type": "code",
      "source": [
        "# Filtra a categoria mais vendida para a loja BestBuy\n",
        "df_best_laptop = df_best[df_best['category_name'] == 'laptop, computer']\n",
        "\n",
        "# Filtra a categoria mais vendida para a loja bhphotovideo.com\n",
        "df_bhp_camera = df_bhp[df_bhp['category_name'] == 'camera, mirrorles, photo']\n",
        "\n",
        "# Filtra a categoria mais vendida para a loja Walmart.com\n",
        "df_walmart_tv = df_walmart[df_walmart['category_name'] == 'tv, television, video']\n",
        "\n",
        "# Filtra a categoria mais vendida para a loja ebay.com\n",
        "df_ebay_tv = df_ebay[df_ebay['category_name'] == 'tv, television, video']"
      ],
      "metadata": {
        "id": "rWY7O0f-80DK"
      },
      "execution_count": null,
      "outputs": []
    },
    {
      "cell_type": "code",
      "source": [
        "# Checando NA em todos os DataFrames\n",
        "result = pd.concat([\n",
        "    df_best_laptop.isna().sum().rename('BestBuy'),\n",
        "    df_bhp_camera.isna().sum().rename('bhphotovideo.com'),\n",
        "    df_walmart_tv.isna().sum().rename('Walmart.com'),\n",
        "    df_ebay_tv.isna().sum().rename('ebay.com')\n",
        "], axis=1)\n",
        "\n",
        "print(result)"
      ],
      "metadata": {
        "id": "GY2a2V8VASHs"
      },
      "execution_count": null,
      "outputs": []
    },
    {
      "cell_type": "markdown",
      "source": [
        "Para analisar a elasticidade de preços, que indica como a demanda de um produto varia com mudanças no preço, coletamos dados semanais de vendas e preços, filtramos para focar no produto específico e realizamos uma análise para determinar essa elasticidade."
      ],
      "metadata": {
        "id": "OzMkeQnWF1oT"
      }
    },
    {
      "cell_type": "code",
      "source": [
        "# Agrupa e agrega o DataFrame de laptops da BestBuy\n",
        "test_best_laptop = df_best_laptop.groupby(['name', 'week_number']).agg({'disc_price': 'mean', 'date_imp': 'count'}).reset_index()\n",
        "test_best_laptop"
      ],
      "metadata": {
        "id": "tncwt9LoBAut"
      },
      "execution_count": null,
      "outputs": []
    },
    {
      "cell_type": "markdown",
      "source": [
        "\n",
        "Para ilustrar, considere que temos diversos produtos dentro de uma categoria. A análise é feita com base em dados semanais, que oferecem um bom equilíbrio entre granularidade e volume de dados. Em uma semana específica, digamos a semana 30, um determinado produto foi vendido uma vez pelo preço de 1599. Na semana seguinte, a semana 31, esse mesmo produto foi vendido oito vezes pelo preço de 1551 unidades.\n",
        "\n",
        "É crucial aqui observar que o preço efetivo considerado para a análise é o `disc_price`, ou seja, o preço com descontos aplicados. Isso garante que a análise reflita o preço real que influencia o comportamento do consumidor.\n",
        "\n",
        "Dada a natureza temporal dos dados, opta-se por uma análise semanal ao invés de diária ou mensal. Uma análise diária poderia não fornecer dados suficientes para uma conclusão precisa, enquanto a análise mensal, apesar de oferecer mais dados, pode ser demasiadamente ampla para captar variações mais sutis."
      ],
      "metadata": {
        "id": "CLjG4zWFJsMa"
      }
    },
    {
      "cell_type": "markdown",
      "source": [
        "### **Pivot**\n",
        "Para organizar esses dados, fazemos um \"pivot\" no DataFrame que contém informações sobre laptops da BestBuy, reestruturando-o de forma que cada coluna represente um produto e cada linha represente uma semana específica. Utilizamos o seguinte comando para pivotar o DataFrame original, reorganizando os dados para exibir os preços médios com desconto de cada laptop, por semana:\n",
        "\n"
      ],
      "metadata": {
        "id": "d_DIVaZbLVK4"
      }
    },
    {
      "cell_type": "code",
      "source": [
        "# Pivot o DataFrame 'test_best_laptop' para organizar os preços médios com desconto por semana e nome do produto\n",
        "x_price = test_best_laptop.pivot(index='week_number', columns='name', values='disc_price')\n",
        "\n",
        "# Redefine o índice para tornar 'week_number' uma coluna\n",
        "x_price.reset_index(inplace=True)\n",
        "\n",
        "# Mostra as primeiras linhas do DataFrame resultante\n",
        "x_price.head()\n"
      ],
      "metadata": {
        "id": "PN3eC4J8DOeB"
      },
      "execution_count": null,
      "outputs": []
    },
    {
      "cell_type": "markdown",
      "source": [
        "Esta organização é fundamental para a etapa de regressão que será realizada na sequência. Cada coluna, representando um produto diferente, servirá como um conjunto único de dados para análise. Assim, poderemos entender individualmente como a variação de preço afeta a demanda de cada produto, semana a semana.\n",
        "\n",
        "Essa etapa nos dá uma visão mais clara do comportamento dos preços ao longo do tempo para cada produto.\n",
        "\n",
        "Simultaneamente, executamos um processo semelhante para reorganizar os dados de vendas, conhecidos aqui como `date_imp`, que representam a quantidade de unidades vendidas. Este novo DataFrame é nomeado `y_demand`."
      ],
      "metadata": {
        "id": "Q76tth-lLhLK"
      }
    },
    {
      "cell_type": "code",
      "source": [
        "y_demand = test_best_laptop.pivot(index='week_number', columns='name', values='date_imp')\n",
        "y_demand = pd.DataFrame(y_demand.to_records())\n",
        "y_demand"
      ],
      "metadata": {
        "id": "lvBcMVMaNlDj"
      },
      "execution_count": null,
      "outputs": []
    },
    {
      "cell_type": "markdown",
      "source": [
        "A reorganização desses conjuntos de dados nos posiciona de forma eficaz para o próximo passo: a análise de regressão. Com os DataFrames `x_price` e `y_demand`, podemos agora avançar para calcular a elasticidade de preços, um exercício que não só aumenta a eficiência do processo como também contribui para decisões de negócios mais informadas."
      ],
      "metadata": {
        "id": "JQ11fxmXNrJA"
      }
    },
    {
      "cell_type": "markdown",
      "source": [
        "---\n",
        "## **Descrição dos Dados**"
      ],
      "metadata": {
        "id": "CLQk2ilgOFFd"
      }
    },
    {
      "cell_type": "code",
      "source": [
        "print(f'Number of rows: {x_price.shape[0]}')\n",
        "print(f'Number of columns: {x_price.shape[1]}')"
      ],
      "metadata": {
        "id": "CX6Z0jL6OJAf"
      },
      "execution_count": null,
      "outputs": []
    },
    {
      "cell_type": "code",
      "source": [
        "print(f'Number of rows: {y_demand.shape[0]}')\n",
        "print(f'Number of columns: {y_demand.shape[1]}')"
      ],
      "metadata": {
        "id": "Un29cinzOP_v"
      },
      "execution_count": null,
      "outputs": []
    },
    {
      "cell_type": "markdown",
      "source": [
        "### **4.1 Data Types**\n",
        "Entender os tipos de dados no nosso conjunto é fundamental para a análise subsequente. Utilizamos o comando x_price.dtypes para inspecionar os tipos de dados em cada coluna do DataFrame x_price."
      ],
      "metadata": {
        "id": "bc_WGLJVOje9"
      }
    },
    {
      "cell_type": "code",
      "source": [
        "x_price.dtypes"
      ],
      "metadata": {
        "id": "NvX9nKFCOnDj"
      },
      "execution_count": null,
      "outputs": []
    },
    {
      "cell_type": "code",
      "source": [
        "y_demand.dtypes"
      ],
      "metadata": {
        "id": "i87wdTCzP7TU"
      },
      "execution_count": null,
      "outputs": []
    },
    {
      "cell_type": "markdown",
      "source": [
        "## **4.3 Check NA**"
      ],
      "metadata": {
        "id": "RvXhGUg2QKZq"
      }
    },
    {
      "cell_type": "code",
      "source": [
        "x_price.isna().sum()"
      ],
      "metadata": {
        "id": "b46mNhP7QJFB"
      },
      "execution_count": null,
      "outputs": []
    },
    {
      "cell_type": "code",
      "source": [
        "y_demand.isna().sum()"
      ],
      "metadata": {
        "id": "Q5aWcJDYQTJo"
      },
      "execution_count": null,
      "outputs": []
    },
    {
      "cell_type": "markdown",
      "source": [
        "## **4.4 Replace NA**"
      ],
      "metadata": {
        "id": "0Y6P_-_KRaJU"
      }
    },
    {
      "cell_type": "code",
      "source": [
        "# 1. Calcular a mediana de cada coluna e arredondá-la para duas casas decimais\n",
        "a = np.round(x_price.median(), 2)\n",
        "\n",
        "# 2. Substituir os valores ausentes pela mediana calculada\n",
        "x_price.fillna(a, inplace=True)\n",
        "\n",
        "# 3. Exibir as primeiras cinco linhas do DataFrame atualizado para verificar se os valores ausentes foram substituídos\n",
        "x_price.head()"
      ],
      "metadata": {
        "id": "1w2mPXdxQauH"
      },
      "execution_count": null,
      "outputs": []
    },
    {
      "cell_type": "code",
      "source": [
        "# 1. Substituir os valores ausentes por zero\n",
        "y_demand.fillna(0, inplace=True)\n",
        "\n",
        "# 2. Exibir as primeiras cinco linhas do DataFrame atualizado para verificar se os valores ausentes foram substituídos\n",
        "y_demand.head()"
      ],
      "metadata": {
        "id": "YnYiBsDiTFKF"
      },
      "execution_count": null,
      "outputs": []
    },
    {
      "cell_type": "code",
      "source": [
        "# Calculando a média para cada coluna e transpondo o resultado para um novo DataFrame\n",
        "ct1_x = pd.DataFrame(x_price.apply(np.mean)).T\n",
        "\n",
        "# Calculando a mediana para cada coluna e transpondo o resultado para um novo DataFrame\n",
        "ct2_x = pd.DataFrame(x_price.apply(np.median)).T\n",
        "\n",
        "#  Desvio padrão para cada coluna\n",
        "d1_x = pd.DataFrame(x_price.apply(np.std)).T\n",
        "# Valor mínimo para cada coluna\n",
        "d2_x = pd.DataFrame(x_price.apply(min)).T\n",
        "# Valor máximo para cada coluna\n",
        "d3_x = pd.DataFrame(x_price.apply(max)).T\n",
        "# Amplitude (max - min) para cada coluna\n",
        "d4_x = pd.DataFrame(x_price.apply(lambda x: x.max() - x.min())).T\n",
        "# Assimetria (skewness) para cada coluna\n",
        "d5_x = pd.DataFrame(x_price.apply(lambda x: x.skew())).T\n",
        "# Curtose (kurtosis) para cada coluna\n",
        "d6_x = pd.DataFrame(x_price.apply(lambda x: x.kurtosis())).T\n",
        "\n",
        "# Concatenando todos os DataFrames calculados\n",
        "m_x_price = pd.concat([d2_x, d3_x, d4_x, ct1_x, ct2_x, d1_x, d5_x, d6_x]).T.reset_index()\n",
        "\n",
        "# Renomeando as colunas para facilitar a interpretação\n",
        "m_x_price.columns = ['att', 'min', 'max', 'range', 'mean', 'median', 'std', 'skew', 'kurt']\n",
        "\n",
        "# Exibindo o DataFrame final\n",
        "m_x_price"
      ],
      "metadata": {
        "id": "b6BJo-iKphIz"
      },
      "execution_count": null,
      "outputs": []
    },
    {
      "cell_type": "code",
      "source": [
        "# Calculando a média para cada coluna e transpondo o resultado para um novo DataFrame\n",
        "ct1_y = pd.DataFrame(y_demand.apply(np.mean)).T\n",
        "\n",
        "# Calculando a mediana para cada coluna e transpondo o resultado para um novo DataFrame\n",
        "ct2_y = pd.DataFrame(y_demand.apply(np.median)).T\n",
        "\n",
        "# Desvio padrão para cada coluna\n",
        "d1_y = pd.DataFrame(y_demand.apply(np.std)).T\n",
        "# Valor mínimo para cada coluna\n",
        "d2_y = pd.DataFrame(y_demand.apply(min)).T\n",
        "# Valor máximo para cada coluna\n",
        "d3_y = pd.DataFrame(y_demand.apply(max)).T\n",
        "# Amplitude (max - min) para cada coluna\n",
        "d4_y = pd.DataFrame(y_demand.apply(lambda x: x.max() - x.min())).T\n",
        "# Assimetria (skewness) para cada coluna\n",
        "d5_y = pd.DataFrame(y_demand.apply(lambda x: x.skew())).T\n",
        "# Curtose (kurtosis) para cada coluna\n",
        "d6_y = pd.DataFrame(y_demand.apply(lambda x: x.kurtosis())).T\n",
        "\n",
        "# Concatenando todos os DataFrames calculados\n",
        "m_y_demand = pd.concat([d2_y, d3_y, d4_y, ct1_y, ct2_y, d1_y, d5_y, d6_y]).T.reset_index()\n",
        "\n",
        "# Renomeando as colunas para facilitar a interpretação\n",
        "m_y_demand.columns = ['att', 'min', 'max', 'range', 'mean', 'median', 'std', 'skew', 'kurt']\n",
        "\n",
        "# Exibindo o DataFrame final\n",
        "m_y_demand"
      ],
      "metadata": {
        "id": "k5Y_B4n_qH1G"
      },
      "execution_count": null,
      "outputs": []
    },
    {
      "cell_type": "markdown",
      "source": [
        "## **5.0 EDA**"
      ],
      "metadata": {
        "id": "pS-gKuKjz7o_"
      }
    },
    {
      "cell_type": "code",
      "source": [
        "# Importação das bibliotecas necessárias\n",
        "import pandas as pd\n",
        "import matplotlib.pyplot as plt\n",
        "import seaborn as sns\n",
        "\n",
        "# Configuração inicial do plot\n",
        "plt.figure(figsize=(20, 10))  # Definindo o tamanho da figura\n",
        "\n",
        "# ----------- Primeiro Subplot: Mediana dos Preços -----------\n",
        "\n",
        "plt.subplot(2, 1, 1)  # Primeiro subplot em uma configuração de 2 linhas e 1 coluna\n",
        "\n",
        "# Calculando a mediana dos preços para cada produto\n",
        "aux1 = pd.DataFrame(x_price.apply(lambda x: x.median())).reset_index()\n",
        "aux1.columns = ['products', 'price']\n",
        "\n",
        "# Criando o gráfico de barras\n",
        "sns.barplot(x='products', y='price', data=aux1)\n",
        "\n",
        "# Configurações do gráfico\n",
        "plt.title('Mediana dos Preços por Produto')  # Título\n",
        "plt.xlabel('')  # Removendo o nome do eixo x\n",
        "plt.ylabel('Mediana do Preço')  # Nome do eixo y\n",
        "plt.xticks([])  # Removendo as etiquetas do eixo x\n",
        "\n",
        "# ----------- Segundo Subplot: Demanda Total -----------\n",
        "\n",
        "plt.subplot(2, 1, 2)  # Segundo subplot em uma configuração de 2 linhas e 1 coluna\n",
        "\n",
        "# Calculando a demanda total para cada produto\n",
        "aux2 = pd.DataFrame(y_demand.apply(lambda x: x.sum())).reset_index()\n",
        "aux2.columns = ['products', 'demand']\n",
        "\n",
        "# Criando o gráfico de barras\n",
        "sns.barplot(x='products', y='demand', data=aux2)\n",
        "\n",
        "# Configurações do gráfico\n",
        "plt.title('Demanda Total por Produto')  # Título\n",
        "plt.xlabel('Produtos')  # Nome do eixo x\n",
        "plt.ylabel('Demanda Total')  # Nome do eixo y\n",
        "plt.xticks(rotation=90, fontsize=16)  # Rotacionando e aumentando o tamanho das etiquetas do eixo x\n",
        "\n",
        "# Exibindo os gráficos\n",
        "plt.tight_layout()\n",
        "plt.show()\n",
        "\n"
      ],
      "metadata": {
        "id": "aeyzxu4dz-nF"
      },
      "execution_count": null,
      "outputs": []
    },
    {
      "cell_type": "code",
      "source": [
        "a =   ['12 MacBook (Mid 2017, Gold)', '12 MacBook (Mid 2017, Silver)',\n",
        "       '12.3 32GB Multi-Touch 2-in-1 Chromebook Plus',\n",
        "       '13.3 MacBook Air (Mid 2017, Silver)',\n",
        "       '15.4 MacBook Pro with Touch Bar (Late 2016, Silver)',\n",
        "       '15.4 MacBook Pro with Touch Bar (Late 2016, Space Gray)',\n",
        "       'ASUS VivoBook Max X541SA 15.6Inch Laptop Intel Pentium 4GB Memory 500GB HD Matte IMR X541SA-PD0703X',\n",
        "       'Acer - 2-in-1 15.6 Refurbished Touch-Screen Laptop - Intel Core i7 - 12GB Memory - NVIDIA GeForce 940MX - 1TB Hard Drive - Steel gray\"',\n",
        "       'Acer 15.6 Chromebook CB5-571-C4G4',\n",
        "       'Alienware - R3 17.3 Laptop - Intel Core i7 - 16GB Memory - 1TB Hard Drive + 256GB Solid State Drive - Epic Silver\"',\n",
        "       'Apple - MacBook Pro® - 13 Display - Intel Core i5 - 8 GB Memory - 256GB Flash Storage (Latest Model) - Silver\"',\n",
        "       'Apple - MacBook Pro® - 13 Display - Intel Core i5 - 8 GB Memory - 256GB Flash Storage (Latest Model) - Space Gray\"',\n",
        "       'Apple - MacBook Pro® - 13 Display - Intel Core i5 - 8 GB Memory - 512GB Flash Storage (Latest Model) - Silver\"',\n",
        "       'Apple 13.3 MacBook Air ( Silver)\"',\n",
        "       'Apple MacBook - 12 - Core m5 - 8 GB RAM - 512 GB flash storage - English\"',\n",
        "       'Apple MacBook Pro MLUQ2LL/A 13.3 Notebook - Intel Core i5 Dual-core (2 Core) 2 GHz - 8 GB LPDDR3 - 256 GB SSD - Mac OS X 10.12 Sierra - 2560 x 1600 - In-plane Switching (IPS) Technology - Silver\"',\n",
        "       'Apple MacBook Pro with Touch Bar - 13.3 - Core i5 - 8 GB RAM - 512 GB SSD - English\"',\n",
        "       'Asus - 2-in-1 15.6 4K Ultra HD Touch-Screen Laptop Intel Core i7 16GB Memory NVIDIA GeForce GTX 950M - 2TB HDD + 512GB SSD - Sandblasted matte black aluminum\"',\n",
        "       'Dell - Inspiron 15.6 Laptop - Intel Core i5 - 8GB Memory - NVIDIA GeForce GTX 1050 - 1TB + 8GB Hybrid Hard Drive - Red\"',\n",
        "       'Dell - XPS 2-in-1 13.3 Touch-Screen Laptop - Intel Core i7 - 16GB Memory - 256GB Solid State Drive - Silver\"',\n",
        "       'Dell XPS 15 15.6 4K Touchcreen Laptop Intel i7-6700HQ 16GB 1TB SSD GTX 960M\"',\n",
        "       'Details About Alienware 13 R3 Aw13r3/13.3 Fhd/i77700hq/nvidia Gtx 1060/16gb/512gb Ssd\"',\n",
        "       'Details About Alienware 15 R3 Aw15r3/15.6 Fhd/i77700hq/nvidia Gtx1070/16gb/1tb Hdd+128gb Ssd\"',\n",
        "       'Details About Apple Macbook Air 13.3 Laptop (early 2015) 2.2ghz Core I7 8gb 256gb\"',\n",
        "       'Details About Asus Q304 13.3 Laptop I5 2.5 Ghz 6gb 1tb Hdd Win 10 (q304uabhi5t11)\"',\n",
        "       'Details About Dell Inspiron I75675650blkpus 15.6 Laptop I57300hq\"',\n",
        "       'Details About Openbox Excellent: Asus Rog Gl502vm 15.6 Laptop Intel Core I7 12gb Me...\"',\n",
        "       'Details About Razer Blade Laptop 14 Full Hd (i77700hq\"',\n",
        "       'Ginsu BESTBUY5580020 Lenovo Ideapad 11.6 Laptop\"',\n",
        "       'HP - ProBook 14 Laptop - Intel Core i5 - 4GB Memory - 500GB Hard Drive - Black\"',\n",
        "       'HP 15-AY103DX 15.6 Touchscreen Touch Screen HD Laptop Notebook PC Computer 7th Gen i5-7200U Kaby Lake 8GB Memory 1TB HDD Hard Drive Windows 10\"',\n",
        "       'Lenovo - 100S-14IBR 14 Laptop - Intel Celeron - 2GB Memory - 32GB eMMC Flash Memory - Navy blue\"',\n",
        "       'Lenovo - Yoga 710 2-in-1 11.6 Touch-Screen Laptop - Intel Core i5 - 8GB Memory - 128GB Solid State Drive - Silver Tablet PC Notebook 80V6000PUS\"',\n",
        "       'Lenovo 80TX0007US Y 710-11ISK 11.6-Inch FHD Touch Laptop (Pentium 4405Y, 4 GB Ram, 128 GB SSD, Windows 10), SilverNotebook PC Computer Tablet Touchscreen Screen 2-in-1',\n",
        "       'Lenovo Flex 4 1470 80SA0000US 2-in-1 - 14 HD Touch - Pentium 4405U 2.1Ghz - 4GB - 500GB\"',\n",
        "       'MSI - WS Series 15.6 Laptop - Intel Core i7 - 16GB Memory - 256GB Solid State Drive + 2TB Hard Drive - Aluminum Black\"',\n",
        "       'New Asus Q524u 15.6fhd 2in1 Touch I77500u 3.5ghz 16gb Ddr4 2tb Hd 940mx2gb W10\"',\n",
        "       'Razer - Blade Pro 17.3 4K Ultra HD Touch-Screen Laptop - Intel Core i7 - 32GB Memory - NVIDIA GeForce GTX 1080 - 1TB SSD - Black\"',\n",
        "       'Samsung - Notebook 5 15.6 Touch-Screen Laptop - Intel Core i5 - 8GB Memory - NVIDIA GeForce 920MX - 1TB Hard Drive - Solid black\"']"
      ],
      "metadata": {
        "id": "_1wbIW_b16Vm"
      },
      "execution_count": null,
      "outputs": []
    },
    {
      "cell_type": "code",
      "source": [
        "# Importação das bibliotecas necessárias\n",
        "import pandas as pd\n",
        "import matplotlib.pyplot as plt\n",
        "import seaborn as sns\n",
        "import numpy as np\n",
        "\n",
        "# Configuração inicial do plot\n",
        "plt.figure(figsize=(20, 60))  # Definindo o tamanho da figura\n",
        "\n",
        "# 'a' é assumido como uma lista existente com os títulos para cada subplot\n",
        "# a = ['Título 1', 'Título 2', ...]\n",
        "\n",
        "# 'x_price' é assumido como um DataFrame existente\n",
        "# x_price = pd.DataFrame(...)\n",
        "\n",
        "for k in np.arange(1, len(x_price.columns), 1):\n",
        "    plt.subplot(20, 2, k)  # Subplot correspondente\n",
        "\n",
        "    # Criando o gráfico de barras\n",
        "    sns.barplot(data=x_price, x=x_price['week_number'], y=x_price[x_price.columns[k]])\n",
        "\n",
        "    plt.title(a[k-1])  # Título do subplot, assumindo 'a' como lista de títulos\n",
        "    plt.ylabel('')  # Removendo o nome do eixo y\n",
        "\n",
        "    # Configurando as etiquetas do eixo x\n",
        "    plt.xticks(rotation=90, fontsize=16)  # Rotacionando e aumentando o tamanho das etiquetas do eixo x\n",
        "\n",
        "# Ajusta o layout para evitar sobreposição\n",
        "plt.tight_layout()\n",
        "\n",
        "# Exibindo os gráficos\n",
        "plt.show()\n"
      ],
      "metadata": {
        "id": "wX4ze8782Cy5"
      },
      "execution_count": null,
      "outputs": []
    },
    {
      "cell_type": "code",
      "source": [
        "# Importação das bibliotecas necessárias\n",
        "import pandas as pd\n",
        "import matplotlib.pyplot as plt\n",
        "import seaborn as sns\n",
        "import numpy as np\n",
        "\n",
        "# Configuração inicial do plot\n",
        "plt.figure(figsize=(20, 60))  # Definindo o tamanho da figura\n",
        "\n",
        "# 'a' é assumido como uma lista existente com os títulos para cada subplot\n",
        "# a = ['Título 1', 'Título 2', ...]\n",
        "\n",
        "# 'y_demand' é assumido como um DataFrame existente\n",
        "# y_demand = pd.DataFrame(...)\n",
        "\n",
        "for k in np.arange(1, len(y_demand.columns), 1):\n",
        "    plt.subplot(20, 2, k)  # Subplot correspondente\n",
        "\n",
        "    # Criando o gráfico de barras\n",
        "    sns.barplot(data=y_demand, x=y_demand['week_number'], y=y_demand[y_demand.columns[k]])\n",
        "\n",
        "    plt.title(a[k-1])  # Título do subplot, assumindo que 'a' é uma lista de títulos\n",
        "    plt.ylabel('')  # Removendo o nome do eixo y\n",
        "\n",
        "    # Configurando as etiquetas do eixo x\n",
        "    plt.xticks(rotation=90, fontsize=16)  # Rotacionando e aumentando o tamanho das etiquetas do eixo x\n",
        "\n",
        "# Ajusta o layout para evitar sobreposição\n",
        "plt.tight_layout()\n",
        "\n",
        "# Exibindo os gráficos\n",
        "plt.show()\n"
      ],
      "metadata": {
        "id": "XzJNqgyX2RXf"
      },
      "execution_count": null,
      "outputs": []
    },
    {
      "cell_type": "markdown",
      "source": [
        "## **6.0 Machine Learning**"
      ],
      "metadata": {
        "id": "JegF5Cf02adQ"
      }
    },
    {
      "cell_type": "code",
      "source": [
        "# BestBuy.com -> categoria = laptop, computer"
      ],
      "metadata": {
        "id": "PSMH3y9l2cnh"
      },
      "execution_count": null,
      "outputs": []
    },
    {
      "cell_type": "markdown",
      "source": [
        "### **6.1 MacBook (Mid 2017, Gold)**"
      ],
      "metadata": {
        "id": "AEIcrWha3vm_"
      }
    },
    {
      "cell_type": "code",
      "source": [
        "# Importando a biblioteca statsmodels para realizar a regressão linear\n",
        "import statsmodels.api as sm\n",
        "\n",
        "# Especificando as colunas que contêm os dados para o modelo\n",
        "# x_price e y_demand são DataFrames previamente carregados com dados de preços e demanda, respectivamente\n",
        "column_name = '12 MacBook (Mid 2017, Gold)'\n",
        "\n",
        "# Extraindo a série de preços do laptop desejado\n",
        "x_laptop_prices = x_price[column_name]\n",
        "\n",
        "# Extraindo a série de demanda do laptop desejado\n",
        "y_laptop_demand = y_demand[column_name]\n",
        "\n",
        "# Adicionando uma constante ao modelo (geralmente é o termo do intercepto)\n",
        "X_laptop_with_const = sm.add_constant(x_laptop_prices)\n",
        "\n",
        "# Criando o modelo de regressão linear utilizando OLS (Ordinary Least Squares)\n",
        "ols_model = sm.OLS(y_laptop_demand, X_laptop_with_const)\n",
        "\n",
        "# Ajustando o modelo aos dados\n",
        "fit_results = ols_model.fit()\n",
        "\n",
        "# Exibindo um resumo estatístico do modelo ajustado\n",
        "print(fit_results.summary())"
      ],
      "metadata": {
        "id": "ICh62t052uqQ"
      },
      "execution_count": null,
      "outputs": []
    },
    {
      "cell_type": "markdown",
      "source": [
        "Este resumo estatístico busca entender se existe uma relação entre a demanda e o preço do \"12 MacBook (Mid 2017, Gold)\".\n",
        "\n",
        "1. **`R-squared (R²)`: 0.077**  \n",
        "Esse número varia de 0 a 1 e indica o quanto do comportamento da demanda é explicado pelo preço. Um R² de 0.077 é bastante baixo, sugerindo que o preço não é um bom indicador da demanda para esse produto em particular.\n",
        "\n",
        "2. **`Prob (F-statistic)`: 0.201**  \n",
        "Este é um teste para ver se a variável independente (neste caso, o preço) tem algum efeito sobre a variável dependente (a demanda). Um valor maior que 0.05 aqui sugere que não temos evidências suficientes para afirmar que o preço afeta a demanda.\n",
        "\n",
        "3. **`coef` (const e 12 MacBook...)**  \n",
        "O \"coef\" representa a mudança na variável de saída (demanda) para uma mudança de uma unidade na variável de entrada (preço). Aqui, o coeficiente é -0.0187 para o MacBook, o que sugere que, teoricamente, um aumento de 1 na unidade de preço reduziria a demanda em 0.0187 unidades. Mas, dada a baixa confiabilidade do modelo (R² baixo e Prob (F-statistic) alto), esse número não é muito útil.\n",
        "\n",
        "4. **`P>|t|` (para coeficientes)**  \n",
        "Isso testa a hipótese de que cada coeficiente é igual a zero (sem efeito). Um valor menor que 0.05 é geralmente considerado evidência de que há um efeito. Aqui, temos 0.201, que é maior que 0.05, então não podemos concluir que o preço tem um efeito significativo na demanda.\n",
        "\n",
        "5. **`Durbin-Watson`: 1.513**  \n",
        "Este número nos dá uma ideia sobre a correlação dos resíduos (erros). Valores entre 1 e 2 geralmente são bons, indicando que não há autocorrelação.\n",
        "\n",
        "6. **`Skew` e `Kurtosis`**  \n",
        "Esses números falam sobre a forma da distribuição dos resíduos. Idealmente, queremos que eles se assemelhem a uma distribuição normal, mas esses valores (Skew de 2.687 e Kurtosis de 10.904) sugerem que a distribuição é bastante distorcida.\n",
        "\n",
        "7. **`Cond. No.` (Condition Number)**  \n",
        "Um número grande aqui (8.79e+04) pode indicar problemas de multicolinearidade (ou seja, que suas variáveis independentes não são tão independentes). No entanto, como só temos uma variável independente neste modelo, isso é menos uma preocupação.\n",
        "\n",
        "Portanto, este modelo sugere que o preço não é um bom indicador da demanda para este MacBook. O `R²` é baixo e o `p-valor` para o coeficiente de preço não é significativo. Em termos práticos, isso significa que há outros fatores, além do preço, influenciando fortemente a demanda desse produto."
      ],
      "metadata": {
        "id": "LBYh_Npb3FMe"
      }
    },
    {
      "cell_type": "markdown",
      "source": [
        "### **6.2 Todas as Colunas**"
      ],
      "metadata": {
        "id": "oXYEvh3x312-"
      }
    },
    {
      "cell_type": "code",
      "source": [
        "# Inicializa um dicionário para armazenar os resultados da análise.\n",
        "# Cada chave armazena uma lista vazia que será preenchida mais tarde.\n",
        "results_values_laptop = {\n",
        "    \"name\": [],\n",
        "    \"price_elasticity\": [],\n",
        "    \"price_mean\": [],\n",
        "    \"quantity_mean\": [],\n",
        "    \"intercept\": [],\n",
        "    \"slope\": [],\n",
        "    \"rsquared\": [],\n",
        "    \"p_value\": []\n",
        "}\n",
        "\n",
        "# Loop para cada coluna em x_price, que contém os preços dos produtos.\n",
        "# Estamos começando da segunda coluna porque a primeira coluna é assumida como não relevante para a análise.\n",
        "for column in x_price.columns[1:]:\n",
        "\n",
        "    # Cria uma lista de pontos (preço, demanda) para cada produto.\n",
        "    column_points = []\n",
        "    for i in range(len(x_price[column])):\n",
        "        column_points.append((x_price[column][i], y_demand[column][i]))\n",
        "\n",
        "    # Converte a lista de pontos em um DataFrame do pandas para facilitar a análise.\n",
        "    df = pd.DataFrame(list(column_points), columns=['x_price', 'y_demand'])\n",
        "\n",
        "    # Separa o preço e a demanda em variáveis independentes e dependentes.\n",
        "    x_laptop = df['x_price']\n",
        "    y_laptop = df['y_demand']\n",
        "\n",
        "    # Adiciona uma constante à matriz de design para o modelo de regressão.\n",
        "    X_laptop = sm.add_constant(x_laptop)\n",
        "\n",
        "    # Inicializa e ajusta o modelo de regressão linear.\n",
        "    model = sm.OLS(y_laptop, X_laptop)\n",
        "    results = model.fit()\n",
        "\n",
        "    # Verifica se o p-valor é menor que 0.05, indicando significância estatística.\n",
        "    if results.f_pvalue < 0.05:\n",
        "\n",
        "        # Coleta várias métricas do resultado da regressão.\n",
        "        rsquared = results.rsquared\n",
        "        p_value = results.f_pvalue\n",
        "        intercept, slope = results.params\n",
        "        mean_price = np.mean(x_laptop)\n",
        "        mean_quantity = np.mean(y_laptop)\n",
        "\n",
        "        # Calcula a elasticidade-preço da demanda.\n",
        "        price_elasticity = slope * (mean_price / mean_quantity)\n",
        "\n",
        "        # Adiciona os resultados ao dicionário.\n",
        "        results_values_laptop['name'].append(column)\n",
        "        results_values_laptop['price_elasticity'].append(price_elasticity)\n",
        "        results_values_laptop['price_mean'].append(mean_price)\n",
        "        results_values_laptop['quantity_mean'].append(mean_quantity)\n",
        "        results_values_laptop['intercept'].append(intercept)\n",
        "        results_values_laptop['slope'].append(slope)\n",
        "        results_values_laptop['rsquared'].append(rsquared)\n",
        "        results_values_laptop['p_value'].append(p_value)\n",
        "\n",
        "# Converte o dicionário em um DataFrame do pandas para facilitar a visualização e análise.\n",
        "df_elasticity = pd.DataFrame.from_dict(results_values_laptop)"
      ],
      "metadata": {
        "id": "glOtBOzS34OI"
      },
      "execution_count": null,
      "outputs": []
    },
    {
      "cell_type": "markdown",
      "source": [
        "`Elasticidade-preço`: Mede como uma mudança no preço afeta a demanda.\n",
        "\n",
        "`p-valor`: Um número entre 0 e 1 que nos ajuda a determinar se a relação observada entre preço e demanda é estatisticamente significativa. Menor que 0.05 é geralmente considerado significativo.\n",
        "\n",
        "`R-quadrado (R²)`: Uma medida de quão bem o modelo se ajusta aos dados. Mais próximo de 1 é melhor."
      ],
      "metadata": {
        "id": "yCSSiRmm4Stk"
      }
    },
    {
      "cell_type": "code",
      "source": [
        "df_elasticity"
      ],
      "metadata": {
        "id": "iwLEW_op4Z7v"
      },
      "execution_count": null,
      "outputs": []
    },
    {
      "cell_type": "markdown",
      "source": [
        "1. **`name`**: Esse é o nome do produto, neste caso, diferentes modelos de laptops.\n",
        "\n",
        "2. **`price_elasticity`**: Este é um valor que nos diz como a quantidade vendida do laptop muda quando o preço muda. Um valor negativo significa que se você aumentar o preço, menos pessoas vão comprar o laptop (o que é o caso comum). Quanto mais negativo o número, mais sensível é a demanda ao preço.\n",
        "\n",
        "    - Por exemplo, o \"12 MacBook (Mid 2017, Silver)\" tem uma elasticidade de `-55.22`, o que é muito alto em termos absolutos. Isso sugere que mesmo uma pequena alteração no preço poderia levar a uma grande mudança na quantidade vendida.\n",
        "    \n",
        "3. **`price_mean`**: Este é o preço médio do laptop. Por exemplo, o \"ASUS VivoBook Max\" tem um preço médio de `299`.\n",
        "\n",
        "4. **`quantity_mean`**: Este é o número médio de unidades vendidas. Para o \"Dell - Inspiron 15.6 Laptop\", a média é aproximadamente `1.48`.\n",
        "\n",
        "5. **`intercept`** e **`slope`**: Estes são parâmetros matemáticos da linha de melhor ajuste que modela a relação entre preço e demanda.\n",
        "\n",
        "6. **`rsquared`**: Este número varia de 0 a 1 e nos diz o **quanto o preço explica a variação na quantidade vendida**. **Quanto maior o número, mais forte é a relação**. Por exemplo, para o \"Dell - Inspiron 15.6 Laptop\", o valor é `0.31`, o que indica uma relação moderadamente forte entre preço e demanda.\n",
        "\n",
        "7. **`p_value`**: Este valor nos diz **se a relação é estatisticamente significativa**. Geralmente, um valor menor que 0.05 é considerado significativo. **Todos os produtos** nesta tabela têm um `p_value menor que 0.05`, o que é bom.\n",
        "\n",
        "### Resumo:\n",
        "- **Se você é o `vendedor`**: Fique muito atento ao preço que você coloca no \"12 MacBook (Mid 2017, Silver)\" porque as vendas desse produto são muito sensíveis ao preço.\n",
        "  \n",
        "- **Se você é o `comprador`**: Você pode esperar que o preço do \"12 MacBook (Mid 2017, Silver)\" varie frequentemente ou tenha promoções, já que o vendedor estará **tentando encontrar o preço \"certo\"**."
      ],
      "metadata": {
        "id": "yZs4dyaf5IP_"
      }
    },
    {
      "cell_type": "markdown",
      "source": [
        "## **7.0 Elasticidade**"
      ],
      "metadata": {
        "id": "_3Wsxbrf4cT8"
      }
    },
    {
      "cell_type": "code",
      "source": [
        "# Adiciona uma nova coluna 'ranking' ao DataFrame df_elasticity.\n",
        "# Os produtos são classificados com base na sua elasticidade-preço em ordem crescente.\n",
        "df_elasticity['ranking'] = df_elasticity['price_elasticity'].rank(ascending=True).astype(int)\n",
        "\n",
        "# Reinicia o índice do DataFrame para que comece de 0.\n",
        "df_elasticity = df_elasticity.reset_index(drop=True)\n",
        "\n",
        "# Configura o tamanho da figura onde o gráfico será exibido.\n",
        "plt.figure(figsize=(12, 4))\n",
        "\n",
        "# Desenha linhas horizontais para cada produto.\n",
        "# A extensão da linha indica o valor da elasticidade-preço.\n",
        "plt.hlines(y=df_elasticity['ranking'], xmin=0, xmax=df_elasticity['price_elasticity'], alpha=0.5, linewidth=3)\n",
        "\n",
        "# Anota o nome de cada produto ao lado da linha correspondente.\n",
        "for name, p in zip(df_elasticity['name'], df_elasticity['ranking']):\n",
        "    plt.text(4, p, name)\n",
        "\n",
        "# Adiciona rótulos de elasticidade ao gráfico.\n",
        "# Os valores da elasticidade são arredondados para duas casas decimais e são exibidos em verde ou vermelho.\n",
        "for x, y, s in zip(df_elasticity['price_elasticity'], df_elasticity['ranking'], df_elasticity['price_elasticity']):\n",
        "    plt.text(x, y, round(s, 2), horizontalalignment='right' if x < 0 else 'left',\n",
        "             verticalalignment='center',\n",
        "             fontdict={'color': 'red' if x < 0 else 'green', 'size': 10})\n",
        "\n",
        "# Adiciona rótulos aos eixos e um título ao gráfico.\n",
        "plt.gca().set(ylabel='Ranking Number', xlabel='Price Elasticity')\n",
        "plt.title('Price Elasticity', fontdict={'size': 13})\n",
        "\n",
        "# Adiciona uma grade ao gráfico para facilitar a leitura.\n",
        "plt.grid(linestyle='--')"
      ],
      "metadata": {
        "id": "aqlyZv3r4zf0"
      },
      "execution_count": null,
      "outputs": []
    },
    {
      "cell_type": "markdown",
      "source": [
        "- **`df_elasticity['ranking']`**: Adiciona uma coluna ao DataFrame que classifica os produtos com base em sua elasticidade-preço.\n",
        "  \n",
        "- **`hlines`**: Desenha linhas horizontais no gráfico. A posição e o comprimento da linha são determinados pelos valores da elasticidade-preço.\n",
        "\n",
        "- **`plt.text`**: Usado para adicionar texto ao gráfico. Isso inclui os nomes dos produtos e seus valores de elasticidade-preço.\n",
        "\n",
        "- **`Elasticidade-Preço`**: Um número que mostra como a quantidade demandada de um produto muda quando o seu preço muda. Valores positivos indicam que a demanda aumenta quando o preço aumenta, e valores negativos indicam que a demanda diminui quando o preço aumenta."
      ],
      "metadata": {
        "id": "v4_EnCbB45iV"
      }
    },
    {
      "cell_type": "code",
      "source": [
        "# Reorganizar e ordenar o DataFrame por sensibilidade ao preço\n",
        "df_order_elasticity = df_elasticity[['ranking', 'name', 'price_elasticity']].sort_values(by='price_elasticity', ascending=False)\n",
        "\n",
        "df_order_elasticity"
      ],
      "metadata": {
        "id": "XwnhgoAZ43zp"
      },
      "execution_count": null,
      "outputs": []
    },
    {
      "cell_type": "markdown",
      "source": [
        "A tabela classifica diferentes modelos de laptop com base em sua `elasticidade de preço`, que é uma medida de **quão sensível a demanda por um produto é em relação a uma mudança em seu preço**. O termo \"elasticidade\" é sempre negativo para bens normais porque, em geral, uma elevação de preço leva a uma queda na demanda e vice-versa. No entanto, o valor absoluto dessa elasticidade pode variar: quanto maior em valor absoluto, mais sensível é a demanda à mudança no preço.\n",
        "\n",
        "Neste caso, o **12 MacBook (Mid 2017, Silver)** tem a elasticidade mais alta em valor absoluto `-55.22`, o que sugere que **as variações de preço para este modelo terão o maior impacto na demanda**. Em contraste, o **Lenovo - 100S-14IBR 14 Laptop** tem a elasticidade mais baixa em valor absoluto `-4.85`, indicando que a demanda por **esse modelo é menos sensível a alterações de preço**.\n",
        "\n",
        "Este ranking pode ser útil para estratégias de precificação: por exemplo, **se você está pensando em aumentar os preços, talvez queira ser mais cauteloso com produtos que têm alta elasticidade**, pois você poderá ver uma queda significativa na demanda."
      ],
      "metadata": {
        "id": "6SLd5npa6XcE"
      }
    },
    {
      "cell_type": "markdown",
      "source": [
        "## **8.0 Business Performance**"
      ],
      "metadata": {
        "id": "uLtwPmBF6rbS"
      }
    },
    {
      "cell_type": "code",
      "source": [
        "# Inicializando um dicionário para armazenar os resultados.\n",
        "resultado_faturamento = {\n",
        "    'name': [],\n",
        "    'faturamento_atual': [],\n",
        "    'faturamento_redução': [],\n",
        "    'perda_faturamento': [],\n",
        "    'faturamento_novo': [],\n",
        "    'variacao_faturamento': [],\n",
        "    'variacao_percentual': []\n",
        "}\n",
        "\n",
        "# Loop através dos laptops classificados por elasticidade de preço.\n",
        "for i in range(len(df_order_elasticity)):\n",
        "    # Calculando o preço médio e a demanda atual para cada laptop.\n",
        "    preco_atual_medio = x_price[df_order_elasticity['name'][i]].mean()\n",
        "    demanda_atual = y_demand[df_order_elasticity['name'][i]].sum()\n",
        "\n",
        "    # Simulando uma redução de 10% no preço e calculando o aumento esperado na demanda.\n",
        "    reducao_preco = preco_atual_medio * 0.9\n",
        "    aumento_demanda = -0.1 * df_order_elasticity['price_elasticity'][i]\n",
        "\n",
        "    # Calculando a nova demanda após o aumento.\n",
        "    demanda_nova = aumento_demanda * demanda_atual\n",
        "\n",
        "    # Calculando o faturamento atual e o novo faturamento após a redução de preço.\n",
        "    faturamento_atual = round(preco_atual_medio * demanda_atual, 2)\n",
        "    faturamento_novo = round(reducao_preco * demanda_nova, 2)\n",
        "\n",
        "    # Calculando a perda de faturamento se o preço fosse simplesmente reduzido em 10%.\n",
        "    faturamento_reducao = round(faturamento_atual * 0.9, 2)\n",
        "    perda_faturamento = round(faturamento_atual - faturamento_reducao, 2)\n",
        "\n",
        "    # Calculando a variação no faturamento e a variação percentual.\n",
        "    variacao_faturamento = round(faturamento_novo - faturamento_atual, 2)\n",
        "    variacao_percentual = round(((faturamento_novo - faturamento_atual) / faturamento_atual), 2)\n",
        "\n",
        "    # Armazenando todos os valores calculados no dicionário.\n",
        "    resultado_faturamento['name'].append(df_order_elasticity['name'][i])\n",
        "    resultado_faturamento['faturamento_atual'].append(faturamento_atual)\n",
        "    resultado_faturamento['faturamento_redução'].append(faturamento_reducao)\n",
        "    resultado_faturamento['perda_faturamento'].append(perda_faturamento)\n",
        "    resultado_faturamento['faturamento_novo'].append(faturamento_novo)\n",
        "    resultado_faturamento['variacao_faturamento'].append(variacao_faturamento)\n",
        "    resultado_faturamento['variacao_percentual'].append(variacao_percentual)\n",
        "\n",
        "# Convertendo o dicionário em um DataFrame para visualização mais fácil.\n",
        "resultado = pd.DataFrame(resultado_faturamento)\n",
        "resultado\n"
      ],
      "metadata": {
        "id": "PiWE7DK47DBo"
      },
      "execution_count": null,
      "outputs": []
    },
    {
      "cell_type": "markdown",
      "source": [
        "### **Análise**\n",
        "\n",
        "1. **MacBook (Mid 2017, Silver)**: O faturamento saltaria de `12,954.68` para `64,387.60` se você reduzisse o preço em `10%`! Isso é quase um **aumento de 400% no faturamento!** A elasticidade de preço para este produto é `extremamente alta`, o que significa que os **consumidores são muito sensíveis** a uma queda nos preços. Aqui, uma **estratégia de redução de preços pode ser altamente benéfica**.\n",
        "\n",
        "2. **ASUS VivoBook**: O faturamento subiria modestamente de `4,186.47` para `5,147.30` com uma redução de `10%` no preço. Isso representa um **aumento de 23%**, ainda significativo. O produto tem uma `elasticidade moderada` e ainda seria um bom candidato para promoções de preço.\n",
        "\n",
        "3. **Apple MacBook Pro**: Aqui temos um cenário intrigante. A redução de preço de 10% na verdade **reduziria o faturamento de `21,961.39` para `10,184.90`, uma queda de `54%`. Isso sugere que **os consumidores deste produto não são muito sensíveis ao preço**, então uma estratégia de redução de preço pode não ser benéfica aqui.\n",
        "\n",
        "4. **Dell - Inspiron**: Este laptop veria um **aumento de 71% no faturamento** com uma queda de 10% no preço, de `26,844.88` para `45,775.48`. Esse é outro produto onde uma estratégia de redução de preço seria muito eficaz.\n",
        "\n",
        "5. **Lenovo - 100S-14IBR**: A redução de preço faria o faturamento cair de `5,212.79` para `2,275.94`, uma queda de `56%`. Mais uma vez, como o MacBook Pro, este não é um produto para o qual as promoções de preço seriam eficazes.\n",
        "\n",
        "Se aplicarmos descontos para maximizar o faturamento, o MacBook (Mid 2017, Silver) e o Dell - Inspiron seriam seus melhores candidatos. Se o objetivo é manter a estabilidade do faturamento, você pode querer evitar cortes de preço nos produtos da Apple MacBook Pro e Lenovo 100S-14IBR, já que são inelásticos e você pode realmente perder dinheiro com isso.\n"
      ],
      "metadata": {
        "id": "qBI0fmWj7gZU"
      }
    }
  ]
}