{
  "nbformat": 4,
  "nbformat_minor": 0,
  "metadata": {
    "colab": {
      "private_outputs": true,
      "provenance": [],
      "authorship_tag": "ABX9TyNYYjQ5/vb64lQ7PTt5f/a6",
      "include_colab_link": true
    },
    "kernelspec": {
      "name": "python3",
      "display_name": "Python 3"
    },
    "language_info": {
      "name": "python"
    }
  },
  "cells": [
    {
      "cell_type": "markdown",
      "metadata": {
        "id": "view-in-github",
        "colab_type": "text"
      },
      "source": [
        "<a href=\"https://colab.research.google.com/github/Anello92/BusinessAnalytics/blob/master/price_elasticity.ipynb\" target=\"_parent\"><img src=\"https://colab.research.google.com/assets/colab-badge.svg\" alt=\"Open In Colab\"/></a>"
      ]
    },
    {
      "cell_type": "markdown",
      "source": [
        "# **Projeto de Elasticidade de Preços**\n",
        "\n",
        "A elasticidade de preços é um conceito fascinante e impactante no mundo dos negócios. Em termos simplificados, refere-se à relação entre a variação percentual da quantidade demandada de um produto e a variação percentual do seu preço. O entendimento dessa relação é crucial, pois permite que as empresas determinem até que ponto podem ajustar os preços de seus produtos sem afetar significativamente a demanda por eles.\n",
        "\n",
        "Neste projeto, nosso foco principal será entender como a variação no preço de um produto pode influenciar sua demanda. Isso é essencial, pois um aumento no preço pode levar a uma queda na demanda e, inversamente, uma diminuição no preço pode resultar em um aumento na demanda. Contudo, há limites para essas variações, e é preciso encontrar um ponto de equilíbrio.\n",
        "\n",
        "Utilizaremos técnicas estatísticas e de machine learning para investigar esta relação. O problema central que buscamos solucionar é: \"Como as alterações no preço dos produtos afetam a demanda e, consequentemente, o faturamento de um negócio?\". Para responder a essa questão, recorreremos à regressão linear, um método que, após nossa pesquisa e análise, mostrou-se o mais adequado para este estudo. É importante destacar que nossa abordagem não se restringe apenas a treinar um algoritmo, mas busca entender e explicar as relações entre as variáveis em estudo.\n",
        "\n",
        "A proposta é que, ao final deste projeto, sejamos capazes de:\n",
        "\n",
        "1. Compreender profundamente o conceito de elasticidade de preços e sua relevância no cenário empresarial.\n",
        "2. Aplicar técnicas de regressão para modelar a relação entre preço e demanda.\n",
        "3. Entender os coeficientes gerados pela regressão linear e interpretar sua influência no modelo.\n",
        "4. Fornecer insights valiosos para empresas que desejam alterar os preços de seus produtos, minimizando riscos e otimizando resultados.\n",
        "\n",
        "Em resumo, o objetivo central é capacitar os envolvidos no projeto a tomar decisões informadas sobre estratégias de precificação, fundamentadas em análises rigorosas e dados concretos. Esta é a essência da ciência de dados aplicada ao mundo empresarial: utilizar dados e métodos analíticos para solucionar problemas e melhorar processos.\n",
        "\n"
      ],
      "metadata": {
        "id": "s1CD6eLnlaQh"
      }
    },
    {
      "cell_type": "markdown",
      "source": [
        "---\n",
        "## **Objetivo Central**\n",
        "Entender como variações no preço de produtos influenciam a demanda e, por conseguinte, o faturamento das empresas. Para isso, utilizaremos métodos de regressão linear e técnicas de aprendizado de máquina.\n",
        "\n",
        "###  **Metodologia Principal**\n",
        "1. Coleta de dados históricos sobre preços, vendas e variáveis externas (como renda dos consumidores).\n",
        "2. Análise Exploratória de Dados para identificar padrões.\n",
        "3. Desenvolvimento e validação de modelos de aprendizado de máquina para descrição e previsão da relação preço-demanda.\n",
        "\n",
        "### **Entregáveis**\n",
        "- Modelo que capta a relação entre preço e demanda, incluindo a Curva e a Função de Demanda.\n",
        "- Ferramenta de simulação para cenários de mudança de preço.\n",
        "- Insights acionáveis para decisões de precificação.\n",
        "\n",
        "### **Relevância**\n",
        "O projeto visa tornar o complexo tema da elasticidade de preços acessível e útil, fornecendo insights baseados em dados para acadêmicos e decisores empresariais. O objetivo é aprimorar as estratégias de precificação com base em análises rigorosas, minimizando riscos e otimizando resultados."
      ],
      "metadata": {
        "id": "0zOBxjniubGn"
      }
    },
    {
      "cell_type": "markdown",
      "source": [
        "---\n",
        "## **Conceitos**\n",
        "\n",
        "### **Relação entre Preço e Damanda**\n",
        "Quando falamos de comprar e vender coisas, dois fatores são muito importantes: o preço e a quantidade que as pessoas querem comprar, conhecida como `demanda`. Na maioria dos casos, se o preço de algo sobe, menos pessoas vão querer comprar; se o preço desce, mais pessoas estarão interessadas. Essa é a chamada `lei da demanda`.\n",
        "\n",
        "Imagine essa relação como um gráfico: se você colocar o preço no eixo vertical e a quantidade que as pessoas querem comprar no eixo horizontal, você terá algo que chamamos de `curva de demanda`. Essa curva geralmente inclina para baixo, mostrando que quando o preço diminui, mais pessoas querem comprar o produto.\n",
        "\n",
        "Mas atenção, o preço não é o único fator que afeta a demanda. Outras coisas como o **dinheiro disponível** das pessoas, o **preço de produtos similares** ou **complementares**, e até mesmo o **gosto pessoal**, também entram na jogada. Por isso, usamos algo chamado `função de demanda` para prever com mais precisão quantas unidades de um produto serão vendidas se considerarmos todas essas variáveis juntas."
      ],
      "metadata": {
        "id": "HgUJhhunwrw6"
      }
    },
    {
      "cell_type": "markdown",
      "source": [
        "---\n",
        "### **Função de Demanda: Uma Explicação Fácil**\n",
        "\n",
        "Imagine que você quer saber quanto de um produto as pessoas vão comprar considerando vários fatores como preço, salário e até mesmo gostos pessoais. A `função de demanda` é como uma fórmula que nos ajuda a entender isso.\n",
        "\n",
        "Nessa fórmula, usamos letras para representar esses fatores:\n",
        "\n",
        "### `Q = f(P, Y, Ps, Pc, T)`\n",
        "\n",
        "Essa fórmula ajuda empresas e pesquisadores a entender como diferentes fatores afetam a vontade das pessoas de comprar um produto.\n",
        "- `Q` é a quantidade que as pessoas querem comprar.\n",
        "- `P` é o preço do produto.\n",
        "- `Y` é quanto dinheiro as pessoas têm.\n",
        "- `Ps` é o preço de produtos parecidos.\n",
        "- `Pc` é o preço de produtos que geralmente são comprados juntos com este.\n",
        "- `T` representa outros fatores como gostos pessoais.\n",
        "\n",
        "Então, se o preço `(P)` sobe, geralmente menos pessoas vão querer comprar `(Q diminui)`. Se as pessoas estão ganhando mais dinheiro `(Y aumenta)`, provavelmente vão comprar mais do produto `(Q aumenta)`.\n",
        "\n",
        "O bacana dessa fórmula é que ela ajuda as empresas a entenderem o que pode acontecer se elas mudarem o preço ou outras coisas. Assim, elas podem decidir a melhor forma de vender mais e ganhar mais dinheiro, atendendo também ao que os consumidores querem ou precisam."
      ],
      "metadata": {
        "id": "a1rh0l-pyVM3"
      }
    },
    {
      "cell_type": "markdown",
      "source": [
        "---\n",
        "### **Elasticidade de Preço**\n",
        "A elasticidade de preço nos diz o quanto a venda de um produto muda quando seu preço sobe ou desce. Por exemplo, se o preço de um item aumenta, geralmente menos pessoas vão comprá-lo.\n",
        "\n",
        "Se a elasticidade é `elástica`, uma pequena mudança no preço faz uma grande diferença nas vendas. Se é `inelástica`, a mudança nas vendas é pequena, mesmo com variação no preço.\n",
        "\n",
        "Há também a elasticidade `unitária`, onde a mudança percentual no preço e na demanda são iguais. Isso ajuda empresas a decidir se vale a pena alterar o preço de um produto."
      ],
      "metadata": {
        "id": "2I1IBopgzuVj"
      }
    },
    {
      "cell_type": "markdown",
      "source": [
        "---\n",
        "### **Elasticidade de Preço Elástica**\n",
        "Se um produto tem `elasticidade de preço elástica`, isso significa que as vendas desse item são muito sensíveis a qualquer mudança no preço. Em termos simples, **se o preço sobe um pouco, as vendas caem muito**, e vice-versa. Isso acontece porque as pessoas têm outras **opções parecidas e mais baratas para escolher**. Então, se o preço sobe, elas rapidamente trocam por algo mais em conta. O número que indica isso é maior que 1 na matemática da elasticidade. Por exemplo, **se o preço sobe 10% e as vendas caem mais de 60%**, essa elasticidade é considerada `elástica`."
      ],
      "metadata": {
        "id": "3dA3H87t0NZE"
      }
    },
    {
      "cell_type": "markdown",
      "source": [
        "---\n",
        "### **Elasticidade de Preço Inelástica**\n",
        "Se um produto tem `elasticidade de preço inelástica`, significa que as vendas desse item não são muito afetadas se o preço muda. Ou seja, você pode **aumentar um pouco o preço e as pessoas continuarão comprando praticamente a mesma quantidade**. Isso geralmente acontece **quando não há muitas outras opções de produtos similares ou quando as pessoas realmente precisam daquele item e não podem substituí-lo facilmente**. Na matemática da elasticidade, o número que indica isso é menor que 1. Por exemplo, se o **preço sobe 10% e as vendas caem menos de 1,5%, o produto é considerado `inelástico`**. Ou seja, as pessoas vão continuar comprando mesmo que fique um pouco mais caro."
      ],
      "metadata": {
        "id": "ah4a-l070urj"
      }
    },
    {
      "cell_type": "markdown",
      "source": [
        "---\n",
        "### **Elasticidade de Preço Unitária**\n",
        "Se um produto tem `elasticidade de preço unitária`, significa que qualquer mudança no preço é igualada por uma mudança igual na quantidade vendida. Em outras palavras, **se o preço sobe 10%, as vendas também caem 10%**. Isso geralmente ocorre quando **existem algumas alternativas ao produto, mas as pessoas não são tão rápidas em mudar**. Na matemática da coisa, o número que nos diz isso é exatamente 1. Isso quer dizer que **as pessoas notam se o preço muda, mas não vão abandonar o produto completamente** se ele ficar um pouco mais caro ou mais barato."
      ],
      "metadata": {
        "id": "JFut-gbK1Ko2"
      }
    },
    {
      "cell_type": "markdown",
      "source": [
        "---\n",
        "### **Elasticidade de Preço Negativa**\n",
        "Se falamos de `elasticidade de preços negativa`, estamos dizendo que as pessoas não mudam muito suas compras mesmo quando o preço muda. Em termos simples, **se o preço sobe ou desce, as pessoas quase não alteram a quantidade que compram**. Esse número negativo é uma forma técnica de mostrar que **a demanda pelo produto é meio \"teimosa\"**; ela não se abala facilmente com mudanças no preço."
      ],
      "metadata": {
        "id": "OszO2Rk91vZ3"
      }
    },
    {
      "cell_type": "markdown",
      "source": [
        "---\n",
        "### **Interpretação Empresarial**\n",
        "Para empresas, entender como o preço afeta as vendas é crucial:\n",
        "\n",
        "1. `Elasticidade de preço unitária`: Quando o preço muda, as vendas mudam na mesma proporção. Então, a empresa precisa ser cautelosa ao mudar preços para não perder dinheiro ou clientes.\n",
        "\n",
        "2. `Elasticidade de preço inelástica`: Aqui, a empresa tem liberdade para aumentar o preço um pouco, sem que as vendas caiam muito. Isso é bom para aumentar lucros.\n",
        "\n",
        "3. `Elasticidade de preço elástica`: Nesse caso, qualquer alteração no preço pode fazer as vendas subirem ou caírem bastante. É um terreno perigoso para mexer nos preços.\n",
        "\n",
        "4. `Elasticidade de preços negativa`: Nesse caso, as mudanças de preço não afetam muito as vendas. Pode ser um sinal de que o produto é essencial para os consumidores ou que não há alternativas no mercado.\n",
        "\n",
        "Então, conhecer o tipo de elasticidade ajuda a empresa a decidir se pode aumentar o preço, se deve baixar ou mantê-lo, e como isso vai afetar suas vendas e lucros. É como um termômetro para estratégias de preço e marketing."
      ],
      "metadata": {
        "id": "bS46XAFG3pOs"
      }
    },
    {
      "cell_type": "markdown",
      "source": [
        "---\n",
        "### **Cálculo da Elasticidade-Preço da Demanda**\n",
        "A elasticidade-preço da demanda nos ajuda a entender como a quantidade vendida de um produto muda quando alteramos seu preço. Em termos simples, é uma medida que compara a mudança percentual na quantidade vendida com a mudança percentual no preço do produto.\n",
        "\n",
        "Suponha que você tenha um produto cuja demanda diminuiu em 30% quando o preço aumentou em 15%. Para encontrar a elasticidade-preço da demanda, dividimos a `mudança percentual na demanda` (30%) pela `mudança percentual no preço` (15%). O resultado é 2.\n",
        "\n",
        "Nesse exemplo, a `elasticidade é igual a 2`, o que indica que a **demanda é duas vezes mais sensível do que a mudança no preço**. Em termos técnicos, dizemos que o produto tem uma `elasticidade de preço elástica`, pois o valor é maior que 1. Isso significa que pequenas alterações no preço podem levar a grandes mudanças na quantidade demandada**."
      ],
      "metadata": {
        "id": "xtudF4nxlm5N"
      }
    },
    {
      "cell_type": "markdown",
      "source": [
        "---\n",
        "### **Método do Ponto Médio**\n",
        "O método do ponto médio serve para avaliar como as vendas de um produto se comportam quando você muda o seu preço. Essa avaliação pode variar dependendo de se você começa analisando do preço mais baixo para o mais alto, ou o contrário.\n",
        "\n",
        "Vou usar um exemplo para ilustrar: imagine que você vende copos e resolveu subir o preço de 5 para 6 reais. Antes da mudança, você vendia 100 copos; depois, as vendas caíram para 80.\n",
        "\n",
        "1. Calculamos a média das vendas, ou seja, a venda \"intermediária\". A média entre 100 copos e 80 copos é 90 copos.\n",
        "2. Da mesma forma, calculamos a média do preço, que seria entre 5 e 6 reais. A média aqui é 5,50 reais.\n",
        "\n",
        "Agora, comparemos as mudanças:\n",
        "\n",
        "- Suas vendas médias eram de 90 copos e caíram para 80, ou seja, uma diminuição de 10 copos.\n",
        "- O preço médio era de 5,50 reais e aumentou para 6, ou seja, um acréscimo de 50 centavos.\n",
        "\n",
        "Agora, o que esses números nos mostram? Eles indicam que suas vendas são bastante sensíveis a alterações de preço. Com um aumento de apenas 50 centavos, você vendeu 10 copos a menos.\n",
        "\n",
        "Essa sensibilidade ao preço é importante para você saber: se planeja alterar o preço no futuro, tenha em mente que pequenas mudanças podem ter um grande impacto nas suas vendas."
      ],
      "metadata": {
        "id": "76tT_pDh4MPY"
      }
    },
    {
      "cell_type": "markdown",
      "source": [
        "---\n",
        "### **Interpretação do Resultado Matemático da Elasticidade de Preços**\n",
        "Entender a elasticidade do preço é como saber o \"termômetro\" das vendas. Se você mexe no preço, ela te diz quanto suas vendas vão subir ou cair.\n",
        "\n",
        "- Se a elasticidade é alta `(acima de 1)`, cuidado ao aumentar o preço, pois as vendas podem cair bastante. Por exemplo, com elasticidade de 15, se você aumentar o preço em 1%, pode esperar que as vendas caiam 15%.\n",
        "\n",
        "- Se a elasticidade é baixa `(abaixo de 1)`, você tem mais liberdade para aumentar o preço sem perder muitas vendas. Com elasticidade de 0,15, se o preço sobe 1%, as vendas só caem 0,15%.\n",
        "\n",
        "- Com `elasticidade igual a 1`, qualquer mudança no preço resulta numa mudança igual nas vendas. Se o preço sobe 1%, as vendas caem 1%.\n",
        "\n",
        "Então, para resumir: Produtos com alta elasticidade podem ganhar mais clientes se ficarem mais baratos. Produtos com baixa elasticidade permitem que você aumente o preço sem perder muitas vendas."
      ],
      "metadata": {
        "id": "zguZFxu748LU"
      }
    },
    {
      "cell_type": "markdown",
      "source": [
        "---\n",
        "### **Entendendo Demanda e Elasticidade de Preços**\n",
        "\n",
        "**O que é Demanda?**\n",
        "\n",
        "Demanda é simplesmente quantas unidades de um produto as pessoas querem comprar a um certo preço. Por exemplo, a 5 reais, talvez você venda 100 camisetas.\n",
        "\n",
        "**O que é Elasticidade de Preços?**\n",
        "\n",
        "A elasticidade de preços vai um passo além e responde: **\"Se eu mudar o preço, quanto as vendas vão mudar?\"**. Se você aumentar o preço da camiseta para 6 reais e agora só vende 80, a elasticidade ajuda a entender essa mudança.\n",
        "\n",
        "**Por que São Diferentes?**\n",
        "\n",
        "Demanda é o **\"retrato\"** das vendas a um preço fixo. Elasticidade é mais como um **\"filme\"** que mostra como as vendas mudam quando você brinca com o preço.\n",
        "\n",
        "**Por que Precisamos de Uma Equação de Demanda?**\n",
        "\n",
        "A equação de demanda é uma fórmula matemática que liga o preço e a quantidade vendida. Ela é crucial para calcular a elasticidade e também ajuda empresas a prever vendas futuras para diferentes preços.\n",
        "\n",
        "**Concorrência e Elasticidade de Preços**\n",
        "\n",
        "Se o preço do produto de um concorrente mudar, isso pode afetar suas vendas. Por exemplo, se o preço do chá cair, as pessoas podem comprar menos café. Isso torna o café \"elástico\", porque uma pequena mudança no preço do chá causou uma grande mudança na venda de café.\n",
        "\n",
        "**Resumindo:**\n",
        "\n",
        "- Demanda mostra as vendas em um preço específico.\n",
        "- Elasticidade mostra como as vendas mudam com diferentes preços.\n",
        "- A equação de demanda ajuda a calcular ambos.\n",
        "- Concorrência pode tornar um produto mais ou menos \"elástico\".\n",
        "\n",
        "Com esses conceitos, empresas podem fazer preços mais inteligentes e maximizar lucros."
      ],
      "metadata": {
        "id": "Gg1AiGRqid7G"
      }
    },
    {
      "cell_type": "markdown",
      "source": [
        "---"
      ],
      "metadata": {
        "id": "jxq07kdDpClu"
      }
    },
    {
      "cell_type": "markdown",
      "source": [
        "# **Projeto de Elasticidade de Preços**\n",
        "\n",
        "O objetivo deste projeto é analisar a elasticidade de preços de um determinado produto ou serviço. Vamos focar em entender como variações no preço afetam o número de vendas. Ao final do projeto, seremos capazes de fornecer insights valiosos sobre como o preço afeta o número de vendas, o que pode ser crucial para estratégias de precificação futuras.\n",
        "\n",
        "Estaremos utilizando um conjunto de dados extenso, mas nossa análise será focada em três variáveis principais:\n",
        "\n",
        "1. Data da venda\n",
        "2. Número de vendas realizadas no período\n",
        "3. Preço do produto ou serviço vendido"
      ],
      "metadata": {
        "id": "DBWu-hzwqLNS"
      }
    },
    {
      "cell_type": "markdown",
      "source": [
        "## **0.0 Imports**\n",
        "Primeiro, vamos importar os dados e dar uma olhada nas primeiras linhas para entender sua estrutura."
      ],
      "metadata": {
        "id": "dtVSnAOepg75"
      }
    },
    {
      "cell_type": "code",
      "execution_count": null,
      "metadata": {
        "id": "uM0RbpvVlZnU"
      },
      "outputs": [],
      "source": [
        "import pandas as pd"
      ]
    },
    {
      "cell_type": "code",
      "source": [
        "# Carregando o conjunto de dados\n",
        "df_raw = pd.read_csv('df_ready.csv')\n",
        "\n",
        "# Visualizando as primeiras linhas do conjunto de dados\n",
        "df_raw.head()"
      ],
      "metadata": {
        "id": "SUaZyzboppuT"
      },
      "execution_count": null,
      "outputs": []
    },
    {
      "cell_type": "markdown",
      "source": [
        "Após a preparação dos dados, realizaremos uma série de análises estatísticas e modelagens para entender a elasticidade de preços. Isso incluirá:\n",
        "\n",
        "1. Análise descritiva das variáveis de interesse.\n",
        "2. Cálculo da elasticidade de preços.\n",
        "3. Modelagem estatística para validar os resultados.\n"
      ],
      "metadata": {
        "id": "CQeHsFDQqTgm"
      }
    },
    {
      "cell_type": "markdown",
      "source": [
        "### **1.0 Descrição dos Dados**\n",
        "O objetivo desta etapa é preparar e entender os dados que serão utilizados para analisar a elasticidade de preços.\n",
        "\n",
        "Para garantir a integridade dos dados originais, uma cópia dos dados brutos é feita e armazenada em um novo DataFrame chamado `df1`. Isso é feito usando o seguinte código:"
      ],
      "metadata": {
        "id": "e4HiVk5_slUF"
      }
    },
    {
      "cell_type": "code",
      "source": [
        "df1 = df_raw.copy()"
      ],
      "metadata": {
        "id": "CI4OV8mlspYn"
      },
      "execution_count": null,
      "outputs": []
    },
    {
      "cell_type": "markdown",
      "source": [
        "A criação de uma cópia dos dados brutos é uma prática recomendada em ciência de dados. Isso permite que você faça todas as manipulações necessárias no conjunto de dados copiado (`df1`), mantendo o conjunto de dados original (`df_raw`) intocado para referência futura ou para correção de erros."
      ],
      "metadata": {
        "id": "cvg3ADdSsppA"
      }
    },
    {
      "cell_type": "code",
      "source": [
        "cols_name = ['date_imp', 'category_name', 'name', 'price', 'disc_price', 'merchant',\n",
        "             'disc_percentage', 'is_sale', 'imp_count', 'brand', 'p_description',\n",
        "             'dateadded', 'dateupdated', 'manufacturer', 'day_n', 'month', 'month_n',\n",
        "             'day', 'week_number']\n",
        "\n",
        "df1.columns = cols_name"
      ],
      "metadata": {
        "id": "oftVv1rPzPK7"
      },
      "execution_count": null,
      "outputs": []
    },
    {
      "cell_type": "markdown",
      "source": [
        "### **1.1 Renomeação de Colunas**"
      ],
      "metadata": {
        "id": "grs_oTOgz7b0"
      }
    },
    {
      "cell_type": "markdown",
      "source": [
        "Ter nomes de colunas intuitivos e descritivos facilita a compreensão do conjunto de dados.\n",
        "Isso também ajuda na documentação e na colaboração, tornando mais fácil para qualquer pessoa entender o que cada coluna representa.\n",
        "\n",
        "Com a renomeação das colunas, o conjunto de dados agora está mais organizado e fácil de entender. Isso prepara o terreno para a análise exploratória de dados (EDA) e modelagem estatística que seguirão."
      ],
      "metadata": {
        "id": "CrXh9Osiz3g1"
      }
    },
    {
      "cell_type": "markdown",
      "source": [
        "### **1.2 Verificação das Dimensões dos Dados**\n",
        "Aqui entendemos a escala do conjunto de dados com o qual estamos trabalhando. Isso nos dará uma ideia inicial da complexidade e do volume de dados que precisaremos analisar.\n",
        "\n",
        "Para verificar as dimensões do DataFrame `df1`, utilizamos os seguintes comandos em Python:\n",
        "\n"
      ],
      "metadata": {
        "id": "qMFeHRKctwZS"
      }
    },
    {
      "cell_type": "code",
      "source": [
        "print(f'Número de linhas: {df1.shape[0]}')\n",
        "print(f'Número de colunas: {df1.shape[1]}')"
      ],
      "metadata": {
        "id": "TG9ZXgs6t62C"
      },
      "execution_count": null,
      "outputs": []
    },
    {
      "cell_type": "markdown",
      "source": [
        "\n",
        "Conhecer o número de linhas e colunas é crucial para entender o tamanho do conjunto de dados. Isso nos ajuda a planejar os próximos passos do projeto, como a limpeza de dados e a modelagem, de forma mais eficiente.\n",
        "\n",
        "Com esses comandos, obtemos uma visão rápida da estrutura do nosso conjunto de dados. Isso nos permite planejar melhor as etapas subsequentes, que podem incluir filtragem, agregação e aplicação de modelos estatísticos para entender a elasticidade de preços.\n"
      ],
      "metadata": {
        "id": "KAItAhZIt-TG"
      }
    },
    {
      "cell_type": "markdown",
      "source": [
        "\n",
        "\n",
        "## **1.2 Análise Exploratória e Preparação dos Dados**\n",
        "\n",
        "Realizaremoa uma análise exploratória inicial para entender a estrutura e as características do conjunto de dados. Além disso, planejamos reduzir a dimensionalidade dos dados para focar nas variáveis mais relevantes para a análise de elasticidade de preços.\n",
        "\n",
        "1. **Dimensionalidade Inicial**: O conjunto de dados `df1` possui 23.151 linhas e 32 colunas.\n",
        "2. **Seleção de Variáveis**: Para a análise de elasticidade, as variáveis primárias de interesse são 'demanda' e 'preço'. No entanto, outras variáveis podem ser consideradas para análises mais profundas.\n",
        "3. **Redução de Dimensionalidade**: Planejamos reduzir o número de colunas, mantendo apenas as que são relevantes para o estudo.\n",
        "4. **Testes Preliminares**: Foram realizados testes em dois tipos de dados para verificar a consistência na aplicação do modelo.\n",
        "5. **Pivotamento dos Dados**: Uma transformação adicional será realizada para reorganizar os dados, o que pode levar a diferentes interpretações, dependendo das variáveis escolhidas.\n",
        "\n",
        "### **Importância**\n",
        "- A redução de dimensionalidade torna o modelo mais eficiente e focado.\n",
        "- A análise exploratória inicial ajuda a entender o comportamento dos dados, o que é crucial antes de aplicar qualquer modelo estatístico.\n",
        "- O pivotamento e a seleção de variáveis permitem flexibilidade na análise, adaptando-se às necessidades específicas do projeto.\n",
        "\n",
        "Nesta subetapa, identificamos a estrutura do conjunto de dados e planejamos as ações para torná-lo mais gerenciável e relevante para a análise de elasticidade de preços. Os próximos passos incluirão a limpeza e transformação dos dados, seguidos pela aplicação de modelos estatísticos para entender a relação entre preço e demanda.\n",
        "\n"
      ],
      "metadata": {
        "id": "eoXm1HLQuBU0"
      }
    },
    {
      "cell_type": "markdown",
      "source": [
        "**Verificação de Tipos de Dados:** Utilizamos o comando `df1.dtypes` para listar os tipos de dados de cada coluna."
      ],
      "metadata": {
        "id": "uhdNLPi1u3Lw"
      }
    },
    {
      "cell_type": "markdown",
      "source": [
        "### **1.3 Tipos de Dados**"
      ],
      "metadata": {
        "id": "V3CT8uxc0Rmm"
      }
    },
    {
      "cell_type": "code",
      "source": [
        "df1.dtypes"
      ],
      "metadata": {
        "id": "Eyazb4gjvpEd"
      },
      "execution_count": null,
      "outputs": []
    },
    {
      "cell_type": "code",
      "source": [
        "df1.columns"
      ],
      "metadata": {
        "id": "rHa65i0Jx2dL"
      },
      "execution_count": null,
      "outputs": []
    },
    {
      "cell_type": "markdown",
      "source": [
        "### **1.4 Check NA**\n",
        "A execução deste comando nos fornecerá um resumo da quantidade de valores ausentes em cada coluna. Com base nessa informação, poderemos tomar decisões informadas sobre como tratar esses valores ausentes nas etapas subsequentes de limpeza de dados.Utilizamos o seguinte comando para verificar a quantidade de valores ausentes em cada coluna do DataFrame df1:"
      ],
      "metadata": {
        "id": "iiN7YZsg0XPS"
      }
    },
    {
      "cell_type": "code",
      "source": [
        "df1.isna().sum()"
      ],
      "metadata": {
        "id": "bcZg7upd0ZDP"
      },
      "execution_count": null,
      "outputs": []
    },
    {
      "cell_type": "markdown",
      "source": [
        "A presença de valores ausentes pode afetar a precisão dos modelos estatísticos.\n",
        "Saber onde estão os valores ausentes ajuda a decidir se eles devem ser preenchidos, ignorados ou se as linhas/colunas devem ser excluídas.\n",
        "\n"
      ],
      "metadata": {
        "id": "C2ZEqwbd082T"
      }
    },
    {
      "cell_type": "markdown",
      "source": [
        "### **1.5 Change types**\n",
        "Para alterar os tipos de dados, utilizaremos comandos específicos em Python, como astype() ou to_datetime(), dependendo do tipo de dado que desejamos."
      ],
      "metadata": {
        "id": "j_GfEzmJ00WO"
      }
    },
    {
      "cell_type": "code",
      "source": [
        "# Convertendo a coluna 'price' para o tipo de dado float.\n",
        "# Isso é feito para permitir operações matemáticas mais precisas com os valores de preço.\n",
        "df1['price'] = df1['price'].astype(float)\n",
        "\n",
        "# Convertendo a coluna 'date_imp' para o tipo de dado de data e hora (datetime).\n",
        "# Isso facilita a manipulação e análise de dados que envolvem informações temporais.\n",
        "df1['date_imp'] = pd.to_datetime(df1['date_imp'])"
      ],
      "metadata": {
        "id": "HslPf0uX1lkF"
      },
      "execution_count": null,
      "outputs": []
    },
    {
      "cell_type": "markdown",
      "source": [
        "Ter os tipos de dados corretos é crucial para a execução eficiente de cálculos e modelos estatísticos. Isso também minimiza o risco de erros e imprecisões que podem surgir devido a tipos de dados inadequados.\n",
        "\n",
        "Com a alteração dos tipos de dados, o conjunto de dados está agora mais bem preparado para análises e modelagens estatísticas. Isso também facilita a manipulação dos dados em etapas futuras."
      ],
      "metadata": {
        "id": "XDsinDPt1qNA"
      }
    },
    {
      "cell_type": "markdown",
      "source": [
        "### **1.7 Descriptive Statistics**\n",
        "O objetivo desta subetapa é gerar estatísticas descritivas para as variáveis numéricas e categóricas do conjunto de dados. Isso nos fornecerá uma visão geral dos dados e ajudará a identificar padrões, anomalias ou necessidades de limpeza adicional.\n",
        "\n",
        "Para separar as variáveis numéricas e categóricas, utilizamos os seguintes comandos:\n",
        "\n"
      ],
      "metadata": {
        "id": "5kRCbUlp2VjM"
      }
    },
    {
      "cell_type": "code",
      "source": [
        "\n",
        "# Selecionando apenas as colunas com tipos de dados numéricos (float e int64)\n",
        "num_attributes = df1.select_dtypes(include=['float', 'int64'])\n",
        "\n",
        "# Selecionando as colunas que não são numéricas (excluindo float e int64)\n",
        "col_attributes = df1.select_dtypes(exclude=['float', 'int64'])"
      ],
      "metadata": {
        "id": "xrSEDhPB2dJ3"
      },
      "execution_count": null,
      "outputs": []
    },
    {
      "cell_type": "markdown",
      "source": [
        "- As estatísticas descritivas das variáveis numéricas nos ajudarão a entender a distribuição, a centralidade e a dispersão dos dados.\n",
        "- Para as variáveis categóricas, entender a frequência das diferentes categorias pode ser útil para a análise.\n",
        "\n",
        "\n",
        "Com a separação das variáveis numéricas e categóricas, estamos agora prontos para calcular estatísticas descritivas que fornecerão insights valiosos para as etapas subsequentes de análise e modelagem.\n"
      ],
      "metadata": {
        "id": "8249XFNk2nT_"
      }
    },
    {
      "cell_type": "code",
      "source": [
        "# Medidas de Tendência Central\n",
        "ct1 = pd.DataFrame(num_attributes.apply(np.mean).T)\n",
        "ct2 = pd.DataFrame(num_attributes.apply(np.median).T)\n",
        "\n",
        "# Medidas de Dispersão\n",
        "d1 = pd.DataFrame(num_attributes.apply(np.std).T)\n",
        "d2 = pd.DataFrame(num_attributes.apply(np.min).T)\n",
        "d3 = pd.DataFrame(num_attributes.apply(np.max).T)\n",
        "d4 = pd.DataFrame(num_attributes.apply(lambda x: x.max() - x.min()).T)\n",
        "d5 = pd.DataFrame(num_attributes.apply(lambda x: x.skew()).T)\n",
        "d6 = pd.DataFrame(num_attributes.apply(lambda x: x.kurtosis()).T)\n",
        "\n",
        "# Consolidando as medidas em um único DataFrame\n",
        "measures = pd.concat([d2, d3, d4, ct1, ct2, d1, d5, d6]).T.reset_index()\n",
        "measures.columns = ['att', 'min', 'max', 'range', 'mean', 'median', 'std', 'skew', 'kurt']"
      ],
      "metadata": {
        "id": "VBTOFogk5_rM"
      },
      "execution_count": null,
      "outputs": []
    },
    {
      "cell_type": "markdown",
      "source": [
        "\n",
        "As medidas de tendência central (média e mediana) fornecem uma ideia do valor \"típico\" para cada atributo.\n",
        "As medidas de dispersão (desvio padrão, mínimo, máximo, amplitude, assimetria e curtose) ajudam a entender a variabilidade e a forma da distribuição dos dados.\n",
        "\n",
        "Com essas medidas calculadas, temos uma visão mais completa e detalhada dos atributos numéricos em nosso conjunto de dados. Isso nos permite fazer análises mais profundas e tomar decisões de modelagem mais informadas."
      ],
      "metadata": {
        "id": "dM_BFrmo58-J"
      }
    },
    {
      "cell_type": "markdown",
      "source": [
        "### **Exploratory Data Analysis**"
      ],
      "metadata": {
        "id": "69AF3YC06Ekn"
      }
    },
    {
      "cell_type": "code",
      "source": [
        "df2 = df1.copy()"
      ],
      "metadata": {
        "id": "EBb7SHZw50Vc"
      },
      "execution_count": null,
      "outputs": []
    },
    {
      "cell_type": "code",
      "source": [
        "df2.head()"
      ],
      "metadata": {
        "id": "6zFtUpcW5247"
      },
      "execution_count": null,
      "outputs": []
    },
    {
      "cell_type": "code",
      "source": [
        "df2.columns"
      ],
      "metadata": {
        "id": "rT_5LZ4X56RI"
      },
      "execution_count": null,
      "outputs": []
    },
    {
      "cell_type": "markdown",
      "source": [
        "### **Questões do Projeto**\n",
        "\n",
        "1. **Qual o merchant que mais vendeu?**\n",
        "   - Qual é o merchant que mais vendeu em termos de volume de vendas nos últimos 30 dias?\n",
        "   - Qual merchant tem a maior receita acumulada no último trimestre?\n",
        "\n",
        "2. **Qual a categoria mais vendida?**\n",
        "   - Qual categoria de produtos teve o maior volume de vendas no último mês?\n",
        "   - Qual categoria gerou a maior receita no último ano?\n",
        "\n",
        "3. **Qual a marca mais vendida?**\n",
        "   - Qual marca teve o maior número de unidades vendidas na última semana?\n",
        "   - Qual marca gerou a maior receita no último semestre?\n",
        "\n",
        "4. **Quais os dias que mais vendem?**\n",
        "   - Em quais dias da semana o volume de vendas é tipicamente mais alto?\n",
        "   - Há algum dia específico do mês que se destaca em termos de vendas?\n",
        "\n",
        "5. **Quais os meses que mais vendem?**\n",
        "   - Quais meses do ano apresentam o maior volume de vendas?\n",
        "   - Existe uma sazonalidade mensal nas vendas? Se sim, quais são os meses de pico?\n",
        "\n",
        "6. **Quais as semanas que mais vendem?**\n",
        "   - Quais semanas do ano registraram o maior volume de vendas?\n",
        "   - Existe alguma semana específica que se destaca em termos de receita gerada?"
      ],
      "metadata": {
        "id": "OTkxDUOc58JZ"
      }
    },
    {
      "cell_type": "markdown",
      "source": [
        "### 1. **Qual o merchant que mais vendeu?**"
      ],
      "metadata": {
        "id": "LIswo-x481yN"
      }
    },
    {
      "cell_type": "code",
      "source": [
        "# Importa as bibliotecas necessárias\n",
        "import pandas as pd\n",
        "import seaborn as sns\n",
        "import matplotlib.pyplot as plt\n",
        "\n",
        "# --- Preparação dos Dados ---\n",
        "# Agrupa o DataFrame original (df2) por 'merchant' e conta o número de vendas\n",
        "# O resultado é um novo DataFrame chamado 'grouped_merchants'\n",
        "grouped_merchants = df2.groupby('merchant').size().reset_index(name='total_sales')\n",
        "\n",
        "# Ordena este novo DataFrame por 'total_sales' em ordem decrescente\n",
        "grouped_merchants_sorted = grouped_merchants.sort_values(by='total_sales', ascending=False)\n",
        "\n",
        "# --- Configuração da Visualização ---\n",
        "# Define o tamanho da figura para o gráfico (10 unidades de largura por 6 de altura)\n",
        "plt.figure(figsize=(10, 6))\n",
        "\n",
        "# Define o estilo do gráfico como \"whitegrid\" para um visual mais limpo\n",
        "sns.set(style=\"whitegrid\")\n",
        "\n",
        "# --- Criação do Gráfico ---\n",
        "# Utiliza a biblioteca Seaborn para criar o gráfico de barras\n",
        "sns.barplot(x='merchant', y='total_sales', data=grouped_merchants_sorted)\n",
        "\n",
        "# --- Personalização do Gráfico ---\n",
        "# Adiciona um título ao gráfico\n",
        "plt.title('Vendas por Comerciante')\n",
        "\n",
        "# Nomeia o eixo X como 'Comerciante'\n",
        "plt.xlabel('Comerciante')\n",
        "\n",
        "# Nomeia o eixo Y como 'Total de Vendas'\n",
        "plt.ylabel('Total de Vendas')\n",
        "\n",
        "# Rotaciona os rótulos do eixo X em 45 graus para melhor visualização\n",
        "plt.xticks(rotation=45)\n",
        "\n",
        "# --- Finalização ---\n",
        "# Ajusta o layout para evitar sobreposições\n",
        "plt.tight_layout()\n",
        "\n",
        "# Exibe o gráfico\n",
        "plt.show()"
      ],
      "metadata": {
        "id": "QLZYmLIH5-q8"
      },
      "execution_count": null,
      "outputs": []
    },
    {
      "cell_type": "code",
      "source": [
        "# --- Preparação Inicial ---\n",
        "# Lista de nomes dos comerciantes que queremos filtrar no DataFrame original\n",
        "merchants_to_filter = ['Bestbuy.com', 'bhphotovideo.com', 'Walmart.com', 'ebay.com']\n",
        "\n",
        "# Inicializa um dicionário vazio para armazenar os DataFrames filtrados\n",
        "filtered_dfs = {}\n",
        "\n",
        "# --- Filtragem dos Dados ---\n",
        "# Percorre a lista de comerciantes para realizar o filtro\n",
        "for merchant in merchants_to_filter:\n",
        "    # Filtra o DataFrame original (df2) com base no nome do comerciante\n",
        "    # O resultado é armazenado no dicionário, com o nome do comerciante como chave\n",
        "    filtered_dfs[merchant] = df2[df2['merchant'] == merchant]\n",
        "\n",
        "# --- Acesso aos Dados Filtrados ---\n",
        "# Neste ponto, 'filtered_dfs' contém os DataFrames filtrados,\n",
        "# e você pode acessá-los usando o nome do comerciante como chave.\n",
        "# Por exemplo, para acessar o DataFrame de 'Bestbuy.com', você pode usar: filtered_dfs['Bestbuy.com']"
      ],
      "metadata": {
        "id": "VDflvSXt9KLU"
      },
      "execution_count": null,
      "outputs": []
    },
    {
      "cell_type": "markdown",
      "source": [
        "## **2.2 Qual é a categoria mais vendidas**"
      ],
      "metadata": {
        "id": "kJCsL7tQ9Rki"
      }
    },
    {
      "cell_type": "markdown",
      "source": [
        "### **2.2.1 Qual é a categoria mais vendida no geral?**"
      ],
      "metadata": {
        "id": "Zd9BrmLh9Xoy"
      }
    },
    {
      "cell_type": "code",
      "source": [
        "import matplotlib.pyplot as plt\n",
        "import seaborn as sns\n",
        "\n",
        "# Agrupa por 'category_name', conta as vendas e ordena os resultados\n",
        "grouped_categories = df2.groupby('category_name').size().reset_index(name='total_sales').sort_values(by='total_sales', ascending=False)\n",
        "\n",
        "# Configura o gráfico\n",
        "plt.figure(figsize=(20, 10))  # Tamanho da figura\n",
        "sns.set(style=\"whitegrid\")  # Estilo de fundo\n",
        "\n",
        "# Cria o gráfico de barras\n",
        "sns.barplot(x='category_name', y='total_sales', data=grouped_categories)\n",
        "\n",
        "# Personaliza título e eixos\n",
        "plt.title('Vendas por Categoria')\n",
        "plt.xlabel('Categoria')\n",
        "plt.ylabel('Total de Vendas')\n",
        "plt.xticks(rotation=90)  # Rotação dos rótulos para melhor visualização\n",
        "\n",
        "# Mostra o gráfico\n",
        "plt.show()"
      ],
      "metadata": {
        "id": "Scm-v4r-9W3x"
      },
      "execution_count": null,
      "outputs": []
    },
    {
      "cell_type": "markdown",
      "source": [
        "### **2.2.1 Qual é a categoria mais vendida por loja?**"
      ],
      "metadata": {
        "id": "SWUqTaUP9oCK"
      }
    },
    {
      "cell_type": "code",
      "source": [
        "import matplotlib.pyplot as plt\n",
        "import seaborn as sns\n",
        "\n",
        "# --- Configurações Iniciais do Gráfico ---\n",
        "# Define o tamanho da figura para acomodar todos os gráficos (30 de largura, 20 de altura)\n",
        "plt.figure(figsize=(30, 20))\n",
        "\n",
        "# --- Gráfico 1: Bestbuy.com ---\n",
        "# Escolhe a primeira posição em uma grade de 2x2 para este gráfico\n",
        "plt.subplot(2, 2, 1)\n",
        "\n",
        "# Agrupa os dados de Bestbuy.com por 'category_name', conta as ocorrências e ordena em ordem decrescente\n",
        "dados_bestbuy = df_best.groupby('category_name').count().reset_index().sort_values(by='date_imp', ascending=False)\n",
        "\n",
        "# Cria o gráfico de barras\n",
        "sns.barplot(x='category_name', y='date_imp', data=dados_bestbuy)\n",
        "\n",
        "# Adiciona um título ao gráfico e roda os rótulos do eixo X para melhor visualização\n",
        "plt.title('Bestbuy.com', fontsize=16)\n",
        "plt.xticks(rotation=90, fontsize=12)\n",
        "\n",
        "# --- Gráfico 2: bhphotovideo.com ---\n",
        "# Escolhe a segunda posição em uma grade de 2x2 para este gráfico\n",
        "plt.subplot(2, 2, 2)\n",
        "\n",
        "# Processamento semelhante ao primeiro gráfico, mas para bhphotovideo.com\n",
        "dados_bhp = df_bhp.groupby('category_name').count().reset_index().sort_values(by='date_imp', ascending=False)\n",
        "sns.barplot(x='category_name', y='date_imp', data=dados_bhp)\n",
        "plt.title('bhphotovideo.com', fontsize=16)\n",
        "plt.xticks(rotation=90, fontsize=12)\n",
        "\n",
        "# --- Gráfico 3: Ebay.com ---\n",
        "# Terceira posição\n",
        "plt.subplot(2, 2, 3)\n",
        "\n",
        "# Processamento semelhante aos gráficos anteriores, mas para Ebay.com\n",
        "dados_ebay = df_ebay.groupby('category_name').count().reset_index().sort_values(by='date_imp', ascending=False)\n",
        "sns.barplot(x='category_name', y='date_imp', data=dados_ebay)\n",
        "plt.title('Ebay.com', fontsize=16)\n",
        "plt.xticks(rotation=90, fontsize=12)\n",
        "\n",
        "# --- Gráfico 4: Walmart.com ---\n",
        "# Quarta posição\n",
        "plt.subplot(2, 2, 4)\n",
        "\n",
        "# Processamento semelhante aos gráficos anteriores, mas para Walmart.com\n",
        "dados_walmart = df_walmart.groupby('category_name').count().reset_index().sort_values(by='date_imp', ascending=False)\n",
        "sns.barplot(x='category_name', y='date_imp', data=dados_walmart)\n",
        "plt.title('Walmart.com', fontsize=16)\n",
        "plt.xticks(rotation=90, fontsize=12)\n",
        "\n",
        "# --- Ajustes Finais ---\n",
        "# Ajusta o layout para evitar sobreposições\n",
        "plt.tight_layout()\n",
        "\n",
        "# Exibe os gráficos\n",
        "plt.show()"
      ],
      "metadata": {
        "id": "-SACKWWi981q"
      },
      "execution_count": null,
      "outputs": []
    },
    {
      "cell_type": "markdown",
      "source": [
        "### **2.3 Qual é a marca mais vendida?**"
      ],
      "metadata": {
        "id": "imiWbcbL-yn0"
      }
    },
    {
      "cell_type": "code",
      "source": [
        "import matplotlib.pyplot as plt\n",
        "import seaborn as sns\n",
        "\n",
        "# --- Preparação dos Dados ---\n",
        "# Agrupa os dados por 'brand', conta as ocorrências de cada uma e ordena em ordem decrescente.\n",
        "# Mantém apenas as 10 marcas mais vendidas para o gráfico.\n",
        "grouped_brands = df2.groupby('brand').size().reset_index(name='total_sales').sort_values(by='total_sales', ascending=False).head(10)\n",
        "\n",
        "# --- Configurações Iniciais do Gráfico ---\n",
        "# Configura o tamanho da figura (20 de largura, 8 de altura)\n",
        "plt.figure(figsize=(20, 8))\n",
        "\n",
        "# Configura o estilo do gráfico para \"whitegrid\", que é um dos estilos do Seaborn\n",
        "sns.set(style=\"whitegrid\")\n",
        "\n",
        "# --- Criação do Gráfico ---\n",
        "# Cria o gráfico de barras usando os dados das 10 marcas mais vendidas\n",
        "sns.barplot(x='brand', y='total_sales', data=grouped_brands)\n",
        "\n",
        "# --- Personalizações Visuais ---\n",
        "# Adiciona um título ao gráfico e ajusta o tamanho da fonte\n",
        "plt.title('Top 10 Marcas Mais Vendidas', fontsize=16)\n",
        "\n",
        "# Adiciona rótulos para os eixos X e Y e ajusta o tamanho da fonte\n",
        "plt.xlabel('Marca', fontsize=14)\n",
        "plt.ylabel('Total de Vendas', fontsize=14)\n",
        "\n",
        "# Rotação dos rótulos do eixo X para evitar sobreposição e ajuste do tamanho da fonte\n",
        "plt.xticks(rotation=45, fontsize=12)\n",
        "\n",
        "# --- Exibição do Gráfico ---\n",
        "# Mostra o gráfico finalizado\n",
        "plt.show()"
      ],
      "metadata": {
        "id": "TpKVQV01-24N"
      },
      "execution_count": null,
      "outputs": []
    },
    {
      "cell_type": "markdown",
      "source": [
        "### **2.3 Qual é a Marca mais vendida por Loja?**"
      ],
      "metadata": {
        "id": "AdSPFyDo_L3J"
      }
    },
    {
      "cell_type": "code",
      "source": [
        "import matplotlib.pyplot as plt\n",
        "import seaborn as sns\n",
        "\n",
        "# Configura o tamanho total da figura (30 de largura, 20 de altura)\n",
        "plt.figure(figsize=(30, 20))\n",
        "\n",
        "# --- Primeiro Gráfico (Bestbuy.com) ---\n",
        "# Seleciona a posição 1 em uma grade de 2x2 para esse gráfico\n",
        "plt.subplot(2, 2, 1)\n",
        "\n",
        "# Agrupa por 'brand', conta as ocorrências e ordena em ordem decrescente, pegando apenas as 5 primeiras\n",
        "aux8 = df_best.groupby('brand').count().reset_index().sort_values(by='date_imp', ascending=False).head(5)\n",
        "\n",
        "# Cria o gráfico de barras\n",
        "sns.barplot(x='brand', y='date_imp', data=aux8)\n",
        "\n",
        "# Adiciona título e rótulos para os eixos\n",
        "plt.title('Bestbuy.com', fontsize=16)\n",
        "plt.xlabel('Marca', fontsize=14)\n",
        "plt.ylabel('Total de Vendas', fontsize=14)\n",
        "plt.xticks(rotation=45, fontsize=12)  # Rotação das legendas do eixo x para melhor visualização\n",
        "\n",
        "# --- Segundo Gráfico (bhphotovideo.com) ---\n",
        "plt.subplot(2, 2, 2)\n",
        "aux9 = df_bhp.groupby('brand').count().reset_index().sort_values(by='date_imp', ascending=False).head(5)\n",
        "sns.barplot(x='brand', y='date_imp', data=aux9)\n",
        "plt.title('bhphotovideo.com', fontsize=16)\n",
        "plt.xlabel('Marca', fontsize=14)\n",
        "plt.ylabel('Total de Vendas', fontsize=14)\n",
        "plt.xticks(rotation=45, fontsize=12)\n",
        "\n",
        "# --- Terceiro Gráfico (Ebay.com) ---\n",
        "plt.subplot(2, 2, 3)\n",
        "aux10 = df_ebay.groupby('brand').count().reset_index().sort_values(by='date_imp', ascending=False).head(5)\n",
        "sns.barplot(x='brand', y='date_imp', data=aux10)\n",
        "plt.title('Ebay.com', fontsize=16)\n",
        "plt.xlabel('Marca', fontsize=14)\n",
        "plt.ylabel('Total de Vendas', fontsize=14)\n",
        "plt.xticks(rotation=45, fontsize=12)\n",
        "\n",
        "# --- Quarto Gráfico (Walmart.com) ---\n",
        "plt.subplot(2, 2, 4)\n",
        "aux11 = df_walmart.groupby('brand').count().reset_index().sort_values(by='date_imp', ascending=False).head(5)\n",
        "sns.barplot(x='brand', y='date_imp', data=aux11)\n",
        "plt.title('Walmart.com', fontsize=16)\n",
        "plt.xlabel('Marca', fontsize=14)\n",
        "plt.ylabel('Total de Vendas', fontsize=14)\n",
        "plt.xticks(rotation=45, fontsize=12)\n",
        "\n",
        "# Ajusta o layout para que os gráficos não se sobreponham\n",
        "plt.tight_layout()\n",
        "\n",
        "# Mostra todos os gráficos\n",
        "plt.show()"
      ],
      "metadata": {
        "id": "_-75MPT-_P0N"
      },
      "execution_count": null,
      "outputs": []
    },
    {
      "cell_type": "markdown",
      "source": [
        "## **2.4 Quais os dias que mais vendem?**"
      ],
      "metadata": {
        "id": "sjA850cw_xjn"
      }
    },
    {
      "cell_type": "code",
      "source": [
        "import matplotlib.pyplot as plt\n",
        "import seaborn as sns\n",
        "\n",
        "# Configura o tamanho da figura onde o gráfico será plotado (20 de largura, 8 de altura)\n",
        "plt.figure(figsize=(20, 8))\n",
        "\n",
        "# Agrupa os dados por 'day_n', conta as ocorrências e ordena em ordem decrescente\n",
        "aux12 = df2.groupby('day_n').count().reset_index().sort_values(by='date_imp', ascending=False)\n",
        "\n",
        "# Cria o gráfico de barras usando a biblioteca Seaborn\n",
        "sns.barplot(x='day_n', y='date_imp', data=aux12)\n",
        "\n",
        "# Configurações adicionais para melhorar a visualização do gráfico\n",
        "plt.title('Vendas por Dia', fontsize=16)  # Título do gráfico\n",
        "plt.xlabel('Dia da Semana', fontsize=14)  # Rótulo do eixo X\n",
        "plt.ylabel('Total de Vendas', fontsize=14)  # Rótulo do eixo Y\n",
        "plt.xticks(rotation=45, fontsize=12)  # Rotação dos rótulos do eixo X e ajuste do tamanho da fonte\n",
        "\n",
        "# Exibe o gráfico\n",
        "plt.show()"
      ],
      "metadata": {
        "id": "V7SjidJh_4rL"
      },
      "execution_count": null,
      "outputs": []
    },
    {
      "cell_type": "markdown",
      "source": [
        "### **2.4.1 Quais os Dias que mais vendem por Loja?**"
      ],
      "metadata": {
        "id": "G-e6s2QPANu5"
      }
    },
    {
      "cell_type": "code",
      "source": [
        "import matplotlib.pyplot as plt\n",
        "import seaborn as sns\n",
        "\n",
        "# Configura o tamanho da figura onde os gráficos serão plotados\n",
        "plt.figure(figsize=(30, 20))\n",
        "\n",
        "# ------ Gráfico para Bestbuy.com ------\n",
        "plt.subplot(2, 2, 1)  # Define a posição do primeiro gráfico (superior esquerdo)\n",
        "\n",
        "# Agrupa os dados por 'day_n', conta e ordena em ordem decrescente\n",
        "aux13 = df_best.groupby('day_n').count().reset_index().sort_values(by='date_imp', ascending=False)\n",
        "\n",
        "# Plot do gráfico\n",
        "sns.barplot(x='day_n', y='date_imp', data=aux13)\n",
        "\n",
        "# Configurações do gráfico\n",
        "plt.title('Bestbuy.com', fontsize=16)\n",
        "plt.xticks(rotation=45, fontsize=12)\n",
        "\n",
        "# ------ Gráfico para bhphotovideo.com ------\n",
        "plt.subplot(2, 2, 2)\n",
        "aux14 = df_bhp.groupby('day_n').count().reset_index().sort_values(by='date_imp', ascending=False)\n",
        "sns.barplot(x='day_n', y='date_imp', data=aux14)\n",
        "plt.title('bhphotovideo.com', fontsize=16)\n",
        "plt.xticks(rotation=45, fontsize=12)\n",
        "\n",
        "# ------ Gráfico para Ebay.com ------\n",
        "plt.subplot(2, 2, 3)\n",
        "aux15 = df_ebay.groupby('day_n').count().reset_index().sort_values(by='date_imp', ascending=False)\n",
        "sns.barplot(x='day_n', y='date_imp', data=aux15)\n",
        "plt.title('Ebay.com', fontsize=16)\n",
        "plt.xticks(rotation=45, fontsize=12)\n",
        "\n",
        "# ------ Gráfico para Walmart.com ------\n",
        "plt.subplot(2, 2, 4)\n",
        "aux16 = df_walmart.groupby('day_n').count().reset_index().sort_values(by='date_imp', ascending=False)\n",
        "sns.barplot(x='day_n', y='date_imp', data=aux16)\n",
        "plt.title('Walmart.com', fontsize=16)\n",
        "plt.xticks(rotation=45, fontsize=12)\n",
        "\n",
        "# Ajusta o layout para evitar sobreposições e exibe os gráficos\n",
        "plt.tight_layout()\n",
        "plt.show()\n"
      ],
      "metadata": {
        "id": "PKOZrdaAAr9U"
      },
      "execution_count": null,
      "outputs": []
    },
    {
      "cell_type": "markdown",
      "source": [
        "## **2.5 Quais os Meses que mais vendem?**"
      ],
      "metadata": {
        "id": "fwx_ZPuYCVUP"
      }
    },
    {
      "cell_type": "code",
      "source": [
        "import matplotlib.pyplot as plt\n",
        "import seaborn as sns\n",
        "\n",
        "# Configura tamanho da figura\n",
        "plt.figure(figsize=(20, 8))\n",
        "\n",
        "# Agrupa por mês e conta vendas, depois ordena\n",
        "aux17 = df2.groupby('month_n').count().reset_index().sort_values(by='date_imp', ascending=False)\n",
        "\n",
        "# Cria gráfico de barras\n",
        "sns.barplot(x='month_n', y='date_imp', data=aux17)\n",
        "\n",
        "# Ajusta rótulos do eixo X\n",
        "plt.xticks(rotation=90, fontsize=12)\n",
        "\n",
        "# Mostra gráfico\n",
        "plt.show()"
      ],
      "metadata": {
        "id": "MqT2GC00CbX3"
      },
      "execution_count": null,
      "outputs": []
    },
    {
      "cell_type": "markdown",
      "source": [
        "### **2.5.1 Quais os Meses que mais vendem por Loja?**"
      ],
      "metadata": {
        "id": "NFLZ1C5JCzXK"
      }
    },
    {
      "cell_type": "code",
      "source": [
        "import matplotlib.pyplot as plt\n",
        "import seaborn as sns\n",
        "\n",
        "# Configura tamanho da figura\n",
        "plt.figure(figsize=(30, 20))\n",
        "\n",
        "# Gráfico 1 (Bestbuy.com)\n",
        "plt.subplot(2, 2, 1)\n",
        "aux18 = df_best.groupby('month_n').count().reset_index().sort_values(by='date_imp', ascending=False)\n",
        "sns.barplot(x='month_n', y='date_imp', data=aux18)\n",
        "plt.title('Bestbuy.com')\n",
        "plt.xticks(rotation=90, fontsize=12)\n",
        "\n",
        "# Gráfico 2 (bhphotovideo.com)\n",
        "plt.subplot(2, 2, 2)\n",
        "aux19 = df_bhp.groupby('month_n').count().reset_index().sort_values(by='date_imp', ascending=False)\n",
        "sns.barplot(x='month_n', y='date_imp', data=aux19)\n",
        "plt.title('bhphotvideo.com')\n",
        "plt.xticks(rotation=90, fontsize=12)\n",
        "\n",
        "# Gráfico 3 (Ebay.com)\n",
        "plt.subplot(2, 2, 3)\n",
        "aux20 = df_ebay.groupby('month_n').count().reset_index().sort_values(by='date_imp', ascending=False)\n",
        "sns.barplot(x='month_n', y='date_imp', data=aux20)\n",
        "plt.title('Ebay.com')\n",
        "plt.xticks(rotation=90, fontsize=12)\n",
        "\n",
        "# Gráfico 4 (Walmart.com)\n",
        "plt.subplot(2, 2, 4)\n",
        "aux21 = df_walmart.groupby('month_n').count().reset_index().sort_values(by='date_imp', ascending=False)\n",
        "sns.barplot(x='month_n', y='date_imp', data=aux21)\n",
        "plt.title('Walmart.com')\n",
        "plt.xticks(rotation=90, fontsize=12)\n",
        "\n",
        "# Ajusta layout\n",
        "plt.tight_layout()\n",
        "\n",
        "# Mostra gráfico\n",
        "plt.show()"
      ],
      "metadata": {
        "id": "MJBroDsEC5is"
      },
      "execution_count": null,
      "outputs": []
    },
    {
      "cell_type": "code",
      "source": [
        "df2.columns"
      ],
      "metadata": {
        "id": "FaG70KJBDOiw"
      },
      "execution_count": null,
      "outputs": []
    },
    {
      "cell_type": "markdown",
      "source": [
        "## **2.6 Quais são as semanas que mais vendem?**"
      ],
      "metadata": {
        "id": "BMUembseDT55"
      }
    },
    {
      "cell_type": "code",
      "source": [
        "import matplotlib.pyplot as plt\n",
        "import seaborn as sns\n",
        "\n",
        "# Configura tamanho da figura\n",
        "plt.figure(figsize=(20, 8))\n",
        "\n",
        "# Agrupa por semana e conta vendas\n",
        "aux22 = df2.groupby('week_number').count().reset_index().sort_values(by='date_imp', ascending=False)\n",
        "\n",
        "# Cria gráfico de barras\n",
        "sns.barplot(x='week_number', y='date_imp', data=aux22)\n",
        "\n",
        "# Configura rótulos e título\n",
        "plt.xticks(rotation=90, fontsize=12)\n",
        "\n",
        "# Mostra gráfico\n",
        "plt.show()"
      ],
      "metadata": {
        "id": "bLJh2xRJDo_b"
      },
      "execution_count": null,
      "outputs": []
    },
    {
      "cell_type": "markdown",
      "source": [
        "### **2.6.1 Quais as semanas que mais vendem por Loja?**"
      ],
      "metadata": {
        "id": "GaWkFG_eEC6U"
      }
    },
    {
      "cell_type": "code",
      "source": [
        "import matplotlib.pyplot as plt\n",
        "import seaborn as sns\n",
        "\n",
        "# Configura tamanho da figura\n",
        "plt.figure(figsize=(20, 8))\n",
        "\n",
        "# Agrupa os dados por 'week_number' e conta as ocorrências, depois ordena por contagem\n",
        "vendas_por_semana = df2.groupby('week_number').size().reset_index(name='total_vendas').sort_values(by='total_vendas', ascending=False)\n",
        "\n",
        "# Cria o gráfico de barras\n",
        "sns.barplot(x='week_number', y='total_vendas', data=vendas_por_semana)\n",
        "\n",
        "# Personaliza o gráfico\n",
        "plt.title('Vendas Totais por Semana', fontsize=16)\n",
        "plt.xlabel('Número da Semana', fontsize=14)\n",
        "plt.ylabel('Total de Vendas', fontsize=14)\n",
        "plt.xticks(rotation=90, fontsize=12)\n",
        "\n",
        "# Ajusta layout e exibe o gráfico\n",
        "plt.tight_layout()\n",
        "plt.show()\n"
      ],
      "metadata": {
        "id": "ipN7clIoEfO4"
      },
      "execution_count": null,
      "outputs": []
    }
  ]
}